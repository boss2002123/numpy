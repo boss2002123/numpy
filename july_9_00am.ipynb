{
  "nbformat": 4,
  "nbformat_minor": 0,
  "metadata": {
    "colab": {
      "provenance": [],
      "mount_file_id": "1kW-buVY0DrZlTwMvImoVaUTVMqKjs3Vi",
      "authorship_tag": "ABX9TyNZRRN4Z5JVa/vW+mVG59SC",
      "include_colab_link": true
    },
    "kernelspec": {
      "name": "python3",
      "display_name": "Python 3"
    },
    "language_info": {
      "name": "python"
    }
  },
  "cells": [
    {
      "cell_type": "markdown",
      "metadata": {
        "id": "view-in-github",
        "colab_type": "text"
      },
      "source": [
        "<a href=\"https://colab.research.google.com/github/boss2002123/numpy/blob/main/july_9_00am.ipynb\" target=\"_parent\"><img src=\"https://colab.research.google.com/assets/colab-badge.svg\" alt=\"Open In Colab\"/></a>"
      ]
    },
    {
      "cell_type": "code",
      "execution_count": null,
      "metadata": {
        "colab": {
          "base_uri": "https://localhost:8080/"
        },
        "id": "ziGtDTwbkytb",
        "outputId": "79fb3d37-fea2-4e33-c136-10f4cae97dc9"
      },
      "outputs": [
        {
          "output_type": "stream",
          "name": "stdout",
          "text": [
            "hello world\n"
          ]
        }
      ],
      "source": [
        "print(\"hello world\")  #this is a python program to display a text\n",
        "\n",
        "#comments"
      ]
    },
    {
      "cell_type": "markdown",
      "source": [
        "This is a python program to print a text\n"
      ],
      "metadata": {
        "id": "MrTbH308qK2Z"
      }
    },
    {
      "cell_type": "code",
      "source": [
        "print(\"apple\\n1122\") #for printing in newline"
      ],
      "metadata": {
        "colab": {
          "base_uri": "https://localhost:8080/"
        },
        "id": "UsaHinF-qcdr",
        "outputId": "882d49d1-92b3-4404-d111-9ce86e183f50"
      },
      "execution_count": null,
      "outputs": [
        {
          "output_type": "stream",
          "name": "stdout",
          "text": [
            "apple\n",
            "1122\n"
          ]
        }
      ]
    },
    {
      "cell_type": "code",
      "source": [
        "print(\"apple\")\n",
        "print(\"1122\")"
      ],
      "metadata": {
        "colab": {
          "base_uri": "https://localhost:8080/"
        },
        "id": "fJk8vJQisVh_",
        "outputId": "3d36f140-b214-4d85-e54d-163ebda1a023"
      },
      "execution_count": null,
      "outputs": [
        {
          "output_type": "stream",
          "name": "stdout",
          "text": [
            "apple\n",
            "1122\n"
          ]
        }
      ]
    },
    {
      "cell_type": "code",
      "source": [
        "print(\"apple\\t1122\")"
      ],
      "metadata": {
        "colab": {
          "base_uri": "https://localhost:8080/"
        },
        "id": "U9jAWhThseY1",
        "outputId": "10100651-d6a8-4e3c-a9c1-3d39ffd6bb99"
      },
      "execution_count": null,
      "outputs": [
        {
          "output_type": "stream",
          "name": "stdout",
          "text": [
            "apple\t1122\n"
          ]
        }
      ]
    },
    {
      "cell_type": "code",
      "source": [
        "a=5\n",
        "b=\"apple\"\n",
        "\n",
        "print(a)\n",
        "\n",
        "print(b)"
      ],
      "metadata": {
        "colab": {
          "base_uri": "https://localhost:8080/"
        },
        "id": "ECz8P04Bt4Sv",
        "outputId": "a7b00075-9085-482f-fb30-4c708455cfff"
      },
      "execution_count": null,
      "outputs": [
        {
          "output_type": "stream",
          "name": "stdout",
          "text": [
            "5\n",
            "apple\n"
          ]
        }
      ]
    },
    {
      "cell_type": "code",
      "source": [
        "#ord\n",
        "print(ord(\"a\"))\n",
        "#chr\n",
        "print(chr(97))"
      ],
      "metadata": {
        "colab": {
          "base_uri": "https://localhost:8080/"
        },
        "id": "_QrW2vYAuqPs",
        "outputId": "79674ab9-ad32-4d04-fc81-48460932f53b"
      },
      "execution_count": null,
      "outputs": [
        {
          "output_type": "stream",
          "name": "stdout",
          "text": [
            "97\n",
            "a\n"
          ]
        }
      ]
    },
    {
      "cell_type": "code",
      "source": [
        "#encode and decode\n",
        "\n",
        "text=\"apple♥à\"\n",
        "\n",
        "en=text.encode()\n",
        "\n",
        "\n",
        "de=en.decode()\n",
        "\n",
        "print(en)\n",
        "print(de)"
      ],
      "metadata": {
        "colab": {
          "base_uri": "https://localhost:8080/"
        },
        "id": "SUiHSIO1vZ6d",
        "outputId": "2b04c445-f2f9-4c03-e84b-55b92c9c5ee2"
      },
      "execution_count": null,
      "outputs": [
        {
          "output_type": "stream",
          "name": "stdout",
          "text": [
            "b'apple\\xe2\\x99\\xa5\\xc3\\xa0'\n",
            "apple♥à\n"
          ]
        }
      ]
    },
    {
      "cell_type": "code",
      "source": [
        "#unicode\n",
        "\n",
        "print(\"\\u2234\")"
      ],
      "metadata": {
        "colab": {
          "base_uri": "https://localhost:8080/"
        },
        "id": "ubho7rsrxvk-",
        "outputId": "ab96af8c-337d-4e37-a512-e0d5ef3b77fb"
      },
      "execution_count": null,
      "outputs": [
        {
          "output_type": "stream",
          "name": "stdout",
          "text": [
            "∴\n"
          ]
        }
      ]
    },
    {
      "cell_type": "code",
      "source": [
        "name=\"John Wick\"\n",
        "\n",
        "print(name)\n",
        "\n",
        "age=40\n",
        "\n",
        "print(age)\n",
        "\n",
        "pi=3.14\n",
        "\n",
        "print(pi)"
      ],
      "metadata": {
        "colab": {
          "base_uri": "https://localhost:8080/"
        },
        "id": "IUwkpCTxyyOA",
        "outputId": "ed4be485-f829-4e71-dc69-88a837d53c75"
      },
      "execution_count": null,
      "outputs": [
        {
          "output_type": "stream",
          "name": "stdout",
          "text": [
            "John Wick\n",
            "40\n",
            "3.14\n"
          ]
        }
      ]
    },
    {
      "cell_type": "code",
      "source": [
        "#multiple variable assignment\n",
        "\n",
        "a,b=12,34"
      ],
      "metadata": {
        "id": "kBis6Rbfzf-u"
      },
      "execution_count": null,
      "outputs": []
    },
    {
      "cell_type": "code",
      "source": [
        "#wap to swap two numbers\n",
        "\n",
        "a,b=2,3\n",
        "\n",
        "a,b=b,a\n",
        "\n",
        "print(a,b)\n",
        "# print(b)"
      ],
      "metadata": {
        "colab": {
          "base_uri": "https://localhost:8080/"
        },
        "id": "QcPUB3o1z5Df",
        "outputId": "88208057-08b1-481e-8e22-375bddf87674"
      },
      "execution_count": null,
      "outputs": [
        {
          "output_type": "stream",
          "name": "stdout",
          "text": [
            "3 2\n"
          ]
        }
      ]
    },
    {
      "cell_type": "code",
      "source": [
        "#wap to print area of a circle with radious 2 and value of pi is 3.14\n",
        "\n",
        "pi=3.14\n",
        "\n",
        "r=2\n",
        "\n",
        "area=pi*r*r\n",
        "\n",
        "print(\"area of the circle is :\",area)"
      ],
      "metadata": {
        "colab": {
          "base_uri": "https://localhost:8080/"
        },
        "id": "ZKdQzYvJpv7-",
        "outputId": "b65aedd5-cb5c-486f-9a80-31cd9a21bd5b"
      },
      "execution_count": null,
      "outputs": [
        {
          "output_type": "stream",
          "name": "stdout",
          "text": [
            "area of the circle is : 12.56\n"
          ]
        }
      ]
    },
    {
      "cell_type": "code",
      "source": [
        "#wap to find perimeter of a circle\n",
        "\n",
        "pi=3.14\n",
        "r=5\n",
        "\n",
        "print(2*pi*r)"
      ],
      "metadata": {
        "colab": {
          "base_uri": "https://localhost:8080/"
        },
        "id": "Krtcn9iqq94x",
        "outputId": "17d7894d-333a-4e39-ca10-73bc814395bc"
      },
      "execution_count": null,
      "outputs": [
        {
          "output_type": "stream",
          "name": "stdout",
          "text": [
            "31.400000000000002\n"
          ]
        }
      ]
    },
    {
      "cell_type": "code",
      "source": [
        "first_name=\"John\"\n",
        "\n",
        "last_name=\"Wick\"\n",
        "\n",
        "full_name=first_name+\" \"+last_name\n",
        "\n",
        "print(full_name)"
      ],
      "metadata": {
        "colab": {
          "base_uri": "https://localhost:8080/"
        },
        "id": "N-wTMElQrggT",
        "outputId": "f27e9197-2843-467b-aeb0-c5bf34d8cdca"
      },
      "execution_count": null,
      "outputs": [
        {
          "output_type": "stream",
          "name": "stdout",
          "text": [
            "John Wick\n"
          ]
        }
      ]
    },
    {
      "cell_type": "code",
      "source": [
        "# name=input(\"Enter your name\")\n",
        "# name\n",
        "\n",
        "password=input(\"enter your password\")\n",
        "print(password)"
      ],
      "metadata": {
        "colab": {
          "base_uri": "https://localhost:8080/"
        },
        "id": "syIPuYOns3MF",
        "outputId": "6b7486f4-4b52-4007-fe4a-e5bfb89e6756"
      },
      "execution_count": null,
      "outputs": [
        {
          "output_type": "stream",
          "name": "stdout",
          "text": [
            "enter your passworduu\n",
            "uu\n"
          ]
        }
      ]
    },
    {
      "cell_type": "code",
      "source": [
        "#wap to read first_name and last_name from the user and print full_name\n",
        "\n",
        "first_name=input(\"Enter your first_name: \")\n",
        "\n",
        "last_name=input(\"Enter your last_name: \")\n",
        "\n",
        "\n",
        "\n",
        "\n",
        "print(\"full name is : \",first_name+\" \"+last_name)"
      ],
      "metadata": {
        "colab": {
          "base_uri": "https://localhost:8080/"
        },
        "id": "zwepUpgTt0sR",
        "outputId": "3a952be6-8bc2-444f-ec6f-514f34921826"
      },
      "execution_count": null,
      "outputs": [
        {
          "output_type": "stream",
          "name": "stdout",
          "text": [
            "Enter your first_name: dff\n",
            "Enter your last_name: sf\n",
            "full name is :  dff sf\n"
          ]
        }
      ]
    },
    {
      "cell_type": "code",
      "source": [
        "#read two numbers from the user and compute their sum\n",
        "a=float(input(\"Enter the first number: \"))\n",
        "b=float(input(\"Enter the second number: \"))\n",
        "print(type(a))\n",
        "# add=int(a)+int(b)\n",
        "\n",
        "add=a+b\n",
        "print(\"sum of two numbers is,a+b\",add)"
      ],
      "metadata": {
        "colab": {
          "base_uri": "https://localhost:8080/"
        },
        "id": "gIux2u_ZvN8h",
        "outputId": "1ec328b5-c1d6-4f84-e024-dfcc29792a56"
      },
      "execution_count": null,
      "outputs": [
        {
          "output_type": "stream",
          "name": "stdout",
          "text": [
            "Enter the first number: 3\n",
            "Enter the second number: 4\n",
            "<class 'float'>\n",
            "sum of two numbers is,a+b 7.0\n"
          ]
        }
      ]
    },
    {
      "cell_type": "code",
      "source": [
        "#type conversion and type casting\n",
        "\n",
        "a=2.30\n",
        "\n",
        "print(type(a))"
      ],
      "metadata": {
        "colab": {
          "base_uri": "https://localhost:8080/"
        },
        "id": "et8djeoDw6JZ",
        "outputId": "85039c4d-7380-4e4e-db59-9131c802080e"
      },
      "execution_count": null,
      "outputs": [
        {
          "output_type": "stream",
          "name": "stdout",
          "text": [
            "<class 'float'>\n"
          ]
        }
      ]
    },
    {
      "cell_type": "code",
      "source": [
        "#read two numbers from the user and perform their difference\n",
        "\n",
        "a=int(input(\"Enter the first number\"))\n",
        "\n",
        "b=int(input(\"Enter the second number\"))\n",
        "\n",
        "print(a-b)"
      ],
      "metadata": {
        "colab": {
          "base_uri": "https://localhost:8080/"
        },
        "id": "P_E-y0KzzPvm",
        "outputId": "2ec7b770-d856-41b7-a663-6f20155defeb"
      },
      "execution_count": null,
      "outputs": [
        {
          "output_type": "stream",
          "name": "stdout",
          "text": [
            "Enter the first number3\n",
            "Enter the second number4\n",
            "-1\n"
          ]
        }
      ]
    },
    {
      "cell_type": "code",
      "source": [
        "#global and local varriables\n",
        "\n",
        "x=100 #global varriables\n",
        "\n",
        "def add():\n",
        "  x=200 #local variable\n",
        "  print(\"value of x inside teh function\",x)\n",
        "  print(x+1)\n",
        "\n",
        "\n",
        "\n",
        "add()\n",
        "\n",
        "print(x+1)\n",
        "\n",
        "# print(\"value of x outside the function\",x)"
      ],
      "metadata": {
        "colab": {
          "base_uri": "https://localhost:8080/"
        },
        "id": "y3Uz7rqp0R46",
        "outputId": "229740c2-c82b-4a0d-858d-4f5074fc4d90"
      },
      "execution_count": null,
      "outputs": [
        {
          "output_type": "stream",
          "name": "stdout",
          "text": [
            "value of x inside teh function 200\n",
            "201\n",
            "101\n"
          ]
        }
      ]
    },
    {
      "cell_type": "code",
      "source": [
        "#data types in python\n",
        "\n",
        "#intiger  1,2,3 .....  int()       type()\n",
        "#float    2.4,2.6....  float()\n",
        "#string   \"text\"       str()\n",
        "#boolean  true/false\n",
        "#none      none"
      ],
      "metadata": {
        "id": "QTCIC4ta1_Xw"
      },
      "execution_count": null,
      "outputs": []
    },
    {
      "cell_type": "code",
      "source": [
        "age=23\n",
        "\n",
        "name=\"John\"\n",
        "\n",
        "height=3.14\n",
        "\n",
        "married=False\n",
        "\n",
        "print(type(age),type(name),type(height))\n",
        "\n",
        "print(type(married))"
      ],
      "metadata": {
        "colab": {
          "base_uri": "https://localhost:8080/"
        },
        "id": "ovN2VjEV38ZT",
        "outputId": "d4b6268d-96dd-4675-b190-06961241e696"
      },
      "execution_count": null,
      "outputs": [
        {
          "output_type": "stream",
          "name": "stdout",
          "text": [
            "<class 'int'> <class 'str'> <class 'float'>\n",
            "<class 'bool'>\n"
          ]
        }
      ]
    },
    {
      "cell_type": "code",
      "source": [
        "a=12\n",
        "\n",
        "b=10\n",
        "\n",
        "a=20\n",
        "\n",
        "print(a)"
      ],
      "metadata": {
        "colab": {
          "base_uri": "https://localhost:8080/"
        },
        "id": "s2SnEOHM4_ET",
        "outputId": "d1f8bde9-48e5-4fb0-d859-fe289c67d346"
      },
      "execution_count": null,
      "outputs": [
        {
          "output_type": "stream",
          "name": "stdout",
          "text": [
            "20\n"
          ]
        }
      ]
    },
    {
      "cell_type": "code",
      "source": [
        "#types of operators in python\n",
        "\n",
        "#arethmetic operators(+,-,/,*,%,//,**)\n",
        "\n",
        "a=3\n",
        "b=2\n",
        "print(a//b)\n",
        "print(a**2)\n",
        "print(a%b)"
      ],
      "metadata": {
        "colab": {
          "base_uri": "https://localhost:8080/"
        },
        "id": "Q5qUyz4j5dW9",
        "outputId": "9e34c6e6-2c25-436b-8329-09c83cfcb518"
      },
      "execution_count": null,
      "outputs": [
        {
          "output_type": "stream",
          "name": "stdout",
          "text": [
            "1\n",
            "9\n",
            "1\n"
          ]
        }
      ]
    },
    {
      "cell_type": "code",
      "source": [
        "#read two numbers from the user and perform all arithmetic operations\n",
        "\n",
        "a=int(input(\"enter the first number\"))\n",
        "b=int(input(\"enter teh second number\"))\n",
        "\n",
        "print(\"sum of two number is: \",a+b)"
      ],
      "metadata": {
        "colab": {
          "base_uri": "https://localhost:8080/"
        },
        "id": "A_cLg7p87orK",
        "outputId": "b2ef0da0-b43f-4aba-eec4-232541dafadf"
      },
      "execution_count": null,
      "outputs": [
        {
          "output_type": "stream",
          "name": "stdout",
          "text": [
            "enter the first number4\n",
            "enter teh second number5\n",
            "sum of two number is:  9\n"
          ]
        }
      ]
    },
    {
      "cell_type": "code",
      "source": [
        "#wap to find area of a square read the value of side from the user\n",
        "\n",
        "s=int(input(\"Enter the value of side: \"))\n",
        "\n",
        "area=s**2\n",
        "\n",
        "print(\"area of the square is \",area)"
      ],
      "metadata": {
        "colab": {
          "base_uri": "https://localhost:8080/"
        },
        "id": "A-zIBON4HG2d",
        "outputId": "378add22-d232-4a69-d64a-6379d14e24b5"
      },
      "execution_count": null,
      "outputs": [
        {
          "output_type": "stream",
          "name": "stdout",
          "text": [
            "Enter the value of side: 6\n",
            "area of the square is  36\n"
          ]
        }
      ]
    },
    {
      "cell_type": "code",
      "source": [
        "#relational/comparison operators ==,!=,>,<,>=,<= boolean\n",
        "\n",
        "a=10\n",
        "b=20\n",
        "\n",
        "print(a==b)\n",
        "\n",
        "print(a!=b)\n",
        "\n",
        "print(a>b)\n",
        "print(a<b)\n",
        "\n",
        "print(a>=b)\n",
        "print(a<=b)"
      ],
      "metadata": {
        "colab": {
          "base_uri": "https://localhost:8080/"
        },
        "id": "ZVcBz7TiIBKk",
        "outputId": "f22af3d4-61a9-4e0b-e19e-3463a6126c86"
      },
      "execution_count": null,
      "outputs": [
        {
          "output_type": "stream",
          "name": "stdout",
          "text": [
            "False\n",
            "True\n",
            "False\n",
            "True\n",
            "False\n",
            "True\n"
          ]
        }
      ]
    },
    {
      "cell_type": "code",
      "source": [
        "a=\"apple\"\n",
        "b=\"apple\"\n",
        "\n",
        "print(a==b)\n",
        "\n",
        "print(a!=b)"
      ],
      "metadata": {
        "colab": {
          "base_uri": "https://localhost:8080/"
        },
        "id": "RD6Fgpj6I_XF",
        "outputId": "5e12f357-273d-4363-bb4c-bd358f811cec"
      },
      "execution_count": null,
      "outputs": [
        {
          "output_type": "stream",
          "name": "stdout",
          "text": [
            "True\n",
            "False\n"
          ]
        }
      ]
    },
    {
      "cell_type": "code",
      "source": [
        "#assignment operator =,+=,-=,/=,*=....\n",
        "\n",
        "a=20\n",
        "\n",
        "a+=20  #a=a+20\n",
        "\n",
        "a-=10\n",
        "\n",
        "a/=10  #a=a/10\n",
        "print(a)"
      ],
      "metadata": {
        "colab": {
          "base_uri": "https://localhost:8080/"
        },
        "id": "hqhTO3P4JMnY",
        "outputId": "97ed833d-5824-4446-b6da-7d37bffd00d3"
      },
      "execution_count": null,
      "outputs": [
        {
          "output_type": "stream",
          "name": "stdout",
          "text": [
            "3.0\n"
          ]
        }
      ]
    },
    {
      "cell_type": "code",
      "source": [
        "#logical operators and or not\n",
        "\n",
        "a=10\n",
        "b=20\n",
        "\n",
        "print(a>b and a==b)\n",
        "print(a>b or a==b)\n",
        "\n",
        "print(not a>b)"
      ],
      "metadata": {
        "colab": {
          "base_uri": "https://localhost:8080/"
        },
        "id": "jNlw9XZVK14z",
        "outputId": "775c339e-2657-43f2-dd5f-d3e41bbf1bb4"
      },
      "execution_count": null,
      "outputs": [
        {
          "output_type": "stream",
          "name": "stdout",
          "text": [
            "False\n",
            "False\n",
            "True\n"
          ]
        }
      ]
    },
    {
      "cell_type": "code",
      "source": [
        "#operator precedence   P-parantesis,E-exponential,M-MULTIPLICATION,D-division,A-addition,S-subsraction  PEMDAS\n",
        "\n",
        "print((4+2)*(2-1))"
      ],
      "metadata": {
        "colab": {
          "base_uri": "https://localhost:8080/"
        },
        "id": "BOgUVEBmMzgE",
        "outputId": "50ba9845-5f7f-40f3-91fe-fc7d5b83b6d3"
      },
      "execution_count": null,
      "outputs": [
        {
          "output_type": "stream",
          "name": "stdout",
          "text": [
            "6\n"
          ]
        }
      ]
    },
    {
      "cell_type": "code",
      "source": [
        "#BITWISE OPERATOR and (&) or (|)\n",
        "print(5&3)\n",
        "print(5|3)"
      ],
      "metadata": {
        "colab": {
          "base_uri": "https://localhost:8080/"
        },
        "id": "eIDSAmG1N8Cm",
        "outputId": "8c50b3b8-233c-464a-aca1-fea1799e0052"
      },
      "execution_count": null,
      "outputs": [
        {
          "output_type": "stream",
          "name": "stdout",
          "text": [
            "1\n",
            "7\n"
          ]
        }
      ]
    },
    {
      "cell_type": "code",
      "source": [
        "#round()\n",
        "\n",
        "a=4.5543323223212\n",
        "\n",
        "print(round(a,2))"
      ],
      "metadata": {
        "colab": {
          "base_uri": "https://localhost:8080/"
        },
        "id": "eBF08MZKReU_",
        "outputId": "18e32ec4-ca04-4d85-81ab-19fe09f3185b"
      },
      "execution_count": null,
      "outputs": [
        {
          "output_type": "stream",
          "name": "stdout",
          "text": [
            "4.55\n"
          ]
        }
      ]
    },
    {
      "cell_type": "code",
      "source": [
        "#mebership operator in/not in\n",
        "\n",
        "# s=\"python\"\n",
        "\n",
        "print(\"a\" not in \"python\")\n",
        "\n",
        "# l=[1,2,3,4]\n",
        "\n",
        "# print(5 in l)"
      ],
      "metadata": {
        "colab": {
          "base_uri": "https://localhost:8080/"
        },
        "id": "7vwBeiSBR4_4",
        "outputId": "1c4e6051-c652-42aa-ca1c-1aa05b1d2c3e"
      },
      "execution_count": null,
      "outputs": [
        {
          "output_type": "stream",
          "name": "stdout",
          "text": [
            "True\n"
          ]
        }
      ]
    },
    {
      "cell_type": "code",
      "source": [
        "#short-hand if      statement1 if cond1 true else statement 2\n",
        "\n",
        "a=10\n",
        "\n",
        "#print hai if a=10 else print hello\n",
        "\n",
        "print(\"hai\") if a==10 else print(\"hello\")"
      ],
      "metadata": {
        "colab": {
          "base_uri": "https://localhost:8080/"
        },
        "id": "RHLlzcgUTNVb",
        "outputId": "953a271b-bdb8-4dc7-823c-797bf190399d"
      },
      "execution_count": null,
      "outputs": [
        {
          "output_type": "stream",
          "name": "stdout",
          "text": [
            "hai\n"
          ]
        }
      ]
    },
    {
      "cell_type": "code",
      "source": [
        "#wap to print adult if age>20 else print minor\n",
        "\n",
        "\n",
        "age=int(input(\"enter the age\"))\n",
        "\n",
        "print(\"adult\") if age>20 else print(\"minor\")"
      ],
      "metadata": {
        "colab": {
          "base_uri": "https://localhost:8080/"
        },
        "id": "dsCsyi1qUYe0",
        "outputId": "03e16880-a055-4f98-95c4-dbb4b8a065b1"
      },
      "execution_count": null,
      "outputs": [
        {
          "output_type": "stream",
          "name": "stdout",
          "text": [
            "enter the age9\n",
            "minor\n"
          ]
        }
      ]
    },
    {
      "cell_type": "code",
      "source": [
        "#wap to check a chr is vowel or not\n",
        "v=\"aeiouAEIOU\"\n",
        "ch=input(\"enter the chr\")\n",
        "print(\"vowel\") if ch in v else print(\"not vowel\")"
      ],
      "metadata": {
        "colab": {
          "base_uri": "https://localhost:8080/"
        },
        "id": "ayG8TM0XVNs6",
        "outputId": "3d8e3397-cf61-482f-d9f6-501bfff4d42e"
      },
      "execution_count": null,
      "outputs": [
        {
          "output_type": "stream",
          "name": "stdout",
          "text": [
            "enter the chra\n",
            "vowel\n"
          ]
        }
      ]
    },
    {
      "cell_type": "code",
      "source": [
        "#wap to read three number from the user and print their average\n",
        "\n",
        "a=int(input(\"enter the first number\"))\n",
        "b=int(input(\"enter the second number\"))\n",
        "c=int(input(\"enter the third number\"))\n",
        "\n",
        "print((a+b+c)/3)"
      ],
      "metadata": {
        "colab": {
          "base_uri": "https://localhost:8080/"
        },
        "id": "GCPpP29FWWRB",
        "outputId": "01b3823e-adfb-46bb-dd43-7169d68d082d"
      },
      "execution_count": null,
      "outputs": [
        {
          "output_type": "stream",
          "name": "stdout",
          "text": [
            "enter the first number3\n",
            "enter the second number4\n",
            "enter the third number5\n",
            "4.0\n"
          ]
        }
      ]
    },
    {
      "cell_type": "code",
      "source": [
        "#wap to read two numbers from the user and print true if a>b else print false\n",
        "\n",
        "a=float(input(\"enter the first number\"))\n",
        "b=float(input(\"enter the second number\"))\n",
        "\n",
        "print(\"true\") if a>b else print(\"false\")"
      ],
      "metadata": {
        "colab": {
          "base_uri": "https://localhost:8080/"
        },
        "id": "9GX6s6-fXqor",
        "outputId": "8c957399-82e5-4b36-bd51-741b979ea960"
      },
      "execution_count": null,
      "outputs": [
        {
          "output_type": "stream",
          "name": "stdout",
          "text": [
            "enter the first number9\n",
            "enter the second number8\n",
            "true\n"
          ]
        }
      ]
    },
    {
      "cell_type": "code",
      "source": [
        "#wap to calculate n+n square +n cube\n",
        "\n",
        "n=int(input(\"enter the number\"))\n",
        "\n",
        "a=n+n**2+n**3\n",
        "\n",
        "print(a)"
      ],
      "metadata": {
        "colab": {
          "base_uri": "https://localhost:8080/"
        },
        "id": "BfumGKVhYVFs",
        "outputId": "a537bc13-d87a-4696-e8e8-37ae1ed02268"
      },
      "execution_count": null,
      "outputs": [
        {
          "output_type": "stream",
          "name": "stdout",
          "text": [
            "enter the number3\n",
            "39\n"
          ]
        }
      ]
    },
    {
      "cell_type": "code",
      "source": [
        "#wap to convert celcious to farenheit using f=(c*9/5)+32\n",
        "\n",
        "c=float(input(\"enter the temparature value in celcious\"))\n",
        "\n",
        "f=(c*9/5)+32\n",
        "\n",
        "print(\"the farenheit value is: \",f)"
      ],
      "metadata": {
        "colab": {
          "base_uri": "https://localhost:8080/"
        },
        "id": "u3dvUaVaY8xC",
        "outputId": "ae59429f-ac7b-451d-f8d6-4ce4306185ce"
      },
      "execution_count": null,
      "outputs": [
        {
          "output_type": "stream",
          "name": "stdout",
          "text": [
            "enter the temparature value in celcious33\n",
            "the farenheit value is:  91.4\n"
          ]
        }
      ]
    },
    {
      "cell_type": "code",
      "source": [
        "#identity operator  is/is not\n",
        "\n",
        "a=2\n",
        "b=2                            #int ,str ,tuple imutable cannot be changed  ==\n",
        "                               #mutable can be changed list\n",
        "\n",
        "print(a is b)\n",
        "print(a==b)"
      ],
      "metadata": {
        "colab": {
          "base_uri": "https://localhost:8080/"
        },
        "id": "kAa_bvjpRHik",
        "outputId": "6280552d-1b76-4b7b-e9e1-b570531dc1c7"
      },
      "execution_count": null,
      "outputs": [
        {
          "output_type": "stream",
          "name": "stdout",
          "text": [
            "True\n",
            "True\n"
          ]
        }
      ]
    },
    {
      "cell_type": "code",
      "source": [
        "l1=[1,2,3] #l1\n",
        "l2=[1,2,3] #l2\n",
        "\n",
        "l1=l2\n",
        "\n",
        "# print(l1==l2)\n",
        "\n",
        "print(l1 is not l2)"
      ],
      "metadata": {
        "colab": {
          "base_uri": "https://localhost:8080/"
        },
        "id": "yDX7PiOAR7Os",
        "outputId": "314a4fd2-94c6-4410-b91b-7e4110510ff1"
      },
      "execution_count": null,
      "outputs": [
        {
          "output_type": "stream",
          "name": "stdout",
          "text": [
            "False\n"
          ]
        }
      ]
    },
    {
      "cell_type": "code",
      "source": [
        "#wap to check a number is multiple of 3 or not\n",
        "\n",
        "n=int(input(\"enter the number\"))\n",
        "\n",
        "print(\"multiple of 3\") if n%3==0 else print(\"not multiple of 3\")"
      ],
      "metadata": {
        "colab": {
          "base_uri": "https://localhost:8080/"
        },
        "id": "aAT6VDhnVTsX",
        "outputId": "30873838-9e94-495b-b105-a0b478751fdd"
      },
      "execution_count": null,
      "outputs": [
        {
          "output_type": "stream",
          "name": "stdout",
          "text": [
            "enter the number3\n",
            "multiple of 3\n"
          ]
        }
      ]
    },
    {
      "cell_type": "code",
      "source": [
        "#wap to check a number is odd or even\n",
        "\n",
        "n=int(input(\"enter the number\"))\n",
        "\n",
        "print(\"even\") if n%2==0 else print(\"odd\")"
      ],
      "metadata": {
        "colab": {
          "base_uri": "https://localhost:8080/"
        },
        "id": "MZyG6HynWSC5",
        "outputId": "9166c184-99db-40f3-a7fb-e4a4ca976b55"
      },
      "execution_count": null,
      "outputs": [
        {
          "output_type": "stream",
          "name": "stdout",
          "text": [
            "enter the number3\n",
            "odd\n"
          ]
        }
      ]
    },
    {
      "cell_type": "code",
      "source": [
        "#string  text\n",
        "\n",
        "#string concatination  + operator\n",
        "\n",
        "a=\"apple\"\n",
        "b=\"orange\"\n",
        "\n",
        "print(\"concatinated string is: \",a+b)"
      ],
      "metadata": {
        "colab": {
          "base_uri": "https://localhost:8080/"
        },
        "id": "UGHR5eAkbBFE",
        "outputId": "68e62562-e88d-4230-fa68-1d8607d57cc6"
      },
      "execution_count": null,
      "outputs": [
        {
          "output_type": "stream",
          "name": "stdout",
          "text": [
            "concatinated string is:  appleorange\n"
          ]
        }
      ]
    },
    {
      "cell_type": "code",
      "source": [
        "s=\"apple\"\n",
        "\n",
        "print(len(s))"
      ],
      "metadata": {
        "colab": {
          "base_uri": "https://localhost:8080/"
        },
        "id": "5GJ3Hgm3bhsv",
        "outputId": "7719b92a-549e-495c-c9c0-088a80dfd3e3"
      },
      "execution_count": null,
      "outputs": [
        {
          "output_type": "stream",
          "name": "stdout",
          "text": [
            "5\n"
          ]
        }
      ]
    },
    {
      "cell_type": "code",
      "source": [
        "s=\"AppLe\"\n",
        "\n",
        "print(s.upper())\n",
        "\n",
        "print(s.lower())"
      ],
      "metadata": {
        "colab": {
          "base_uri": "https://localhost:8080/"
        },
        "id": "YZbHcRaGbza1",
        "outputId": "908826e8-b985-4e88-a29a-ea3bb2f50233"
      },
      "execution_count": null,
      "outputs": [
        {
          "output_type": "stream",
          "name": "stdout",
          "text": [
            "APPLE\n",
            "apple\n"
          ]
        }
      ]
    },
    {
      "cell_type": "code",
      "source": [
        "s=\"aPPles aNd Oranges\"\n",
        "\n",
        "print(s.title())\n",
        "\n",
        "print(s.capitalize())\n",
        "\n",
        "print(s.swapcase())"
      ],
      "metadata": {
        "colab": {
          "base_uri": "https://localhost:8080/"
        },
        "id": "P7bv2YbxcbrE",
        "outputId": "ed5f2dca-36ce-4316-bd6a-0edaf837efe0"
      },
      "execution_count": null,
      "outputs": [
        {
          "output_type": "stream",
          "name": "stdout",
          "text": [
            "Apples And Oranges\n",
            "Apples and oranges\n",
            "AppLES AnD oRANGES\n"
          ]
        }
      ]
    },
    {
      "cell_type": "code",
      "source": [
        "#find other string manipulation functions\n",
        "s=\"apple\"\n",
        "print(s[0])  #forward indexing\n",
        "print(s[4])\n",
        "print(s[2])"
      ],
      "metadata": {
        "colab": {
          "base_uri": "https://localhost:8080/"
        },
        "id": "aajjLstLdknO",
        "outputId": "0bfe8702-66ca-4bff-e6c5-b5a7e52025dc"
      },
      "execution_count": null,
      "outputs": [
        {
          "output_type": "stream",
          "name": "stdout",
          "text": [
            "a\n",
            "e\n",
            "p\n"
          ]
        }
      ]
    },
    {
      "cell_type": "code",
      "source": [
        "s[-5]  #backward indexing\n",
        "s[-1]"
      ],
      "metadata": {
        "colab": {
          "base_uri": "https://localhost:8080/",
          "height": 36
        },
        "id": "ZfL6B4jofKGD",
        "outputId": "148d6941-ff24-4512-ac01-c2409bd48594"
      },
      "execution_count": null,
      "outputs": [
        {
          "output_type": "execute_result",
          "data": {
            "text/plain": [
              "'e'"
            ],
            "application/vnd.google.colaboratory.intrinsic+json": {
              "type": "string"
            }
          },
          "metadata": {},
          "execution_count": 24
        }
      ]
    },
    {
      "cell_type": "code",
      "source": [
        "s=\"all apples are oranges\"\n",
        "\n",
        "#apples\n",
        "print(s[4:10])\n",
        "#are\n",
        "print(s[11:14])\n",
        "#alap\n",
        "print(s[0:7:2])\n",
        "#ora\n",
        "print(s[15:18])\n",
        "#e o\n",
        "print(s[13:16])\n"
      ],
      "metadata": {
        "colab": {
          "base_uri": "https://localhost:8080/"
        },
        "id": "_ZN40S3VcYmj",
        "outputId": "abffcb36-c7fd-46b0-afd3-90b10e57cc22"
      },
      "execution_count": null,
      "outputs": [
        {
          "output_type": "stream",
          "name": "stdout",
          "text": [
            "apples\n",
            "are\n",
            "alap\n",
            "ora\n",
            "e o\n"
          ]
        }
      ]
    },
    {
      "cell_type": "code",
      "source": [
        "s=\"apple\"\n",
        "\n",
        "s[-3:-1]\n",
        "\n",
        "s[-2:-4:-1]\n",
        "\n",
        "s[-5::]\n",
        "s[-1::-1]"
      ],
      "metadata": {
        "colab": {
          "base_uri": "https://localhost:8080/",
          "height": 36
        },
        "id": "tpJvikysfLNy",
        "outputId": "42f87329-1502-4faa-feb4-1d5c67937cef"
      },
      "execution_count": null,
      "outputs": [
        {
          "output_type": "execute_result",
          "data": {
            "text/plain": [
              "'elppa'"
            ],
            "application/vnd.google.colaboratory.intrinsic+json": {
              "type": "string"
            }
          },
          "metadata": {},
          "execution_count": 12
        }
      ]
    },
    {
      "cell_type": "code",
      "source": [
        "s=\"all oranges are grapes\"\n",
        "\n",
        "#grapes\n",
        "s[-6::]\n",
        "#segnaro\n",
        "s[-12:-19:-1]\n",
        "#all\n",
        "s[-22:-19]\n",
        "#lla\n",
        "s[-20::-1]\n",
        "#spr\n",
        "s[-1:-6:-2]\n",
        "#reverse full string\n",
        "s[-1::-1]"
      ],
      "metadata": {
        "colab": {
          "base_uri": "https://localhost:8080/",
          "height": 36
        },
        "id": "S0StaSNOgX3g",
        "outputId": "d55d89c9-4bb8-4820-cdf5-4db3eec2da38"
      },
      "execution_count": null,
      "outputs": [
        {
          "output_type": "execute_result",
          "data": {
            "text/plain": [
              "'separg era segnaro lla'"
            ],
            "application/vnd.google.colaboratory.intrinsic+json": {
              "type": "string"
            }
          },
          "metadata": {},
          "execution_count": 21
        }
      ]
    },
    {
      "cell_type": "code",
      "source": [
        "#wap to read a string from the user and reverse it\n",
        "\n",
        "s=input(\"enter the string\")\n",
        "\n",
        "print(s[-1::-1])"
      ],
      "metadata": {
        "colab": {
          "base_uri": "https://localhost:8080/"
        },
        "id": "N6BHrYuci_fp",
        "outputId": "7b34068d-f269-4fc8-8633-f07eafa94e50"
      },
      "execution_count": null,
      "outputs": [
        {
          "output_type": "stream",
          "name": "stdout",
          "text": [
            "enter the stringorange\n",
            "egnaro\n"
          ]
        }
      ]
    },
    {
      "cell_type": "code",
      "source": [
        "#wap to check a string is palindrome or not\n",
        "s=input(\"enter the string\")\n",
        "\n",
        "a=s[-1::-1]\n",
        "print(\"palindrome\") if s==a else print(\"not palindrome\")"
      ],
      "metadata": {
        "colab": {
          "base_uri": "https://localhost:8080/"
        },
        "id": "xdc4XVc6jiWc",
        "outputId": "152dd290-ea29-40d8-9f3e-1674d1481020"
      },
      "execution_count": null,
      "outputs": [
        {
          "output_type": "stream",
          "name": "stdout",
          "text": [
            "enter the stringmalayalam\n",
            "palindrome\n"
          ]
        }
      ]
    },
    {
      "cell_type": "code",
      "source": [
        "#wap to find middle element in a given string\n",
        "\n",
        "s=\"grape\"\n",
        "\n",
        "print(s[len(s)//2])"
      ],
      "metadata": {
        "colab": {
          "base_uri": "https://localhost:8080/"
        },
        "id": "pZ6mA8y2kgp6",
        "outputId": "dc65d0a0-bb5e-4d42-c3b7-32febea19a13"
      },
      "execution_count": null,
      "outputs": [
        {
          "output_type": "stream",
          "name": "stdout",
          "text": [
            "a\n"
          ]
        }
      ]
    },
    {
      "cell_type": "code",
      "source": [
        "#wap to count number of words in a string\n",
        "s=\" apples are oranges and \"\n",
        "a=s.strip() #used to remove white space from start and end \\n\n",
        "print(s.count(\"a\"))\n",
        "print(a)\n",
        "print(a.count(\" \")+1)"
      ],
      "metadata": {
        "colab": {
          "base_uri": "https://localhost:8080/"
        },
        "id": "wR7BgEA-nls5",
        "outputId": "b714812f-a382-4079-96f5-dddf92ca1da6"
      },
      "execution_count": null,
      "outputs": [
        {
          "output_type": "stream",
          "name": "stdout",
          "text": [
            "4\n",
            "apples are oranges and\n",
            "4\n"
          ]
        }
      ]
    },
    {
      "cell_type": "code",
      "source": [
        "s=\"all apples are apples are oranges\"\n",
        "s.replace(\"apples\",\"oranges\")"
      ],
      "metadata": {
        "colab": {
          "base_uri": "https://localhost:8080/",
          "height": 36
        },
        "id": "ZkN6927mpePE",
        "outputId": "9f1707f8-7fe6-4516-b293-20132c387ac6"
      },
      "execution_count": null,
      "outputs": [
        {
          "output_type": "execute_result",
          "data": {
            "text/plain": [
              "'all oranges are oranges are oranges'"
            ],
            "application/vnd.google.colaboratory.intrinsic+json": {
              "type": "string"
            }
          },
          "metadata": {},
          "execution_count": 31
        }
      ]
    },
    {
      "cell_type": "code",
      "source": [
        "s=\"all-apples-are$apples$are oranges\"\n",
        "\n",
        "a=s.split(\"$\")\n",
        "print(type(a))\n",
        "print(a)"
      ],
      "metadata": {
        "colab": {
          "base_uri": "https://localhost:8080/"
        },
        "id": "WUJUSBptp8Z8",
        "outputId": "2200f728-a969-4360-ae28-f82714f808a4"
      },
      "execution_count": null,
      "outputs": [
        {
          "output_type": "stream",
          "name": "stdout",
          "text": [
            "<class 'list'>\n",
            "['all-apples-are', 'apples', 'are oranges']\n"
          ]
        }
      ]
    },
    {
      "cell_type": "code",
      "source": [
        "#format\n",
        "\n",
        "a=20\n",
        "\n",
        "b=\"apple\"\n",
        "\n",
        "print(\"price of {1} is {0}\".format(a,b))"
      ],
      "metadata": {
        "colab": {
          "base_uri": "https://localhost:8080/"
        },
        "id": "xw0xM2oYmq99",
        "outputId": "25709245-ab0a-4c7a-c4c5-ef0b4b975dc6"
      },
      "execution_count": null,
      "outputs": [
        {
          "output_type": "stream",
          "name": "stdout",
          "text": [
            "price of apple is 20\n"
          ]
        }
      ]
    },
    {
      "cell_type": "code",
      "source": [
        "#read first_name from the user and print \"length of first_name is value of length\"\n",
        "\n",
        "first_name=input(\"enter the first_name\")\n",
        "\n",
        "length=len(first_name)\n",
        "\n",
        "print(\"length of {} is {}\".format(first_name,length))"
      ],
      "metadata": {
        "colab": {
          "base_uri": "https://localhost:8080/"
        },
        "id": "MlP4K9fVpMDL",
        "outputId": "4605f436-bc9f-4840-cecb-ec824c98624e"
      },
      "execution_count": null,
      "outputs": [
        {
          "output_type": "stream",
          "name": "stdout",
          "text": [
            "enter the first_namejohn\n",
            "length of john is 4\n"
          ]
        }
      ]
    },
    {
      "cell_type": "code",
      "source": [
        "#fstring\n",
        "\n",
        "a=20\n",
        "b=\"apple\"\n",
        "\n",
        "print(f\"price of {b} is {a}\")"
      ],
      "metadata": {
        "colab": {
          "base_uri": "https://localhost:8080/"
        },
        "id": "gImwgKctqIy4",
        "outputId": "157ca6cf-1dbb-4f9a-9de9-0b6d4d933b18"
      },
      "execution_count": null,
      "outputs": [
        {
          "output_type": "stream",
          "name": "stdout",
          "text": [
            "price of apple is 20\n"
          ]
        }
      ]
    },
    {
      "cell_type": "code",
      "source": [
        "#read last_name from the user and print its length using fstring\n",
        "\n",
        "last_name=\"Wick\"\n",
        "\n",
        "print(f\"length of {last_name} is {len(last_name)}\")"
      ],
      "metadata": {
        "colab": {
          "base_uri": "https://localhost:8080/"
        },
        "id": "gINuMj5fqruv",
        "outputId": "ab2dd689-8ce8-4e41-9ccc-9a1a82732f5e"
      },
      "execution_count": null,
      "outputs": [
        {
          "output_type": "stream",
          "name": "stdout",
          "text": [
            "length of Wick is 4\n"
          ]
        }
      ]
    },
    {
      "cell_type": "code",
      "source": [
        "#wap to count number of $ in the given string\n",
        "s=\"p$tho$ is $ a goo$d $program$ing lan$gua$ge\"\n",
        "\n",
        "print(s.count(\"$\"))"
      ],
      "metadata": {
        "colab": {
          "base_uri": "https://localhost:8080/"
        },
        "id": "JRU0Wr5nrsgF",
        "outputId": "2bbfbf24-a5ee-406a-9fbd-2278a26d5dd5"
      },
      "execution_count": null,
      "outputs": [
        {
          "output_type": "stream",
          "name": "stdout",
          "text": [
            "8\n"
          ]
        }
      ]
    },
    {
      "cell_type": "code",
      "source": [
        "# sorted()\n",
        "\n",
        "s=\"apple\"\n",
        "\n",
        "a=sorted(s)\n",
        "a"
      ],
      "metadata": {
        "colab": {
          "base_uri": "https://localhost:8080/"
        },
        "id": "vxSchjF5skEq",
        "outputId": "b8cd4168-0237-4d6d-fc69-f03a3f179183"
      },
      "execution_count": null,
      "outputs": [
        {
          "output_type": "execute_result",
          "data": {
            "text/plain": [
              "['a', 'e', 'l', 'p', 'p']"
            ]
          },
          "metadata": {},
          "execution_count": 13
        }
      ]
    },
    {
      "cell_type": "code",
      "source": [
        "#wap to check a number is positive negative or zero\n",
        "\n",
        "n=int(input(\"enter teh number\"))\n",
        "\n",
        "if n>0:\n",
        "  print(\"positive\")\n",
        "elif n==0:\n",
        "  print(\"zero\")\n",
        "\n",
        "else:\n",
        "  print(\"negative\")"
      ],
      "metadata": {
        "colab": {
          "base_uri": "https://localhost:8080/"
        },
        "id": "yO9R2DwUvsHx",
        "outputId": "a7acf3d4-a904-4f9b-8c21-d391cbe8b023"
      },
      "execution_count": null,
      "outputs": [
        {
          "output_type": "stream",
          "name": "stdout",
          "text": [
            "enter teh number0\n",
            "zero\n"
          ]
        }
      ]
    },
    {
      "cell_type": "code",
      "source": [
        "#wap to print multiple of 5 and 7 if divisible by 5 and 7\n",
        "#else print multiple of 5 if only divisible by 5\n",
        "#otherwise print multiple of 7 only divisible by 7\n",
        "#else print not multiple of 5 and 7\n",
        "n=int(input(\"enter teh number\"))\n",
        "\n",
        "if n%5==0 and n%7==0:\n",
        "  print(\"divisible by both\")\n",
        "elif n%5==0:\n",
        "  print(\"multiple of 5\")\n",
        "\n",
        "elif n%7==0:\n",
        "  print(\"multiple of 7\")\n",
        "\n",
        "else:\n",
        "  print(\"not multiple of both\")"
      ],
      "metadata": {
        "colab": {
          "base_uri": "https://localhost:8080/"
        },
        "id": "uzZHmeXJw3-d",
        "outputId": "0d1374d1-5281-4624-d91f-c9fa3a43d2a9"
      },
      "execution_count": null,
      "outputs": [
        {
          "output_type": "stream",
          "name": "stdout",
          "text": [
            "enter teh number7\n",
            "multiple of 7\n"
          ]
        }
      ]
    },
    {
      "cell_type": "code",
      "source": [
        "#wap to read three numbers from the user and print the largest"
      ],
      "metadata": {
        "id": "LoavvpUfy_9_"
      },
      "execution_count": null,
      "outputs": []
    },
    {
      "cell_type": "code",
      "source": [
        "#wap to calculate the grade of a student\n",
        "#grade A if mark >90\n",
        "#grade B if mark between 80 and 90 80<mark<=90\n",
        "#grade C if mark between 80 and 70 70<mark<=80\n",
        "#grade D i mark equal to 70\n",
        "#otherwise failed"
      ],
      "metadata": {
        "id": "U6ztuZH_zblK"
      },
      "execution_count": null,
      "outputs": []
    },
    {
      "cell_type": "code",
      "source": [
        "#wap to remove third index element from a given string\n",
        "\n",
        "s=\"orange\"\n",
        "n=int(input(\"enter teh index\"))\n",
        "\n",
        "\n",
        "a=s[0:n]\n",
        "b=s[n+1:]\n",
        "\n",
        "print(a+b)"
      ],
      "metadata": {
        "colab": {
          "base_uri": "https://localhost:8080/"
        },
        "id": "IKLSKjkO0p9L",
        "outputId": "2196d701-7276-4885-b7c1-d2c154b3865f"
      },
      "execution_count": null,
      "outputs": [
        {
          "output_type": "stream",
          "name": "stdout",
          "text": [
            "enter teh index3\n",
            "orage\n"
          ]
        }
      ]
    },
    {
      "cell_type": "code",
      "source": [
        "#range\n",
        "\n",
        "print(list(range(1,10)))"
      ],
      "metadata": {
        "colab": {
          "base_uri": "https://localhost:8080/"
        },
        "id": "Xi3tU9GCvOjd",
        "outputId": "b6331929-229d-44f0-f004-856999f0367d"
      },
      "execution_count": null,
      "outputs": [
        {
          "output_type": "stream",
          "name": "stdout",
          "text": [
            "[1, 2, 3, 4, 5, 6, 7, 8, 9]\n"
          ]
        }
      ]
    },
    {
      "cell_type": "code",
      "source": [
        "for i in range(1,10):\n",
        "  print(i)"
      ],
      "metadata": {
        "colab": {
          "base_uri": "https://localhost:8080/"
        },
        "id": "MJpo4Ipiv4_i",
        "outputId": "9ba2620f-2a12-4601-ae20-790e8381a81a"
      },
      "execution_count": null,
      "outputs": [
        {
          "output_type": "stream",
          "name": "stdout",
          "text": [
            "1\n",
            "2\n",
            "3\n",
            "4\n",
            "5\n",
            "6\n",
            "7\n",
            "8\n",
            "9\n"
          ]
        }
      ]
    },
    {
      "cell_type": "code",
      "source": [
        "#wap to print even numbers with in 0-10\n",
        "\n",
        "for i in range(0,11,2):\n",
        "  print(i)"
      ],
      "metadata": {
        "colab": {
          "base_uri": "https://localhost:8080/"
        },
        "id": "0IWMnzoOxQUP",
        "outputId": "3b2b5f66-6647-4ead-a69d-8f474a347377"
      },
      "execution_count": null,
      "outputs": [
        {
          "output_type": "stream",
          "name": "stdout",
          "text": [
            "0\n",
            "2\n",
            "4\n",
            "6\n",
            "8\n",
            "10\n"
          ]
        }
      ]
    },
    {
      "cell_type": "code",
      "source": [
        "for i in range(0,11):\n",
        "  if i%2==0:\n",
        "    print(i,end=\" \")"
      ],
      "metadata": {
        "colab": {
          "base_uri": "https://localhost:8080/"
        },
        "id": "Je63_ciIxwo3",
        "outputId": "f09b8926-cdc6-4071-d117-ca7085778a76"
      },
      "execution_count": null,
      "outputs": [
        {
          "output_type": "stream",
          "name": "stdout",
          "text": [
            "0 2 4 6 8 10 "
          ]
        }
      ]
    },
    {
      "cell_type": "code",
      "source": [
        "#wap to print multiple of 5 with in 0-100 horizontally\n",
        "\n",
        "for i in range(0,101):\n",
        "  if i%5==0:\n",
        "    print(i,end=\" \")"
      ],
      "metadata": {
        "colab": {
          "base_uri": "https://localhost:8080/"
        },
        "id": "xXBnXjyuzU9X",
        "outputId": "e658948a-93c1-4e83-93d3-cdbcf89512e0"
      },
      "execution_count": null,
      "outputs": [
        {
          "output_type": "stream",
          "name": "stdout",
          "text": [
            "0 5 10 15 20 25 30 35 40 45 50 55 60 65 70 75 80 85 90 95 100 "
          ]
        }
      ]
    },
    {
      "cell_type": "code",
      "source": [
        "#collections in python\n",
        "#list\n",
        "#tuple\n",
        "#dictionary\n",
        "#set"
      ],
      "metadata": {
        "id": "jp_8t1Ql0FZf"
      },
      "execution_count": null,
      "outputs": []
    },
    {
      "cell_type": "code",
      "source": [
        "#list  [], Mutable data type ,changable, collection of same datatypes or different datatypes\n",
        "\n",
        "# l=[1,2,3,4]\n",
        "\n",
        "l=[1,\"apple\",2.39]\n",
        "\n",
        "l[0]=\"orange\"\n",
        "\n",
        "l"
      ],
      "metadata": {
        "colab": {
          "base_uri": "https://localhost:8080/"
        },
        "id": "ySE2kFt50bl3",
        "outputId": "9789690c-3601-4719-fb42-2cbc9ae1471e"
      },
      "execution_count": null,
      "outputs": [
        {
          "output_type": "execute_result",
          "data": {
            "text/plain": [
              "['orange', 'apple', 2.39]"
            ]
          },
          "metadata": {},
          "execution_count": 12
        }
      ]
    },
    {
      "cell_type": "code",
      "source": [
        "l=[1,2,3,4,5]\n",
        "\n",
        "\n",
        "print(l[2:5])\n",
        "\n",
        "print(l[-1])\n",
        "\n",
        "l.append(\"apple\")\n",
        "\n",
        "l.append(9)\n",
        "\n",
        "l\n",
        "\n"
      ],
      "metadata": {
        "colab": {
          "base_uri": "https://localhost:8080/"
        },
        "id": "mkXwi8QS1_4m",
        "outputId": "e18bec98-e208-4e75-d4ee-7b655ea3b59e"
      },
      "execution_count": null,
      "outputs": [
        {
          "output_type": "stream",
          "name": "stdout",
          "text": [
            "[3, 4, 5]\n",
            "5\n"
          ]
        },
        {
          "output_type": "execute_result",
          "data": {
            "text/plain": [
              "[1, 2, 3, 4, 5, 'apple', 9]"
            ]
          },
          "metadata": {},
          "execution_count": 16
        }
      ]
    },
    {
      "cell_type": "code",
      "source": [
        "l=[9,2,4,8,6,1,7]\n",
        "\n",
        "l.sort(reverse=True)\n",
        "\n",
        "print(l)"
      ],
      "metadata": {
        "colab": {
          "base_uri": "https://localhost:8080/"
        },
        "id": "kk9tW2Ef3CGp",
        "outputId": "4cd3933f-44e3-4cc2-dad3-108f0b059937"
      },
      "execution_count": null,
      "outputs": [
        {
          "output_type": "stream",
          "name": "stdout",
          "text": [
            "[9, 8, 7, 6, 4, 2, 1]\n"
          ]
        }
      ]
    },
    {
      "cell_type": "code",
      "source": [
        "#wap to find second largest elemetn in a given list\n",
        "l=[9,2,4,8,6,1,7]\n",
        "\n",
        "l.sort()\n",
        "print(l[-2])"
      ],
      "metadata": {
        "colab": {
          "base_uri": "https://localhost:8080/"
        },
        "id": "CbAVvBmD3uS2",
        "outputId": "cca6d617-0cca-4a8c-f1bd-cccf1699d9b3"
      },
      "execution_count": null,
      "outputs": [
        {
          "output_type": "stream",
          "name": "stdout",
          "text": [
            "8\n"
          ]
        }
      ]
    },
    {
      "cell_type": "code",
      "source": [
        "l=[9,2,4,8,6,1,7]\n",
        "\n",
        "a=sorted(l)\n",
        "\n",
        "print(a)"
      ],
      "metadata": {
        "colab": {
          "base_uri": "https://localhost:8080/"
        },
        "id": "KYyYPdQt4Z5Y",
        "outputId": "312c30ba-a508-4e8d-8804-5d1c98aa4a16"
      },
      "execution_count": null,
      "outputs": [
        {
          "output_type": "stream",
          "name": "stdout",
          "text": [
            "[1, 2, 4, 6, 7, 8, 9]\n"
          ]
        }
      ]
    },
    {
      "cell_type": "code",
      "source": [
        "l=[5,4,9,1,2]\n",
        "\n",
        "# print(l[-1::-1])\n",
        "\n",
        "l.reverse()\n",
        "\n",
        "print(l)"
      ],
      "metadata": {
        "colab": {
          "base_uri": "https://localhost:8080/"
        },
        "id": "qCDHQ7Gw40Yz",
        "outputId": "e1c6da05-2ef8-49c5-ef1b-3bd8ecbc7aff"
      },
      "execution_count": null,
      "outputs": [
        {
          "output_type": "stream",
          "name": "stdout",
          "text": [
            "[2, 1, 9, 4, 5]\n"
          ]
        }
      ]
    },
    {
      "cell_type": "code",
      "source": [
        "l=[3,4,2,7,4]\n",
        "\n",
        "print(max(l))\n",
        "print(min(l))\n",
        "print(len(l))\n",
        "print(l.count(4))"
      ],
      "metadata": {
        "colab": {
          "base_uri": "https://localhost:8080/"
        },
        "id": "0gD-Tsp15vwy",
        "outputId": "9d5489c9-67cd-46ee-ffc8-00023512bd4d"
      },
      "execution_count": null,
      "outputs": [
        {
          "output_type": "stream",
          "name": "stdout",
          "text": [
            "7\n",
            "2\n",
            "5\n",
            "2\n"
          ]
        }
      ]
    },
    {
      "cell_type": "code",
      "source": [
        "#create a new list of even numbers for existing list\n",
        "even=[]\n",
        "l=[4,2,3,6,7,8,9]\n",
        "\n",
        "for i in l:\n",
        "  if i%2==0:\n",
        "    even.append(i)\n",
        "\n",
        "\n",
        "print(even)"
      ],
      "metadata": {
        "colab": {
          "base_uri": "https://localhost:8080/"
        },
        "id": "EZCwiO4_6fNI",
        "outputId": "d87cd3f9-0042-4e6e-9d4c-bfbf0530019d"
      },
      "execution_count": null,
      "outputs": [
        {
          "output_type": "stream",
          "name": "stdout",
          "text": [
            "[4, 2, 6, 8]\n"
          ]
        }
      ]
    },
    {
      "cell_type": "code",
      "source": [
        "#wap to create list of odd numbers from existing list\n",
        "\n",
        "l=[4,2,3,6,7,8,9]"
      ],
      "metadata": {
        "id": "Ez7ihNGP7rIB"
      },
      "execution_count": null,
      "outputs": []
    },
    {
      "cell_type": "code",
      "source": [
        "#wap to remove duplicate element in a list\n",
        "du=[]\n",
        "l=[1,1,1,2,2,8,6,6,6,6]\n",
        "\n",
        "for i in l:\n",
        "  if i not in du:\n",
        "    du.append(i)\n",
        "\n",
        "du"
      ],
      "metadata": {
        "colab": {
          "base_uri": "https://localhost:8080/"
        },
        "id": "YCphBqgM8A8e",
        "outputId": "ab074e88-399d-41fc-e2d8-306c8ff49171"
      },
      "execution_count": null,
      "outputs": [
        {
          "output_type": "execute_result",
          "data": {
            "text/plain": [
              "[1, 2, 8, 6]"
            ]
          },
          "metadata": {},
          "execution_count": 36
        }
      ]
    },
    {
      "cell_type": "code",
      "source": [
        "#read any three names from the user and add it into a list\n",
        "\n",
        "l=[]\n",
        "for i in range(3):\n",
        "  print(i)\n",
        "  n=input()\n",
        "  l.append(n)\n",
        "\n",
        "print(l)"
      ],
      "metadata": {
        "colab": {
          "base_uri": "https://localhost:8080/"
        },
        "id": "7bgoF3e19_nF",
        "outputId": "525fa43c-c33f-45c6-8d08-5df322ddd7fb"
      },
      "execution_count": null,
      "outputs": [
        {
          "output_type": "stream",
          "name": "stdout",
          "text": [
            "0\n",
            "apple\n",
            "1\n",
            "orang\n",
            "2\n",
            "mgano\n",
            "['apple', 'orang', 'mgano']\n"
          ]
        }
      ]
    },
    {
      "cell_type": "code",
      "source": [
        "#wap to print sum of elements in a list\n",
        "\n",
        "s=0\n",
        "l=[4,3,5,3]\n",
        "\n",
        "for i in l:\n",
        "  s=s+i\n",
        "\n",
        "\n",
        "s\n",
        "\n"
      ],
      "metadata": {
        "colab": {
          "base_uri": "https://localhost:8080/"
        },
        "id": "qNWDRW9e_TeS",
        "outputId": "b34e9cbc-780b-44d2-af53-ad79a10c7cfe"
      },
      "execution_count": null,
      "outputs": [
        {
          "output_type": "execute_result",
          "data": {
            "text/plain": [
              "15"
            ]
          },
          "metadata": {},
          "execution_count": 40
        }
      ]
    },
    {
      "cell_type": "code",
      "source": [
        "1stname=\"apple\""
      ],
      "metadata": {
        "colab": {
          "base_uri": "https://localhost:8080/",
          "height": 109
        },
        "id": "4qr45cTnLfju",
        "outputId": "ec3dce33-738d-49fb-eb84-02a972348676"
      },
      "execution_count": null,
      "outputs": [
        {
          "output_type": "error",
          "ename": "SyntaxError",
          "evalue": "invalid decimal literal (ipython-input-3115418099.py, line 1)",
          "traceback": [
            "\u001b[0;36m  File \u001b[0;32m\"/tmp/ipython-input-3115418099.py\"\u001b[0;36m, line \u001b[0;32m1\u001b[0m\n\u001b[0;31m    1stname=\"apple\"\u001b[0m\n\u001b[0m    ^\u001b[0m\n\u001b[0;31mSyntaxError\u001b[0m\u001b[0;31m:\u001b[0m invalid decimal literal\n"
          ]
        }
      ]
    },
    {
      "cell_type": "code",
      "source": [
        "first name=\"orange\""
      ],
      "metadata": {
        "colab": {
          "base_uri": "https://localhost:8080/",
          "height": 109
        },
        "id": "ygLqK_ABL1xi",
        "outputId": "3a021eed-3e62-4114-d83c-4be78fe663ff"
      },
      "execution_count": null,
      "outputs": [
        {
          "output_type": "error",
          "ename": "SyntaxError",
          "evalue": "invalid syntax (ipython-input-1585941222.py, line 1)",
          "traceback": [
            "\u001b[0;36m  File \u001b[0;32m\"/tmp/ipython-input-1585941222.py\"\u001b[0;36m, line \u001b[0;32m1\u001b[0m\n\u001b[0;31m    first name=\"orange\"\u001b[0m\n\u001b[0m          ^\u001b[0m\n\u001b[0;31mSyntaxError\u001b[0m\u001b[0;31m:\u001b[0m invalid syntax\n"
          ]
        }
      ]
    },
    {
      "cell_type": "code",
      "source": [
        "l=[4,3,5,3]\n",
        "\n",
        "print(sum(l))\n",
        "\n",
        "l.index(5)\n",
        "\n",
        "l.remove(4) #particular elemetn\n",
        "l\n",
        "\n",
        "l.pop(1)  #based on index\n",
        "\n",
        "l"
      ],
      "metadata": {
        "colab": {
          "base_uri": "https://localhost:8080/"
        },
        "id": "wqU7yEwgNnLg",
        "outputId": "8258f489-a8cf-4494-beb6-78e4b8bb463c"
      },
      "execution_count": null,
      "outputs": [
        {
          "output_type": "stream",
          "name": "stdout",
          "text": [
            "15\n"
          ]
        },
        {
          "output_type": "execute_result",
          "data": {
            "text/plain": [
              "[3, 3]"
            ]
          },
          "metadata": {},
          "execution_count": 9
        }
      ]
    },
    {
      "cell_type": "code",
      "source": [
        "l=[5,4,6,2,1]\n",
        "\n",
        "l1=[3,4,5,6]\n",
        "\n",
        "#remove element 6 without using remove function\n",
        "\n",
        "i=l.index(6)\n",
        "\n",
        "l.pop(i)\n",
        "l\n",
        "\n",
        "# l.extend(l1)\n",
        "print(l+l1)"
      ],
      "metadata": {
        "colab": {
          "base_uri": "https://localhost:8080/"
        },
        "id": "oX2gHUTpOu2Y",
        "outputId": "b4f9a1d7-4580-4989-dd3a-98fe049b392d"
      },
      "execution_count": null,
      "outputs": [
        {
          "output_type": "stream",
          "name": "stdout",
          "text": [
            "[5, 4, 2, 1, 3, 4, 5, 6]\n"
          ]
        }
      ]
    },
    {
      "cell_type": "code",
      "source": [
        "#tuple  ()  imutable tuple()\n",
        "\n",
        "#create new tuple from an existing tuple which has only multiple of 3\n",
        "l=[]\n",
        "t=(1,2,3,9,6)\n",
        "\n",
        "for i in t:\n",
        "  if i%3==0:\n",
        "    l.append(i)\n",
        "\n",
        "\n",
        "t1=tuple(l)\n",
        "\n",
        "print(type(t1))"
      ],
      "metadata": {
        "colab": {
          "base_uri": "https://localhost:8080/"
        },
        "id": "coy3lc0EQEHo",
        "outputId": "6a65d77d-9722-4726-c8b0-1a8b5e656a21"
      },
      "execution_count": null,
      "outputs": [
        {
          "output_type": "stream",
          "name": "stdout",
          "text": [
            "<class 'tuple'>\n"
          ]
        }
      ]
    },
    {
      "cell_type": "code",
      "source": [
        "#read a list of elements from the user\n",
        "\n",
        "l=[]\n",
        "\n",
        "for i in range(3):\n",
        "  e=input()\n",
        "  l.append(e)\n",
        "\n",
        "l"
      ],
      "metadata": {
        "colab": {
          "base_uri": "https://localhost:8080/"
        },
        "id": "xflve6vHRu0D",
        "outputId": "b06ff3b0-10a0-43c0-c9dc-e5e21792a227"
      },
      "execution_count": null,
      "outputs": [
        {
          "name": "stdout",
          "output_type": "stream",
          "text": [
            "apple\n",
            "ornage\n",
            "mango\n"
          ]
        },
        {
          "output_type": "execute_result",
          "data": {
            "text/plain": [
              "['apple', 'ornage', 'mango']"
            ]
          },
          "metadata": {},
          "execution_count": 21
        }
      ]
    },
    {
      "cell_type": "code",
      "source": [
        "l=tuple(input().split())\n",
        "l"
      ],
      "metadata": {
        "colab": {
          "base_uri": "https://localhost:8080/"
        },
        "id": "b-903VYpSklU",
        "outputId": "55c4d1bf-b68c-421d-8421-079d84bd1231"
      },
      "execution_count": null,
      "outputs": [
        {
          "name": "stdout",
          "output_type": "stream",
          "text": [
            "apple orange mango\n"
          ]
        },
        {
          "output_type": "execute_result",
          "data": {
            "text/plain": [
              "('apple', 'orange', 'mango')"
            ]
          },
          "metadata": {},
          "execution_count": 25
        }
      ]
    },
    {
      "cell_type": "code",
      "source": [
        "#read a tuple from the user"
      ],
      "metadata": {
        "id": "RGSGb3aIS7Jw"
      },
      "execution_count": null,
      "outputs": []
    },
    {
      "cell_type": "code",
      "source": [
        "#wap to count multiple of 3 in a given tuple without using list\n",
        "l=[]\n",
        "t=(3,1,2,6,7,9)\n",
        "\n",
        "for i in t:\n",
        "  if i%3==0:\n",
        "    l.append(i)\n",
        "\n",
        "print(len(l))"
      ],
      "metadata": {
        "colab": {
          "base_uri": "https://localhost:8080/"
        },
        "id": "ea6D-DETTaiH",
        "outputId": "114781d1-fd19-474d-d0f8-5bc1f7eb8d8e"
      },
      "execution_count": null,
      "outputs": [
        {
          "output_type": "stream",
          "name": "stdout",
          "text": [
            "3\n"
          ]
        }
      ]
    },
    {
      "cell_type": "code",
      "source": [
        "t=(3,1,2,6,7,9)\n",
        "\n",
        "c=0\n",
        "\n",
        "for i in t:\n",
        "  if i%3==0:\n",
        "    c=c+1\n",
        "\n",
        "print(c)"
      ],
      "metadata": {
        "colab": {
          "base_uri": "https://localhost:8080/"
        },
        "id": "ShX9_A3NUfcL",
        "outputId": "04b926e7-3dee-4b6d-aec0-7592cf33a32e"
      },
      "execution_count": null,
      "outputs": [
        {
          "output_type": "stream",
          "name": "stdout",
          "text": [
            "3\n"
          ]
        }
      ]
    },
    {
      "cell_type": "code",
      "source": [
        "t=(3,1,2,6,7,9)\n",
        "\n",
        "print(max(t))\n",
        "print(min(t))\n",
        "print(len(t))\n",
        "print(t.count(9))"
      ],
      "metadata": {
        "colab": {
          "base_uri": "https://localhost:8080/"
        },
        "id": "y6fXutPaVwmm",
        "outputId": "e9df304a-1579-44a3-bbf0-09a9057d3df7"
      },
      "execution_count": null,
      "outputs": [
        {
          "output_type": "stream",
          "name": "stdout",
          "text": [
            "9\n",
            "1\n",
            "6\n",
            "1\n"
          ]
        }
      ]
    },
    {
      "cell_type": "code",
      "source": [
        "#dictionary {} mutable  dict()  key-value pairs\n",
        "\n",
        "student={\"name\":\"john\",\"class\":12,\"rollno\":13}\n",
        "\n",
        "print(type(student))"
      ],
      "metadata": {
        "colab": {
          "base_uri": "https://localhost:8080/"
        },
        "id": "K_PB5UY4WaGs",
        "outputId": "6ae2ee50-90ea-4f4b-8dda-cbd874960fcb"
      },
      "execution_count": null,
      "outputs": [
        {
          "output_type": "stream",
          "name": "stdout",
          "text": [
            "<class 'dict'>\n"
          ]
        }
      ]
    },
    {
      "cell_type": "code",
      "source": [
        "student[\"name\"]\n",
        "\n",
        "student['class']"
      ],
      "metadata": {
        "colab": {
          "base_uri": "https://localhost:8080/"
        },
        "id": "H6AXEF5yXUdp",
        "outputId": "17a109df-1202-4603-f0e1-4caf7035859d"
      },
      "execution_count": null,
      "outputs": [
        {
          "output_type": "execute_result",
          "data": {
            "text/plain": [
              "12"
            ]
          },
          "metadata": {},
          "execution_count": 37
        }
      ]
    },
    {
      "cell_type": "code",
      "source": [
        "student['name']=\"jack\"  #updating existing value\n",
        "\n",
        "student['age']=24    #add a new element\n",
        "\n",
        "student"
      ],
      "metadata": {
        "colab": {
          "base_uri": "https://localhost:8080/"
        },
        "id": "DWnxVI_LXwUh",
        "outputId": "aea3734e-c371-436c-bca7-00eab9d53c8d"
      },
      "execution_count": null,
      "outputs": [
        {
          "output_type": "execute_result",
          "data": {
            "text/plain": [
              "{'name': 'jack', 'class': 12, 'rollno': 13, 'age': 24}"
            ]
          },
          "metadata": {},
          "execution_count": 39
        }
      ]
    },
    {
      "cell_type": "code",
      "source": [
        "print(len(student))\n",
        "\n",
        "print(student.keys())\n",
        "\n",
        "print(student.values())\n",
        "\n",
        "print(student.items())"
      ],
      "metadata": {
        "colab": {
          "base_uri": "https://localhost:8080/"
        },
        "id": "nIGCuziqYtVR",
        "outputId": "6d64510e-028c-4db8-fa73-0129d49539e9"
      },
      "execution_count": null,
      "outputs": [
        {
          "output_type": "stream",
          "name": "stdout",
          "text": [
            "6\n",
            "dict_keys(['name', 'class', 'rollno', 'age', 'height', 'weight'])\n",
            "dict_values(['jack', 12, 13, 24, 123, 456])\n",
            "dict_items([('name', 'jack'), ('class', 12), ('rollno', 13), ('age', 24), ('height', 123), ('weight', 456)])\n"
          ]
        }
      ]
    },
    {
      "cell_type": "code",
      "source": [
        "student.update({\"height\":123,\"weight\":456})\n",
        "\n",
        "student"
      ],
      "metadata": {
        "colab": {
          "base_uri": "https://localhost:8080/"
        },
        "id": "aRYSFuktZb3x",
        "outputId": "a91fe6a1-b8c1-41d6-ca81-a2f8081cbb6c"
      },
      "execution_count": null,
      "outputs": [
        {
          "output_type": "execute_result",
          "data": {
            "text/plain": [
              "{'name': 'jack',\n",
              " 'class': 12,\n",
              " 'rollno': 13,\n",
              " 'age': 24,\n",
              " 'height': 123,\n",
              " 'weight': 456}"
            ]
          },
          "metadata": {},
          "execution_count": 43
        }
      ]
    },
    {
      "cell_type": "code",
      "source": [
        "student.get(\"height\")"
      ],
      "metadata": {
        "colab": {
          "base_uri": "https://localhost:8080/"
        },
        "id": "jrqWV_sSaLZD",
        "outputId": "ed0db36b-570a-4bfc-eaae-d969daa45d8a"
      },
      "execution_count": null,
      "outputs": [
        {
          "output_type": "execute_result",
          "data": {
            "text/plain": [
              "123"
            ]
          },
          "metadata": {},
          "execution_count": 46
        }
      ]
    },
    {
      "cell_type": "code",
      "source": [
        "# student.pop(\"height\")\n",
        "\n",
        "# student\n",
        "\n",
        "student.popitem()\n",
        "\n",
        "student"
      ],
      "metadata": {
        "colab": {
          "base_uri": "https://localhost:8080/"
        },
        "id": "DP5bsfVAagAu",
        "outputId": "b234a49e-f765-41ba-a622-02e200fe6fc7"
      },
      "execution_count": null,
      "outputs": [
        {
          "output_type": "execute_result",
          "data": {
            "text/plain": [
              "{'name': 'jack', 'class': 12, 'rollno': 13}"
            ]
          },
          "metadata": {},
          "execution_count": 50
        }
      ]
    },
    {
      "cell_type": "code",
      "source": [
        "d={1:\"apple\",2:\"orange\",3:\"mango\"}\n",
        "\n",
        "#display the dictionary\n",
        "\n",
        "print(d)\n",
        "#add new item 6:banana\n",
        "d[6]=\"banana\"\n",
        "print(d)\n",
        "#update the value of apple to grapes\n",
        "d[1]=\"grapes\"\n",
        "print(d)\n",
        "#delete grapes\n",
        "d.pop(1)"
      ],
      "metadata": {
        "colab": {
          "base_uri": "https://localhost:8080/",
          "height": 90
        },
        "id": "ghmWDU90bbKQ",
        "outputId": "596519a2-d4dc-4123-99f8-c1bdd103514b"
      },
      "execution_count": null,
      "outputs": [
        {
          "output_type": "stream",
          "name": "stdout",
          "text": [
            "{1: 'apple', 2: 'orange', 3: 'mango'}\n",
            "{1: 'apple', 2: 'orange', 3: 'mango', 6: 'banana'}\n",
            "{1: 'grapes', 2: 'orange', 3: 'mango', 6: 'banana'}\n"
          ]
        },
        {
          "output_type": "execute_result",
          "data": {
            "text/plain": [
              "'grapes'"
            ],
            "application/vnd.google.colaboratory.intrinsic+json": {
              "type": "string"
            }
          },
          "metadata": {},
          "execution_count": 55
        }
      ]
    },
    {
      "cell_type": "code",
      "source": [
        "d"
      ],
      "metadata": {
        "id": "SaqKry4vdHeK",
        "outputId": "75e8f594-d08a-4d90-f870-7f89332425bc",
        "colab": {
          "base_uri": "https://localhost:8080/"
        }
      },
      "execution_count": null,
      "outputs": [
        {
          "output_type": "execute_result",
          "data": {
            "text/plain": [
              "{2: 'orange', 3: 'mango', 6: 'banana'}"
            ]
          },
          "metadata": {},
          "execution_count": 56
        }
      ]
    },
    {
      "cell_type": "code",
      "source": [
        "#wap to count each word in a given list\n",
        "d={}\n",
        "l=[\"hai\",\"hai\",\"hello\",\"hello\",\"hello\",\"bye\"]\n",
        "\n",
        "for i in l:\n",
        "  if i not in d:\n",
        "    d[i]=1\n",
        "  else:\n",
        "    d[i]=d[i]+1\n",
        "\n",
        "d"
      ],
      "metadata": {
        "colab": {
          "base_uri": "https://localhost:8080/"
        },
        "id": "obqzW99cU5L7",
        "outputId": "01e71f25-a312-4265-999c-7dee3c3de7ad"
      },
      "execution_count": null,
      "outputs": [
        {
          "output_type": "execute_result",
          "data": {
            "text/plain": [
              "{'hai': 2, 'hello': 3, 'bye': 1}"
            ]
          },
          "metadata": {},
          "execution_count": 1
        }
      ]
    },
    {
      "cell_type": "code",
      "source": [
        "#set mutable {} unique elements set()\n",
        "\n",
        "#wap to print unique elemtents from a given list\n",
        "\n",
        "l=[1,1,1,2,3,3,3,5,5,5]\n",
        "\n",
        "s=list(set(l))\n",
        "\n",
        "s"
      ],
      "metadata": {
        "colab": {
          "base_uri": "https://localhost:8080/"
        },
        "id": "Of8lAaYdW45H",
        "outputId": "68128ace-17e6-46c7-8ed2-316d1e58304d"
      },
      "execution_count": null,
      "outputs": [
        {
          "output_type": "execute_result",
          "data": {
            "text/plain": [
              "[1, 2, 3, 5]"
            ]
          },
          "metadata": {},
          "execution_count": 3
        }
      ]
    },
    {
      "cell_type": "code",
      "source": [
        "s={1,2,3,4}\n",
        "\n",
        "s.add(5)\n",
        "s.add(2)\n",
        "\n",
        "s.remove(4)\n",
        "\n",
        "s.update({6,7,8})\n",
        "s"
      ],
      "metadata": {
        "colab": {
          "base_uri": "https://localhost:8080/"
        },
        "id": "IerSzGe3XvdV",
        "outputId": "845ed70a-7172-4a85-ed32-39d33233b894"
      },
      "execution_count": null,
      "outputs": [
        {
          "output_type": "execute_result",
          "data": {
            "text/plain": [
              "{1, 2, 3, 5, 6, 7, 8}"
            ]
          },
          "metadata": {},
          "execution_count": 7
        }
      ]
    },
    {
      "cell_type": "code",
      "source": [
        "s1={1,2,4,5,6}\n",
        "s2={5,6,7,8,9}\n",
        "\n",
        "print(s1.union(s2))\n",
        "print(s1.intersection(s2))\n",
        "print(s1.difference(s2))\n",
        "print(s1.symmetric_difference(s2))"
      ],
      "metadata": {
        "colab": {
          "base_uri": "https://localhost:8080/"
        },
        "id": "fBVTmcOmaIxc",
        "outputId": "c9544330-6ae6-42dd-a925-aef80d56944c"
      },
      "execution_count": null,
      "outputs": [
        {
          "output_type": "stream",
          "name": "stdout",
          "text": [
            "{1, 2, 4, 5, 6, 7, 8, 9}\n",
            "{5, 6}\n",
            "{1, 2, 4}\n",
            "{1, 2, 4, 7, 8, 9}\n"
          ]
        }
      ]
    },
    {
      "cell_type": "code",
      "source": [
        "#you are given a lsit of subjects for student assume one of the classroom is required for 1 subject how many classrooms are needed by all subjects\n",
        "\n",
        "subject=[\"cs\",\"cs\",\"ai\",\"ds\"]\n",
        "\n",
        "s=len(set(subject))\n",
        "s"
      ],
      "metadata": {
        "colab": {
          "base_uri": "https://localhost:8080/"
        },
        "id": "NvqlpIzDa4Yd",
        "outputId": "f8b52bf1-e5c3-4dbb-c241-f48fa6dd9b3d"
      },
      "execution_count": null,
      "outputs": [
        {
          "output_type": "execute_result",
          "data": {
            "text/plain": [
              "3"
            ]
          },
          "metadata": {},
          "execution_count": 12
        }
      ]
    },
    {
      "cell_type": "code",
      "source": [
        "#wap to read name and mark of three sutdents and store it in a dictionary\n",
        "\n",
        "d={}\n",
        "\n",
        "for i in range(3):\n",
        "  name=input(\"Enter the name: \")\n",
        "  mark=float(input(\"Enter the mark: \"))\n",
        "  d[name]=mark"
      ],
      "metadata": {
        "colab": {
          "base_uri": "https://localhost:8080/"
        },
        "id": "0eyLJDt1b_7x",
        "outputId": "3017e069-67ed-42b8-c3ed-340ec9d9f06d"
      },
      "execution_count": null,
      "outputs": [
        {
          "name": "stdout",
          "output_type": "stream",
          "text": [
            "Enter the name: john\n",
            "Enter the mark: 23\n",
            "Enter the name: boss\n",
            "Enter the mark: 43\n",
            "Enter the name: abu\n",
            "Enter the mark: 87\n"
          ]
        }
      ]
    },
    {
      "cell_type": "code",
      "source": [
        "for k,v in d.items():\n",
        "  print(k,v)"
      ],
      "metadata": {
        "colab": {
          "base_uri": "https://localhost:8080/"
        },
        "id": "MfjvN8j_c_tn",
        "outputId": "8e76d504-6c41-4fbe-8926-02ffa223bb6f"
      },
      "execution_count": null,
      "outputs": [
        {
          "output_type": "stream",
          "name": "stdout",
          "text": [
            "john 23.0\n",
            "boss 43.0\n",
            "abu 87.0\n"
          ]
        }
      ]
    },
    {
      "cell_type": "code",
      "source": [
        "#nested list (list of list)\n",
        "\n",
        "l=[1,2,[3,4,[\"a\",\"b\"]],5,3]\n",
        "\n",
        "#2\n",
        "\n",
        "#[3,4,[\"a\",\"b\"]]\n",
        "\n",
        "#[\"a\",\"b\"]\n",
        "\n",
        "#\"b\"\n",
        "\n",
        "#4"
      ],
      "metadata": {
        "id": "jzDFA1TieA6i"
      },
      "execution_count": null,
      "outputs": []
    },
    {
      "cell_type": "code",
      "source": [
        "l1=[{1:\"apple\",3:\"mango\"},{2:\"orange\"}]\n",
        "\n",
        "l1[1]\n",
        "\n",
        "l1[0][3]"
      ],
      "metadata": {
        "colab": {
          "base_uri": "https://localhost:8080/",
          "height": 36
        },
        "id": "A-JbtkOIgl3-",
        "outputId": "17e25102-b4df-4709-8841-59da0401fe68"
      },
      "execution_count": null,
      "outputs": [
        {
          "output_type": "execute_result",
          "data": {
            "text/plain": [
              "'mango'"
            ],
            "application/vnd.google.colaboratory.intrinsic+json": {
              "type": "string"
            }
          },
          "metadata": {},
          "execution_count": 18
        }
      ]
    },
    {
      "cell_type": "code",
      "source": [
        "#create a temparature converter if choice is\n",
        "#1 convert celcios to farenheit f=c*(9/5)+32\n",
        "#if choice is 2 convert farenheit teo celcious c=(f-32)*(5/9)"
      ],
      "metadata": {
        "id": "AxxR7FLFhxwV"
      },
      "execution_count": null,
      "outputs": []
    },
    {
      "cell_type": "code",
      "source": [
        "#assign 7 to x and 3 to y then compute x+y*2\n",
        "#swap a=100 and b=200\n",
        "#check if width =10 and height =20 is width and heigt are equal\n",
        "#extract world from hello world\n",
        "#check if text=\"python\" starts with py\n",
        "#count how many l in hello\n",
        "#replace cat with dog in phrase=\"I love cat\"\n",
        "#check if \"123\" is numeric\n",
        "#check 5 exists in [1,2,3,4]\n",
        "#convert \"3.14\" to float\n",
        "#change 100 to a string\n",
        "#transfrom \"hello\" into list of characters\n",
        "#calculate 15% tip on bill=50\n",
        "#what is 3*\"A\"+2*\"B\"\n",
        "print(3*\"A\"+2*\"B\")\n",
        "#Evaluvate [1,2,3][1:]\n",
        "print([1,2,3][1:])"
      ],
      "metadata": {
        "colab": {
          "base_uri": "https://localhost:8080/"
        },
        "id": "0tPAh9Cze-qa",
        "outputId": "1c0193ca-d331-482f-eb11-06db88721f14"
      },
      "execution_count": null,
      "outputs": [
        {
          "output_type": "stream",
          "name": "stdout",
          "text": [
            "AAABB\n",
            "[2, 3]\n"
          ]
        }
      ]
    },
    {
      "cell_type": "code",
      "source": [
        "bill=50\n",
        "\n",
        "print(.15*bill)"
      ],
      "metadata": {
        "colab": {
          "base_uri": "https://localhost:8080/"
        },
        "id": "jP3SzH7_l4An",
        "outputId": "edf345f0-e18f-4c47-842e-c2b1188367f7"
      },
      "execution_count": null,
      "outputs": [
        {
          "output_type": "stream",
          "name": "stdout",
          "text": [
            "7.5\n"
          ]
        }
      ]
    },
    {
      "cell_type": "code",
      "source": [
        "#walrus operator\n",
        "\n",
        "print(.15*(bill:=20))"
      ],
      "metadata": {
        "colab": {
          "base_uri": "https://localhost:8080/"
        },
        "id": "9hTr7wVnmAJa",
        "outputId": "463b0a4c-1e7a-4689-bb55-9157b587af25"
      },
      "execution_count": null,
      "outputs": [
        {
          "output_type": "stream",
          "name": "stdout",
          "text": [
            "3.0\n"
          ]
        }
      ]
    },
    {
      "cell_type": "code",
      "source": [
        "# #increment x=7 by 3 without using + operator\n",
        "# x=7\n",
        "# x+=3\n",
        "# #convert miles=5 to kilometers (1mile=1.60934) use walrus operator\n",
        "# print((miles:=5)*1.60934)\n",
        "# #print swap case of s=\"PyThon\"\n",
        "# s.swapcase()\n",
        "# #check if s=\"hello\" is all lowercase\n",
        "# islower()\n",
        "# #check if word=\"Python\" end with \"on\"\n",
        "# .endswith()\n",
        "# #remove whitespaces from \" hello \"\n",
        "# .strip()\n",
        "# #split \"apple,banana,cherry\" at commas\n",
        "# .split(\",\")\n",
        "# #check if \"123abc\" is alpha numeric\n",
        "# isalnum()\n",
        "# #change the second element of l=[1,2,3] to 5\n",
        "# l[1]=5\n",
        "# #get index of \"b\" in [\"a\",\"b\",\"c\"]\n",
        "# .index(\"b\")\n",
        "# #find smallest of two numbers\n",
        "# min(a,b)\n",
        "# #calculate hypotenuse of a right triangle with sides 3 and 4\n",
        "\n",
        "a=3\n",
        "b=4\n",
        "c=(a**2+b**2)**.5\n",
        "\n",
        "print(c)"
      ],
      "metadata": {
        "colab": {
          "base_uri": "https://localhost:8080/"
        },
        "id": "QC6IZhnDnTNf",
        "outputId": "27b5458e-713f-4430-91aa-7180d479b3d1"
      },
      "execution_count": null,
      "outputs": [
        {
          "output_type": "stream",
          "name": "stdout",
          "text": [
            "5.0\n"
          ]
        }
      ]
    },
    {
      "cell_type": "code",
      "source": [
        "#wap to print 10 hai vertically\n",
        "\n",
        "for i in range(10):\n",
        "  print(\"hai\")\n",
        "  # print(i)"
      ],
      "metadata": {
        "colab": {
          "base_uri": "https://localhost:8080/"
        },
        "id": "N8ruko3ZofLO",
        "outputId": "8a3ece15-f9d9-4e22-f045-628bd29a3b09"
      },
      "execution_count": null,
      "outputs": [
        {
          "output_type": "stream",
          "name": "stdout",
          "text": [
            "hai\n",
            "hai\n",
            "hai\n",
            "hai\n",
            "hai\n",
            "hai\n",
            "hai\n",
            "hai\n",
            "hai\n",
            "hai\n"
          ]
        }
      ]
    },
    {
      "cell_type": "code",
      "source": [
        "#wap to print 10 hai horizontaly\n",
        "for i in range(10):\n",
        "  print(\"hai\",end=\" \")"
      ],
      "metadata": {
        "colab": {
          "base_uri": "https://localhost:8080/"
        },
        "id": "X4BID7RgpIdi",
        "outputId": "a0121539-2340-450f-9aa1-1bb97601b690"
      },
      "execution_count": null,
      "outputs": [
        {
          "output_type": "stream",
          "name": "stdout",
          "text": [
            "hai hai hai hai hai hai hai hai hai hai "
          ]
        }
      ]
    },
    {
      "cell_type": "code",
      "source": [
        "#wap to find sum of even numbers within 1-100 both including\n",
        "\n",
        "s=0\n",
        "\n",
        "for i in range(0,101,2):\n",
        "  print(i,end=\" \")\n",
        "  s+=i\n",
        "\n",
        "s"
      ],
      "metadata": {
        "colab": {
          "base_uri": "https://localhost:8080/"
        },
        "id": "Dt9V6_Afpowq",
        "outputId": "7a3e9bbc-c580-4380-ddb5-3e3ba76ad8ef"
      },
      "execution_count": null,
      "outputs": [
        {
          "output_type": "stream",
          "name": "stdout",
          "text": [
            "0 2 4 6 8 10 12 14 16 18 20 22 24 26 28 30 32 34 36 38 40 42 44 46 48 50 52 54 56 58 60 62 64 66 68 70 72 74 76 78 80 82 84 86 88 90 92 94 96 98 100 "
          ]
        },
        {
          "output_type": "execute_result",
          "data": {
            "text/plain": [
              "2550"
            ]
          },
          "metadata": {},
          "execution_count": 8
        }
      ]
    },
    {
      "cell_type": "code",
      "source": [
        "#wap to find sum of odd numbers with in 1-20 both inclusive\n",
        "\n",
        "s=0\n",
        "\n",
        "for i in range(1,21):\n",
        "  if i%2!=0:\n",
        "    s=s+i\n",
        "\n",
        "s"
      ],
      "metadata": {
        "colab": {
          "base_uri": "https://localhost:8080/"
        },
        "id": "C-HSWJcyqjeR",
        "outputId": "a60680a5-57f1-451e-8d93-e5858e615afa"
      },
      "execution_count": null,
      "outputs": [
        {
          "output_type": "execute_result",
          "data": {
            "text/plain": [
              "100"
            ]
          },
          "metadata": {},
          "execution_count": 9
        }
      ]
    },
    {
      "cell_type": "code",
      "source": [
        "#wap to print factorial of a number\n",
        "n=int(input(\"enter the number\"))\n",
        "\n",
        "f=1\n",
        "for i in range(1,n+1):\n",
        "  f=f*i\n",
        "\n",
        "f"
      ],
      "metadata": {
        "colab": {
          "base_uri": "https://localhost:8080/"
        },
        "id": "Dmvp_ESRrbws",
        "outputId": "8eb554f4-c606-40b8-c230-b6dbf9126182"
      },
      "execution_count": null,
      "outputs": [
        {
          "name": "stdout",
          "output_type": "stream",
          "text": [
            "enter the number5\n"
          ]
        },
        {
          "output_type": "execute_result",
          "data": {
            "text/plain": [
              "120"
            ]
          },
          "metadata": {},
          "execution_count": 10
        }
      ]
    },
    {
      "cell_type": "code",
      "source": [
        "#wap to print multiplication table of 5 upto 15 rows\n",
        "\n",
        "for i in range(1,16):\n",
        "  print(f\"{i} x 5 ={i*5}\")"
      ],
      "metadata": {
        "colab": {
          "base_uri": "https://localhost:8080/"
        },
        "id": "uxVCcMentffu",
        "outputId": "e68ba2e5-074c-44fc-c1af-89b5551a80ca"
      },
      "execution_count": null,
      "outputs": [
        {
          "output_type": "stream",
          "name": "stdout",
          "text": [
            "1 x 5 =5\n",
            "2 x 5 =10\n",
            "3 x 5 =15\n",
            "4 x 5 =20\n",
            "5 x 5 =25\n",
            "6 x 5 =30\n",
            "7 x 5 =35\n",
            "8 x 5 =40\n",
            "9 x 5 =45\n",
            "10 x 5 =50\n",
            "11 x 5 =55\n",
            "12 x 5 =60\n",
            "13 x 5 =65\n",
            "14 x 5 =70\n",
            "15 x 5 =75\n"
          ]
        }
      ]
    },
    {
      "cell_type": "code",
      "source": [
        "#wap to print factors of a given number\n",
        "\n",
        "n=int(input(\"enter the number\"))\n",
        "\n",
        "for i in range(1,n+1):\n",
        "  if n%i==0:\n",
        "    print(i)"
      ],
      "metadata": {
        "colab": {
          "base_uri": "https://localhost:8080/"
        },
        "id": "chqSpg6Eupd1",
        "outputId": "e7809e41-3a62-4001-b52a-6473f46a3334"
      },
      "execution_count": null,
      "outputs": [
        {
          "output_type": "stream",
          "name": "stdout",
          "text": [
            "1\n",
            "2\n",
            "4\n",
            "8\n"
          ]
        }
      ]
    },
    {
      "cell_type": "code",
      "source": [
        "#wap to count number of factors of a given number\n",
        "\n",
        "\n",
        "n=int(input(\"enter the number\"))\n",
        "c=0\n",
        "for i in range(1,n+1):\n",
        "  if n%i==0:\n",
        "    c+=1\n",
        "\n",
        "if c==2:\n",
        "  print(\"prime\")\n",
        "\n",
        "else:\n",
        "  print(\"not prime\")\n"
      ],
      "metadata": {
        "colab": {
          "base_uri": "https://localhost:8080/"
        },
        "id": "IObLGpOxvobB",
        "outputId": "a41026b2-04f3-4a9a-e802-0dfba8e274b6"
      },
      "execution_count": null,
      "outputs": [
        {
          "output_type": "stream",
          "name": "stdout",
          "text": [
            "enter the number2\n",
            "prime\n"
          ]
        }
      ]
    },
    {
      "cell_type": "code",
      "source": [
        "l=[]\n",
        "n=8\n",
        "for i in range(1,n+1):\n",
        "  if n%i==0:\n",
        "    l.append(i)\n",
        "\n",
        "print(len(l))"
      ],
      "metadata": {
        "colab": {
          "base_uri": "https://localhost:8080/"
        },
        "id": "z1J1C4kkwb4q",
        "outputId": "26097acf-c21c-4e67-ba77-506d7f41e386"
      },
      "execution_count": null,
      "outputs": [
        {
          "output_type": "stream",
          "name": "stdout",
          "text": [
            "4\n"
          ]
        }
      ]
    },
    {
      "cell_type": "code",
      "source": [
        "l=[0,1]\n",
        "n=6\n",
        "for i in range(2,n):\n",
        "  t=l[-1]+l[-2]\n",
        "  l.append(t)\n",
        "\n",
        "\n",
        "for i in l:\n",
        "  print(i,end=\" \")"
      ],
      "metadata": {
        "colab": {
          "base_uri": "https://localhost:8080/"
        },
        "id": "R1ABMd6_114w",
        "outputId": "28f0da41-aeea-4d5e-9c61-09cf079b8d7a"
      },
      "execution_count": null,
      "outputs": [
        {
          "output_type": "stream",
          "name": "stdout",
          "text": [
            "0 1 1 2 3 5 "
          ]
        }
      ]
    },
    {
      "cell_type": "code",
      "source": [
        "f=0\n",
        "s=1\n",
        "\n",
        "for i in range(4):\n",
        "  print(f,end=\" \")\n",
        "  t=f+s\n",
        "  f=s\n",
        "  s=t"
      ],
      "metadata": {
        "colab": {
          "base_uri": "https://localhost:8080/"
        },
        "id": "4ph9FSG23FMn",
        "outputId": "74d655f0-84f6-4344-d0cf-177286936fbd"
      },
      "execution_count": null,
      "outputs": [
        {
          "output_type": "stream",
          "name": "stdout",
          "text": [
            "0 1 1 2 "
          ]
        }
      ]
    },
    {
      "cell_type": "code",
      "source": [
        "#wap to find number of charecters in a string\n",
        "#wap to find number of words in a string"
      ],
      "metadata": {
        "id": "YAkNgsua5EtM"
      },
      "execution_count": null,
      "outputs": []
    },
    {
      "cell_type": "code",
      "source": [
        "i=0\n",
        "\n",
        "while i<10:\n",
        "  print(\"hi\")\n",
        "  i+=1"
      ],
      "metadata": {
        "colab": {
          "base_uri": "https://localhost:8080/"
        },
        "id": "FK2lMg3ow1Wz",
        "outputId": "705c08fa-8562-47f3-d45e-2b279924b365"
      },
      "execution_count": null,
      "outputs": [
        {
          "output_type": "stream",
          "name": "stdout",
          "text": [
            "hi\n",
            "hi\n",
            "hi\n",
            "hi\n",
            "hi\n",
            "hi\n",
            "hi\n",
            "hi\n",
            "hi\n",
            "hi\n"
          ]
        }
      ]
    },
    {
      "cell_type": "code",
      "source": [
        "#wap to print odd numbers less than 50 using while loop\n",
        "\n",
        "# i=1\n",
        "\n",
        "# while i<50:\n",
        "#   print(i)\n",
        "#   i+=2\n",
        "\n",
        "\n",
        "\n",
        "i=0\n",
        "\n",
        "while i<50:\n",
        "  if i%2!=0:\n",
        "    print(i,end=\" \")\n",
        "  i+=1\n"
      ],
      "metadata": {
        "colab": {
          "base_uri": "https://localhost:8080/"
        },
        "id": "YD6mhdt0yNIV",
        "outputId": "b770d505-2b79-4581-8b4c-d2ec8ca1a66d"
      },
      "execution_count": null,
      "outputs": [
        {
          "output_type": "stream",
          "name": "stdout",
          "text": [
            "1 3 5 7 9 11 13 15 17 19 21 23 25 27 29 31 33 35 37 39 41 43 45 47 49 "
          ]
        }
      ]
    },
    {
      "cell_type": "code",
      "source": [
        "#wap to print fiste 10 natural numbers using while loop\n",
        "\n",
        "i=1\n",
        "\n",
        "while i<=10:\n",
        "  print(i)\n",
        "  i+=1"
      ],
      "metadata": {
        "colab": {
          "base_uri": "https://localhost:8080/"
        },
        "id": "mJGbMNoQzYcy",
        "outputId": "53779cb1-0a20-4a5c-ab91-c48255bfa545"
      },
      "execution_count": null,
      "outputs": [
        {
          "output_type": "stream",
          "name": "stdout",
          "text": [
            "1\n",
            "2\n",
            "3\n",
            "4\n",
            "5\n",
            "6\n",
            "7\n",
            "8\n",
            "9\n",
            "10\n"
          ]
        }
      ]
    },
    {
      "cell_type": "code",
      "source": [
        "#create a electricity bill\n",
        "#if unit consumed upto 100(including) nocharge\n",
        "#if unit consumed is greater than 100 and equal to 200 rs 5 per unit\n",
        "#if unit consumed is greater than 200 rs 10 per unit\n",
        "#find the total amount"
      ],
      "metadata": {
        "id": "wGFmsS5W0IWR"
      },
      "execution_count": null,
      "outputs": []
    },
    {
      "cell_type": "code",
      "source": [
        "n=350\n",
        "\n",
        "if n<=100:\n",
        "  print(\"no charge\")\n",
        "\n",
        "elif n>100 and n<=200:\n",
        "  print((n-100)*5)\n",
        "\n",
        "else:\n",
        "  print(((n-200)*10)+500)"
      ],
      "metadata": {
        "colab": {
          "base_uri": "https://localhost:8080/"
        },
        "id": "kwx4mzZW5YBJ",
        "outputId": "438804ae-f38d-4456-c244-819693aa30a7"
      },
      "execution_count": null,
      "outputs": [
        {
          "output_type": "stream",
          "name": "stdout",
          "text": [
            "2000\n"
          ]
        }
      ]
    },
    {
      "cell_type": "code",
      "source": [
        "#find number of digits in a number\n",
        "\n",
        "c=0\n",
        "\n",
        "n=1234\n",
        "while n>0:\n",
        "  n=n//10\n",
        "  c+=1\n",
        "\n",
        "c"
      ],
      "metadata": {
        "colab": {
          "base_uri": "https://localhost:8080/"
        },
        "id": "Yjg3NyqS7SIe",
        "outputId": "fe938ee8-eb7a-40cd-eba7-3527850b81a6"
      },
      "execution_count": null,
      "outputs": [
        {
          "output_type": "execute_result",
          "data": {
            "text/plain": [
              "4"
            ]
          },
          "metadata": {},
          "execution_count": 11
        }
      ]
    },
    {
      "cell_type": "code",
      "source": [
        "n=1234\n",
        "\n",
        "a=str(1234)\n",
        "print(len(a))"
      ],
      "metadata": {
        "colab": {
          "base_uri": "https://localhost:8080/"
        },
        "id": "ZpIXD5NT8d5c",
        "outputId": "f341cfa2-7efa-4355-d397-d320de291def"
      },
      "execution_count": null,
      "outputs": [
        {
          "output_type": "stream",
          "name": "stdout",
          "text": [
            "4\n"
          ]
        }
      ]
    },
    {
      "cell_type": "code",
      "source": [
        "#wap to compute sum of digits in a given number\n",
        "n=153\n",
        "\n",
        "a=n\n",
        "\n",
        "j=len(str(n))\n",
        "s=0\n",
        "while n>0:\n",
        "  l=n%10\n",
        "  s+=l**j\n",
        "  n=n//10\n",
        "\n",
        "if a==s:\n",
        "  print(\"armstrong\")\n",
        "\n",
        "else:\n",
        "  print(\"not armstrong\")\n"
      ],
      "metadata": {
        "colab": {
          "base_uri": "https://localhost:8080/"
        },
        "id": "f7pha4Y29sML",
        "outputId": "4254fb35-afd9-44d7-915a-22195905de7c"
      },
      "execution_count": null,
      "outputs": [
        {
          "output_type": "stream",
          "name": "stdout",
          "text": [
            "armstrong\n"
          ]
        }
      ]
    },
    {
      "cell_type": "code",
      "source": [
        "n=1234\n",
        "st=str(n)\n",
        "s=0\n",
        "for i in st:\n",
        "  s=s+int(i)\n",
        "\n",
        "s"
      ],
      "metadata": {
        "colab": {
          "base_uri": "https://localhost:8080/"
        },
        "id": "3Be9QfuN_lzZ",
        "outputId": "0781314b-433f-4c6f-d754-59866a609c3c"
      },
      "execution_count": null,
      "outputs": [
        {
          "output_type": "execute_result",
          "data": {
            "text/plain": [
              "10"
            ]
          },
          "metadata": {},
          "execution_count": 18
        }
      ]
    },
    {
      "cell_type": "code",
      "source": [
        "#wap to compute sum of squares of digits in a given number\n",
        "\n",
        "n=3214"
      ],
      "metadata": {
        "id": "0BY9RcfkAbOc"
      },
      "execution_count": null,
      "outputs": []
    },
    {
      "cell_type": "code",
      "source": [
        "#nested loop\n",
        "for i in range(2):\n",
        "  for j in range(4):\n",
        "    print(\"*\",end=\" \")\n",
        "  print()  #new line\n"
      ],
      "metadata": {
        "colab": {
          "base_uri": "https://localhost:8080/"
        },
        "id": "UNyRf7fcPHpQ",
        "outputId": "58470b03-6341-4442-a2e0-8c30c1bcb586"
      },
      "execution_count": null,
      "outputs": [
        {
          "output_type": "stream",
          "name": "stdout",
          "text": [
            "* * * * \n",
            "* * * * \n"
          ]
        }
      ]
    },
    {
      "cell_type": "code",
      "source": [
        "for i in range(3,6):\n",
        "  for j in range(1,5):\n",
        "    print(i*i,end=\" \")\n",
        "\n",
        "  print()"
      ],
      "metadata": {
        "colab": {
          "base_uri": "https://localhost:8080/"
        },
        "id": "cBFizoUfQpnr",
        "outputId": "e1217031-edb6-4dee-a77c-97876b81bcdb"
      },
      "execution_count": null,
      "outputs": [
        {
          "output_type": "stream",
          "name": "stdout",
          "text": [
            "9 9 9 9 \n",
            "16 16 16 16 \n",
            "25 25 25 25 \n"
          ]
        }
      ]
    },
    {
      "cell_type": "code",
      "source": [
        "for i in range(4):\n",
        "  for j in range(4-i):\n",
        "    print(j,end=\" \")\n",
        "  print()"
      ],
      "metadata": {
        "colab": {
          "base_uri": "https://localhost:8080/"
        },
        "id": "YOGSZYysVLoD",
        "outputId": "7e1827cc-6c5f-4c96-9639-a80b3ee77696"
      },
      "execution_count": null,
      "outputs": [
        {
          "output_type": "stream",
          "name": "stdout",
          "text": [
            "0 1 2 3 \n",
            "0 1 2 \n",
            "0 1 \n",
            "0 \n"
          ]
        }
      ]
    },
    {
      "cell_type": "code",
      "source": [
        "for i in range(4):\n",
        "\n",
        "  for j in range(4-i):\n",
        "    print(\" \",end=\" \")\n",
        "\n",
        "  for k in range(i+1):\n",
        "    print(\"*\",end=\" \")\n",
        "\n",
        "  for l in range(i):\n",
        "    print(\"*\",end=\" \")\n",
        "\n",
        "  print()\n",
        "\n",
        "for i in range(4):\n",
        "\n",
        "  for j in range(4-i):\n",
        "    print(\" \",end=\" \")\n",
        "\n",
        "  for k in range(i+1):\n",
        "    print(\"*\",end=\" \")\n",
        "\n",
        "  for l in range(i):\n",
        "    print(\"*\",end=\" \")\n",
        "\n",
        "  print()"
      ],
      "metadata": {
        "colab": {
          "base_uri": "https://localhost:8080/"
        },
        "id": "BsxKFj1oYN1o",
        "outputId": "f2e5c55d-f75a-4917-c7c0-eb36a93c03b7"
      },
      "execution_count": null,
      "outputs": [
        {
          "output_type": "stream",
          "name": "stdout",
          "text": [
            "        * \n",
            "      * * * \n",
            "    * * * * * \n",
            "  * * * * * * * \n",
            "        * \n",
            "      * * * \n",
            "    * * * * * \n",
            "  * * * * * * * \n"
          ]
        }
      ]
    },
    {
      "cell_type": "code",
      "source": [
        "for i in range(1,5):\n",
        "  for j in range(1,i+1):\n",
        "    print(j,end=\" \")\n",
        "  print()e"
      ],
      "metadata": {
        "colab": {
          "base_uri": "https://localhost:8080/"
        },
        "id": "Dvd4pfEDX1xa",
        "outputId": "7f24e50b-5a08-462c-d22d-7030d8cb2b9c"
      },
      "execution_count": null,
      "outputs": [
        {
          "output_type": "stream",
          "name": "stdout",
          "text": [
            "1 \n",
            "1 2 \n",
            "1 2 3 \n",
            "1 2 3 4 \n"
          ]
        }
      ]
    },
    {
      "cell_type": "code",
      "source": [
        "for i in range(1,5):\n",
        "  for j in range(i,0,-1):\n",
        "    print(j,end=\" \")\n",
        "  print()"
      ],
      "metadata": {
        "colab": {
          "base_uri": "https://localhost:8080/"
        },
        "id": "dGlaqB1NYLTl",
        "outputId": "8f3c248d-a687-4d93-82d8-783b1a9a1f7c"
      },
      "execution_count": null,
      "outputs": [
        {
          "output_type": "stream",
          "name": "stdout",
          "text": [
            "1 \n",
            "2 1 \n",
            "3 2 1 \n",
            "4 3 2 1 \n"
          ]
        }
      ]
    },
    {
      "cell_type": "code",
      "source": [
        "l=[\"a\",\"b\",\"c\",\"d\"]\n",
        "\n",
        "for i in range(4):\n",
        "  for j in range(i+1):\n",
        "    print(l[j],end=\" \")\n",
        "  print()"
      ],
      "metadata": {
        "colab": {
          "base_uri": "https://localhost:8080/"
        },
        "id": "E0z6xmNMZPV1",
        "outputId": "a854f995-ce8e-425d-d4c9-29b9bdcb8ccf"
      },
      "execution_count": null,
      "outputs": [
        {
          "output_type": "stream",
          "name": "stdout",
          "text": [
            "a \n",
            "a b \n",
            "a b c \n",
            "a b c d \n"
          ]
        }
      ]
    },
    {
      "cell_type": "code",
      "source": [
        "#jumping statements\n",
        "#pass\n",
        "\n",
        "# for i in range(1,10):\n",
        "#   if i%2==0:\n",
        "#     pass\n",
        "#   else:\n",
        "#     print(i)\n",
        "\n",
        "#break\n",
        "\n",
        "# for i in range(1,10):\n",
        "#   if i==5:\n",
        "#     break\n",
        "#   print(i)\n",
        "\n",
        "\n",
        "#continiue\n",
        "\n",
        "for i in range(1,10):\n",
        "  if i==5:\n",
        "    continue\n",
        "  print(i)"
      ],
      "metadata": {
        "colab": {
          "base_uri": "https://localhost:8080/"
        },
        "id": "-lmestQUaLpH",
        "outputId": "ada8b5f0-0de1-44a1-9834-37d0f346dc93"
      },
      "execution_count": null,
      "outputs": [
        {
          "output_type": "stream",
          "name": "stdout",
          "text": [
            "1\n",
            "2\n",
            "3\n",
            "4\n",
            "6\n",
            "7\n",
            "8\n",
            "9\n"
          ]
        }
      ]
    },
    {
      "cell_type": "code",
      "source": [
        "#wap to print prime numbers in a given range\n",
        "\n",
        "for i in range(1,11):\n",
        "  if i>1:\n",
        "    for j in range(2,i):\n",
        "      if i%j==0:\n",
        "        break\n",
        "    else:\n",
        "      print(i)"
      ],
      "metadata": {
        "colab": {
          "base_uri": "https://localhost:8080/"
        },
        "id": "Oo1yQ0cGcEkL",
        "outputId": "65fa73c9-d7fb-460f-ab02-1501f28bc7b7"
      },
      "execution_count": null,
      "outputs": [
        {
          "output_type": "stream",
          "name": "stdout",
          "text": [
            "2\n",
            "3\n",
            "5\n",
            "7\n"
          ]
        }
      ]
    },
    {
      "cell_type": "code",
      "source": [
        "for i in range(5,5):\n",
        "  print(i)"
      ],
      "metadata": {
        "id": "q7XVBK5Df_WY"
      },
      "execution_count": null,
      "outputs": []
    },
    {
      "cell_type": "code",
      "source": [
        "#functions in python\n",
        "\n",
        "#built in function print(),max(),len(),count()........\n",
        "\n",
        "#function imported from modules\n",
        "\n",
        "#user defined functions"
      ],
      "metadata": {
        "id": "tQ5o2n-Xgxyv"
      },
      "execution_count": null,
      "outputs": []
    },
    {
      "cell_type": "code",
      "source": [
        "\n",
        "def add(a,b):\n",
        "  return a+b,a-b\n",
        "\n",
        "\n",
        "a=int(input(\"enter the number\"))\n",
        "b=int(input(\"entere the number\"))\n",
        "\n",
        "t,s=add(a,b)\n",
        "\n",
        "print(t)\n",
        "print(s)"
      ],
      "metadata": {
        "colab": {
          "base_uri": "https://localhost:8080/"
        },
        "id": "ZAwOctDuhvnI",
        "outputId": "6e6b2834-24af-495b-e552-b266f57bc233"
      },
      "execution_count": null,
      "outputs": [
        {
          "output_type": "stream",
          "name": "stdout",
          "text": [
            "enter the number4\n",
            "entere the number5\n",
            "9\n",
            "-1\n"
          ]
        }
      ]
    },
    {
      "cell_type": "code",
      "source": [
        "#write a programe to create a function for addition substraction multiplication and division"
      ],
      "metadata": {
        "id": "IZPJJ2KskG9j"
      },
      "execution_count": null,
      "outputs": []
    },
    {
      "cell_type": "code",
      "source": [
        "#create function to print factorial of a number\n",
        "\n",
        "def fact(n):\n",
        "  f=1\n",
        "  for i in range(1,n+1):\n",
        "    f=f*i\n",
        "\n",
        "  return f\n",
        "\n",
        "fact(5)"
      ],
      "metadata": {
        "colab": {
          "base_uri": "https://localhost:8080/"
        },
        "id": "fLrwS0YnlzYp",
        "outputId": "77628cf7-c5a7-404d-c554-b09e4417c51a"
      },
      "execution_count": null,
      "outputs": [
        {
          "output_type": "execute_result",
          "data": {
            "text/plain": [
              "120"
            ]
          },
          "metadata": {},
          "execution_count": 24
        }
      ]
    },
    {
      "cell_type": "code",
      "source": [
        "#create a simple calculator using function"
      ],
      "metadata": {
        "id": "K-Al8zJ0m-I_"
      },
      "execution_count": null,
      "outputs": []
    },
    {
      "cell_type": "code",
      "source": [
        "#create a function to check a number is prime or not"
      ],
      "metadata": {
        "id": "53774a72njJH"
      },
      "execution_count": null,
      "outputs": []
    },
    {
      "cell_type": "code",
      "source": [
        "#wap to read list of numbers and create a function to find the maximum element without using inbuilt function\n",
        "\n",
        "\n",
        "l=input().split()\n",
        "\n",
        "def max1(l):\n",
        "\n",
        "  mx=0\n",
        "\n",
        "  for i in l:\n",
        "    if int(i)>mx:\n",
        "      mx=int(i)\n",
        "\n",
        "  return mx\n",
        "\n",
        "max1(l)"
      ],
      "metadata": {
        "colab": {
          "base_uri": "https://localhost:8080/"
        },
        "id": "iKP344lLpUbw",
        "outputId": "3cc4b324-8b04-478f-8282-cf35bd85b628"
      },
      "execution_count": null,
      "outputs": [
        {
          "name": "stdout",
          "output_type": "stream",
          "text": [
            "3 4 2 1 7 3 2\n"
          ]
        },
        {
          "output_type": "execute_result",
          "data": {
            "text/plain": [
              "7"
            ]
          },
          "metadata": {},
          "execution_count": 26
        }
      ]
    },
    {
      "cell_type": "code",
      "source": [
        "#create a function to check a number is odd or even"
      ],
      "metadata": {
        "id": "ISPu5KUnrcvu"
      },
      "execution_count": null,
      "outputs": []
    },
    {
      "cell_type": "code",
      "source": [
        "\n",
        "\n",
        "def student(name,rollno=13): #default arguments\n",
        "  print(\"name is : \",name)\n",
        "  print(\"rollno is: \",rollno)\n",
        "\n",
        "student(rollno=12,name=\"apple\") #keyword arguments"
      ],
      "metadata": {
        "colab": {
          "base_uri": "https://localhost:8080/"
        },
        "id": "d4S4FOuhgwYz",
        "outputId": "339c4839-07c9-44f3-d152-8af0e51e2d4c"
      },
      "execution_count": null,
      "outputs": [
        {
          "output_type": "stream",
          "name": "stdout",
          "text": [
            "name is :  apple\n",
            "rollno is:  12\n"
          ]
        }
      ]
    },
    {
      "cell_type": "code",
      "source": [
        "#create a function to print area of a circle using difault and keyword arguent\n",
        "\n",
        "def area(r,pi=3.14):\n",
        "  print(\"area is: \",pi*(r**2))\n",
        "\n",
        "\n",
        "area(r=9,pi=6.1)"
      ],
      "metadata": {
        "colab": {
          "base_uri": "https://localhost:8080/"
        },
        "id": "VElib_77jdQC",
        "outputId": "80a09248-37c5-4091-dd2e-3ab8e547d980"
      },
      "execution_count": null,
      "outputs": [
        {
          "output_type": "stream",
          "name": "stdout",
          "text": [
            "area is:  494.09999999999997\n"
          ]
        }
      ]
    },
    {
      "cell_type": "code",
      "source": [
        "#create a function to find maximum of three numbers\n",
        "\n",
        "def maxi(a,b,c):\n",
        "  return max(a,b,c)\n",
        "\n",
        "\n",
        "maxi(1,2,3)"
      ],
      "metadata": {
        "colab": {
          "base_uri": "https://localhost:8080/"
        },
        "id": "R3X5zoLUlF-6",
        "outputId": "898a43fe-d3ec-4521-bcbb-56b15c93d2dd"
      },
      "execution_count": null,
      "outputs": [
        {
          "output_type": "execute_result",
          "data": {
            "text/plain": [
              "3"
            ]
          },
          "metadata": {},
          "execution_count": 13
        }
      ]
    },
    {
      "cell_type": "code",
      "source": [
        "#create a function to reverse a string\n",
        "\n",
        "def rev(s):\n",
        "  return s[-1::-1]\n",
        "\n",
        "rev(\"malayalam\")"
      ],
      "metadata": {
        "colab": {
          "base_uri": "https://localhost:8080/",
          "height": 36
        },
        "id": "2zpv1CS7mAeg",
        "outputId": "8165259b-1dcb-4793-ec5f-b6cd4ea2274b"
      },
      "execution_count": null,
      "outputs": [
        {
          "output_type": "execute_result",
          "data": {
            "text/plain": [
              "'malayalam'"
            ],
            "application/vnd.google.colaboratory.intrinsic+json": {
              "type": "string"
            }
          },
          "metadata": {},
          "execution_count": 14
        }
      ]
    },
    {
      "cell_type": "code",
      "source": [
        "#create a function to check a string is palindrome or not"
      ],
      "metadata": {
        "id": "mG_mhg4smq1a"
      },
      "execution_count": null,
      "outputs": []
    },
    {
      "cell_type": "code",
      "source": [
        "#*args ,**kwargs\n",
        "\n",
        "\n",
        "def ore(*args):\n",
        "  print(type(args))\n",
        "\n",
        "  for i in args:\n",
        "    print(i)\n",
        "\n",
        "\n",
        "ore(1,2,3,4,5,\"apple\")"
      ],
      "metadata": {
        "colab": {
          "base_uri": "https://localhost:8080/"
        },
        "id": "4shKFWuQoW4Q",
        "outputId": "aee24f24-ad31-45fa-e5ce-c9d35166417f"
      },
      "execution_count": null,
      "outputs": [
        {
          "output_type": "stream",
          "name": "stdout",
          "text": [
            "<class 'tuple'>\n",
            "1\n",
            "2\n",
            "3\n",
            "4\n",
            "5\n",
            "apple\n"
          ]
        }
      ]
    },
    {
      "cell_type": "code",
      "source": [
        "def are(*args,**kwargs):\n",
        "  print(type(kwargs))\n",
        "\n",
        "  for k,v in kwargs.items():\n",
        "    print(k,v)\n",
        "\n",
        "  print(args)\n",
        "\n",
        "\n",
        "are(3,4,5,a=1,b=2)"
      ],
      "metadata": {
        "colab": {
          "base_uri": "https://localhost:8080/"
        },
        "id": "qmFFQ3Guo9_U",
        "outputId": "5ccab97c-e8f0-4b7f-b348-0391ee15362f"
      },
      "execution_count": null,
      "outputs": [
        {
          "output_type": "stream",
          "name": "stdout",
          "text": [
            "<class 'dict'>\n",
            "a 1\n",
            "b 2\n",
            "(3, 4, 5)\n"
          ]
        }
      ]
    },
    {
      "cell_type": "code",
      "source": [
        "#searching\n",
        "#linear search\n",
        "#binary search\n",
        "\n",
        "l=[4,5,6,1,2]\n",
        "\n",
        "key=10\n",
        "\n",
        "for i in l:\n",
        "  if i==key:\n",
        "    print(\"item found\")\n",
        "    break\n",
        "\n",
        "else:\n",
        "  print(\"item not found\")"
      ],
      "metadata": {
        "colab": {
          "base_uri": "https://localhost:8080/"
        },
        "id": "yMpuJT_SrFmF",
        "outputId": "ee85b7de-fbad-4289-f9c9-4b33c6429d90"
      },
      "execution_count": null,
      "outputs": [
        {
          "output_type": "stream",
          "name": "stdout",
          "text": [
            "item not found\n"
          ]
        }
      ]
    },
    {
      "cell_type": "code",
      "source": [
        "l=[5,7,9,13,32,33,42,54,56,88]\n",
        "\n",
        "l.sort()\n",
        "key=88\n",
        "\n",
        "u=len(l)-1\n",
        "lo=0\n",
        "\n",
        "while(lo<=u):\n",
        "  mid=(u+lo)//2\n",
        "\n",
        "  if l[mid]<key:\n",
        "    lo=mid+1\n",
        "  elif l[mid]>key:\n",
        "    u=mid-1\n",
        "  else:\n",
        "    print(\"item found\",mid)\n",
        "    break\n",
        "\n",
        "else:\n",
        "  print(\"item not found\")"
      ],
      "metadata": {
        "colab": {
          "base_uri": "https://localhost:8080/"
        },
        "id": "Vy8t-wq-zfFF",
        "outputId": "6c11598b-a2f6-4e6f-d797-1510083218de"
      },
      "execution_count": null,
      "outputs": [
        {
          "output_type": "stream",
          "name": "stdout",
          "text": [
            "item found 9\n"
          ]
        }
      ]
    },
    {
      "cell_type": "code",
      "source": [
        "#functional programing\n",
        "\n",
        "#lambda function\n",
        "#filter\n",
        "#map\n",
        "#list comprehension"
      ],
      "metadata": {
        "id": "J6YNd2jfRzk5"
      },
      "execution_count": null,
      "outputs": []
    },
    {
      "cell_type": "code",
      "source": [
        "\n",
        "def sq(a):\n",
        "  return a**2\n",
        "\n",
        "sq(3)"
      ],
      "metadata": {
        "colab": {
          "base_uri": "https://localhost:8080/"
        },
        "id": "AebY61AzSK5E",
        "outputId": "3a4eb57b-66fa-418e-a905-53994f9182ec"
      },
      "execution_count": null,
      "outputs": [
        {
          "output_type": "execute_result",
          "data": {
            "text/plain": [
              "9"
            ]
          },
          "metadata": {},
          "execution_count": 1
        }
      ]
    },
    {
      "cell_type": "code",
      "source": [
        "sq=lambda a:a*a\n",
        "\n",
        "sq(5)"
      ],
      "metadata": {
        "colab": {
          "base_uri": "https://localhost:8080/"
        },
        "id": "jDV_nB4ZSWhF",
        "outputId": "2fd0b56e-9b64-4c4b-9229-d5a11384ffc9"
      },
      "execution_count": null,
      "outputs": [
        {
          "output_type": "execute_result",
          "data": {
            "text/plain": [
              "25"
            ]
          },
          "metadata": {},
          "execution_count": 2
        }
      ]
    },
    {
      "cell_type": "code",
      "source": [
        "#create a lambda function to compute sum of two numbers\n",
        "\n",
        "su=lambda a,b:a+b\n",
        "\n",
        "su(3,4)"
      ],
      "metadata": {
        "colab": {
          "base_uri": "https://localhost:8080/"
        },
        "id": "530m2JwLSxhj",
        "outputId": "45df8bad-4b9b-4ba8-ed1d-21bc9a823d95"
      },
      "execution_count": null,
      "outputs": [
        {
          "output_type": "execute_result",
          "data": {
            "text/plain": [
              "7"
            ]
          },
          "metadata": {},
          "execution_count": 3
        }
      ]
    },
    {
      "cell_type": "code",
      "source": [
        "#create a lamda functin to compute average of three numbers\n",
        "\n",
        "av=lambda a,b,c:(a+b+c)/3\n",
        "\n",
        "av(2,3,4)"
      ],
      "metadata": {
        "colab": {
          "base_uri": "https://localhost:8080/"
        },
        "id": "gVfcz6JoTJHV",
        "outputId": "b0a02cc0-3925-4a8f-ed08-1b39141083dd"
      },
      "execution_count": null,
      "outputs": [
        {
          "output_type": "execute_result",
          "data": {
            "text/plain": [
              "3.0"
            ]
          },
          "metadata": {},
          "execution_count": 4
        }
      ]
    },
    {
      "cell_type": "code",
      "source": [
        "#create a lambda function to find largest amoung two numbers\n",
        "\n",
        "ge=lambda a,b:print(\"a is greater\") if a>b else print(\"b is greater\")\n",
        "\n",
        "ge(4,5)"
      ],
      "metadata": {
        "colab": {
          "base_uri": "https://localhost:8080/"
        },
        "id": "-Jpsnf_4Tsx3",
        "outputId": "9faf382f-e6ce-42a3-abfb-de90aa5f40f4"
      },
      "execution_count": null,
      "outputs": [
        {
          "output_type": "stream",
          "name": "stdout",
          "text": [
            "b is greater\n"
          ]
        }
      ]
    },
    {
      "cell_type": "code",
      "source": [
        "#wap to check a number is odd or even using lambda function\n",
        "\n",
        "oe=lambda n:print(\"even\") if n%2==0 else print(\"odd\")\n",
        "\n",
        "oe(3)"
      ],
      "metadata": {
        "colab": {
          "base_uri": "https://localhost:8080/"
        },
        "id": "F-sCeaGmUhWQ",
        "outputId": "1454f826-740e-46af-9391-4a1bec30c4e6"
      },
      "execution_count": null,
      "outputs": [
        {
          "output_type": "stream",
          "name": "stdout",
          "text": [
            "odd\n"
          ]
        }
      ]
    },
    {
      "cell_type": "code",
      "source": [
        "#wap to check a letter is vowlel or not using lambda function\n",
        "\n",
        "ch=lambda a:print(\"vowel\") if a.lower() in \"aeiou\" else print(\"not vowel\")\n",
        "\n",
        "\n",
        "ch(\"t\")"
      ],
      "metadata": {
        "colab": {
          "base_uri": "https://localhost:8080/"
        },
        "id": "QAaLf-ihVMUT",
        "outputId": "1ee0e3db-aff7-4080-f04d-de33b80b93c5"
      },
      "execution_count": null,
      "outputs": [
        {
          "output_type": "stream",
          "name": "stdout",
          "text": [
            "not vowel\n"
          ]
        }
      ]
    },
    {
      "cell_type": "code",
      "source": [
        "#map\n",
        "\n",
        "l=input().split()\n",
        "\n",
        "\n",
        "a=list(map(int,l))\n",
        "\n",
        "a"
      ],
      "metadata": {
        "colab": {
          "base_uri": "https://localhost:8080/"
        },
        "id": "1-s7LTUTWxIJ",
        "outputId": "43b6dd69-4779-4b89-dabd-b9fc10bb8390"
      },
      "execution_count": null,
      "outputs": [
        {
          "name": "stdout",
          "output_type": "stream",
          "text": [
            "1 2 3 4\n"
          ]
        },
        {
          "output_type": "execute_result",
          "data": {
            "text/plain": [
              "[1, 2, 3, 4]"
            ]
          },
          "metadata": {},
          "execution_count": 14
        }
      ]
    },
    {
      "cell_type": "code",
      "source": [
        "#wap to converte each elemetn in a list to float\n",
        "\n",
        "l=[1,2,3,4]\n",
        "\n",
        "a=list(map(float,l))\n",
        "a"
      ],
      "metadata": {
        "colab": {
          "base_uri": "https://localhost:8080/"
        },
        "id": "7pyJVm0mYIiZ",
        "outputId": "734bc410-bed5-418a-a323-2be1c30ea902"
      },
      "execution_count": null,
      "outputs": [
        {
          "output_type": "execute_result",
          "data": {
            "text/plain": [
              "[1.0, 2.0, 3.0, 4.0]"
            ]
          },
          "metadata": {},
          "execution_count": 15
        }
      ]
    },
    {
      "cell_type": "code",
      "source": [
        "a=list(range(1,10,2))\n",
        "a"
      ],
      "metadata": {
        "colab": {
          "base_uri": "https://localhost:8080/"
        },
        "id": "gBU3ebViXlqs",
        "outputId": "7717688a-d5b7-45bd-a154-60e2ac4717df"
      },
      "execution_count": null,
      "outputs": [
        {
          "output_type": "execute_result",
          "data": {
            "text/plain": [
              "[1, 3, 5, 7, 9]"
            ]
          },
          "metadata": {},
          "execution_count": 13
        }
      ]
    },
    {
      "cell_type": "code",
      "source": [
        "l=[\"a\",\"ab\",\"abc\"]\n",
        "\n",
        "list(map(list,l))"
      ],
      "metadata": {
        "colab": {
          "base_uri": "https://localhost:8080/"
        },
        "id": "GOfPSqwkZXY1",
        "outputId": "6a802135-1e2e-498d-f4e1-3bdbd5e4ba5d"
      },
      "execution_count": null,
      "outputs": [
        {
          "output_type": "execute_result",
          "data": {
            "text/plain": [
              "[['a'], ['a', 'b'], ['a', 'b', 'c']]"
            ]
          },
          "metadata": {},
          "execution_count": 16
        }
      ]
    },
    {
      "cell_type": "code",
      "source": [
        "def ad(a):\n",
        "  return a+10\n",
        "\n",
        "l=[1,2,3,4]\n",
        "\n",
        "list(map(ad,l))"
      ],
      "metadata": {
        "colab": {
          "base_uri": "https://localhost:8080/"
        },
        "id": "LxSf9yV-Z723",
        "outputId": "3940a58e-9b6b-4cbb-91a3-f3b136badfb1"
      },
      "execution_count": null,
      "outputs": [
        {
          "output_type": "execute_result",
          "data": {
            "text/plain": [
              "[11, 12, 13, 14]"
            ]
          },
          "metadata": {},
          "execution_count": 17
        }
      ]
    },
    {
      "cell_type": "code",
      "source": [
        "#wap to convert each element in the list to their squares\n",
        "\n",
        "l=[1,2,3,4]\n",
        "\n",
        "list(map(lambda a:a**2,l))"
      ],
      "metadata": {
        "colab": {
          "base_uri": "https://localhost:8080/"
        },
        "id": "KR2x3g6oarDA",
        "outputId": "b4c45ff4-fae2-4763-ebae-15bd6a465ecd"
      },
      "execution_count": null,
      "outputs": [
        {
          "output_type": "execute_result",
          "data": {
            "text/plain": [
              "[1, 4, 9, 16]"
            ]
          },
          "metadata": {},
          "execution_count": 18
        }
      ]
    },
    {
      "cell_type": "code",
      "source": [
        "\n",
        "l1=[1,2,3,4]\n",
        "l2=[6,7,8,9]\n",
        "\n",
        "list(map(lambda a,b:a+b,l1,l2))"
      ],
      "metadata": {
        "colab": {
          "base_uri": "https://localhost:8080/"
        },
        "id": "aKnwPL6Dbmgy",
        "outputId": "8b80f35c-af8b-4207-9bc3-333ed72cee51"
      },
      "execution_count": null,
      "outputs": [
        {
          "output_type": "execute_result",
          "data": {
            "text/plain": [
              "[7, 9, 11, 13]"
            ]
          },
          "metadata": {},
          "execution_count": 19
        }
      ]
    },
    {
      "cell_type": "code",
      "source": [
        "#wap to print sum of squares of each element in the given list\n",
        "l1=[1,2,3,4]\n",
        "l2=[6,7,8,9]\n",
        "\n",
        "list(map(lambda a,b:a**2+b**2,l1,l2))"
      ],
      "metadata": {
        "colab": {
          "base_uri": "https://localhost:8080/"
        },
        "id": "VrfhxyC6cUJu",
        "outputId": "f2fc8473-7ed1-4866-9e08-ae1f60bc2168"
      },
      "execution_count": null,
      "outputs": [
        {
          "output_type": "execute_result",
          "data": {
            "text/plain": [
              "[37, 53, 73, 97]"
            ]
          },
          "metadata": {},
          "execution_count": 20
        }
      ]
    },
    {
      "cell_type": "code",
      "source": [
        "#wap to convert each elemetn in a given lsit to upper case\n",
        "\n",
        "l=[\"aPPLe\",\"OraNGe\",\"ManGo\"]\n",
        "\n",
        "list(map(str.lower,l))\n",
        "\n",
        "list(map(lambda x:x.upper(),l))"
      ],
      "metadata": {
        "colab": {
          "base_uri": "https://localhost:8080/"
        },
        "id": "B_musWDOc6yL",
        "outputId": "a9fe4b50-8c4c-4dd3-d930-f6b64b1881dc"
      },
      "execution_count": null,
      "outputs": [
        {
          "output_type": "execute_result",
          "data": {
            "text/plain": [
              "['APPLE', 'ORANGE', 'MANGO']"
            ]
          },
          "metadata": {},
          "execution_count": 22
        }
      ]
    },
    {
      "cell_type": "code",
      "source": [
        "l=[1,2,3,4]\n",
        "\n",
        "list(filter(lambda x:x%2==0,l))"
      ],
      "metadata": {
        "colab": {
          "base_uri": "https://localhost:8080/"
        },
        "id": "_AQHcYOgcjRl",
        "outputId": "fca1cc8f-dc50-4006-d4d9-be666164fbc6"
      },
      "execution_count": null,
      "outputs": [
        {
          "output_type": "execute_result",
          "data": {
            "text/plain": [
              "[False, True, False, True]"
            ]
          },
          "metadata": {},
          "execution_count": 3
        }
      ]
    },
    {
      "cell_type": "code",
      "source": [
        "#wap to extract odd numbers from given list\n",
        "l=[1,2,3,4,5,6]\n",
        "\n",
        "list(filter(lambda x:x%2!=0,l))"
      ],
      "metadata": {
        "colab": {
          "base_uri": "https://localhost:8080/"
        },
        "id": "9L4T-kBwdOlz",
        "outputId": "5b5a67dc-578c-46af-a8af-3d02add29670"
      },
      "execution_count": null,
      "outputs": [
        {
          "output_type": "execute_result",
          "data": {
            "text/plain": [
              "[1, 3, 5]"
            ]
          },
          "metadata": {},
          "execution_count": 4
        }
      ]
    },
    {
      "cell_type": "code",
      "source": [
        "#wap to return words which has more than 5 charecters\n",
        "\n",
        "l=[\"apple\",\"orange\",\"grape\",\"mango\"]\n",
        "\n",
        "list(filter(lambda x:len(x)>5,l))"
      ],
      "metadata": {
        "colab": {
          "base_uri": "https://localhost:8080/"
        },
        "id": "X8XaeolBdsw1",
        "outputId": "5df2f233-a78f-4052-9479-3d706484e94f"
      },
      "execution_count": null,
      "outputs": [
        {
          "output_type": "execute_result",
          "data": {
            "text/plain": [
              "['orange']"
            ]
          },
          "metadata": {},
          "execution_count": 5
        }
      ]
    },
    {
      "cell_type": "code",
      "source": [
        "#wap to create list of odd numbers and even numbers from exisitng list\n",
        "\n",
        "l=[1,2,3,4,5,6,7,8]\n",
        "\n",
        "odd=list(filter(lambda x:x%2!=0,l))\n",
        "even=list(filter(lambda x:x%2==0,l))\n",
        "\n",
        "print(odd)\n",
        "\n",
        "print(even)"
      ],
      "metadata": {
        "colab": {
          "base_uri": "https://localhost:8080/"
        },
        "id": "lg2ApdajeZdP",
        "outputId": "68d03558-1b50-4a0a-87e1-88332d658d95"
      },
      "execution_count": null,
      "outputs": [
        {
          "output_type": "stream",
          "name": "stdout",
          "text": [
            "[1, 3, 5, 7]\n",
            "[2, 4, 6, 8]\n"
          ]
        }
      ]
    },
    {
      "cell_type": "code",
      "source": [
        "#list comprehension\n",
        "\n",
        "l=[i for i in range(1,11)]\n",
        "\n",
        "l"
      ],
      "metadata": {
        "colab": {
          "base_uri": "https://localhost:8080/"
        },
        "id": "03BPStWSfaB8",
        "outputId": "36ebf288-ce05-409e-ea28-e66ba96bfb8a"
      },
      "execution_count": null,
      "outputs": [
        {
          "output_type": "execute_result",
          "data": {
            "text/plain": [
              "[1, 2, 3, 4, 5, 6, 7, 8, 9, 10]"
            ]
          },
          "metadata": {},
          "execution_count": 8
        }
      ]
    },
    {
      "cell_type": "code",
      "source": [
        "#create a list wiht 10 \"hi\" using list comprehension\n",
        "\n",
        "l=[\"hi\" for i in range(10)]\n",
        "\n",
        "l"
      ],
      "metadata": {
        "colab": {
          "base_uri": "https://localhost:8080/"
        },
        "id": "RPaiMuJ_gDN9",
        "outputId": "460782d7-dc2f-4155-eeaa-9005584fb286"
      },
      "execution_count": null,
      "outputs": [
        {
          "output_type": "execute_result",
          "data": {
            "text/plain": [
              "['hi', 'hi', 'hi', 'hi', 'hi', 'hi', 'hi', 'hi', 'hi', 'hi']"
            ]
          },
          "metadata": {},
          "execution_count": 9
        }
      ]
    },
    {
      "cell_type": "code",
      "source": [
        "#wap to find squares of numbers from 1,10 in list format\n",
        "l=[i**2 for i in range(1,11)]\n",
        "\n",
        "l"
      ],
      "metadata": {
        "colab": {
          "base_uri": "https://localhost:8080/"
        },
        "id": "KOg6U0W4gekD",
        "outputId": "eb99b390-b25b-4c4c-abfb-a859401b4deb"
      },
      "execution_count": null,
      "outputs": [
        {
          "output_type": "execute_result",
          "data": {
            "text/plain": [
              "[1, 4, 9, 16, 25, 36, 49, 64, 81, 100]"
            ]
          },
          "metadata": {},
          "execution_count": 11
        }
      ]
    },
    {
      "cell_type": "code",
      "source": [
        "#create a list of odd numbers from 1,15 using list comprehension\n",
        "\n",
        "l=[x for x in range(1,16) if x%2!=0]\n",
        "\n",
        "l"
      ],
      "metadata": {
        "colab": {
          "base_uri": "https://localhost:8080/"
        },
        "id": "-xKruUrMhLzl",
        "outputId": "b9692d5a-e9eb-436f-ff33-376ec9ec8047"
      },
      "execution_count": null,
      "outputs": [
        {
          "output_type": "execute_result",
          "data": {
            "text/plain": [
              "[1, 3, 5, 7, 9, 11, 13, 15]"
            ]
          },
          "metadata": {},
          "execution_count": 12
        }
      ]
    },
    {
      "cell_type": "code",
      "source": [
        "#add 10 with each element in given list\n",
        "\n",
        "l=[1,2,3,4,5]\n",
        "\n",
        "l1=[i+10 for i in l]\n",
        "\n",
        "l1"
      ],
      "metadata": {
        "colab": {
          "base_uri": "https://localhost:8080/"
        },
        "id": "g8mNrSa7h5qV",
        "outputId": "39ee43e3-1d0e-4ba4-86dd-db567d9a0f6e"
      },
      "execution_count": null,
      "outputs": [
        {
          "output_type": "execute_result",
          "data": {
            "text/plain": [
              "[11, 12, 13, 14, 15]"
            ]
          },
          "metadata": {},
          "execution_count": 13
        }
      ]
    },
    {
      "cell_type": "code",
      "source": [
        "#filter even numbers from the given list using list comprehension\n",
        "\n",
        "l=[1,2,3,4,5]\n",
        "\n",
        "l1=[x for x in l if x%2==0]\n",
        "\n",
        "l1"
      ],
      "metadata": {
        "colab": {
          "base_uri": "https://localhost:8080/"
        },
        "id": "3bkcrI9ZilO3",
        "outputId": "c40d6876-b777-4f76-bcc4-56db38855860"
      },
      "execution_count": null,
      "outputs": [
        {
          "output_type": "execute_result",
          "data": {
            "text/plain": [
              "[2, 4]"
            ]
          },
          "metadata": {},
          "execution_count": 14
        }
      ]
    },
    {
      "cell_type": "code",
      "source": [
        "#create list of even numbers from 1,20 using list comprehension\n",
        "l=[x for x in range(1,21) if x%2==0]\n",
        "l\n",
        "#wap to filter numbers greater than 5 usin list comprehension l=[1,2,55,4,3]\n",
        "l=[1,2,55,4,3]\n",
        "l=[x for x in l if x>5]\n",
        "l\n",
        "#l=[\"apple\",\"orange\",\"banana\"] wap to print list of fruits except banana\n",
        "l=[\"apple\",\"orange\",\"banana\"]\n",
        "\n",
        "l=[x for x in l if x!=\"banana\"]\n",
        "l\n",
        "#find all numbers between 1-1000 which are multiples of 8 in list format\n",
        "\n",
        "l=[x for x in range(1,1001) if x%8==0]\n",
        "\n",
        "#crete a list of words which has p in it from the given list\n",
        "l=[\"apple\",\"mango\",\"boy\",\"popy\"]\n",
        "l=[x for x in l if \"p\" in x]\n",
        "l\n",
        "\n",
        "#create list of numbers from 1-100 which has 6 in it\n",
        "\n",
        "l=[x for x in range(1,101) if \"6\" in str(x)]\n",
        "l"
      ],
      "metadata": {
        "colab": {
          "base_uri": "https://localhost:8080/"
        },
        "id": "GnHukfhjjfvn",
        "outputId": "a71e2614-b29b-4810-e87f-8b739e8cd49c"
      },
      "execution_count": null,
      "outputs": [
        {
          "output_type": "execute_result",
          "data": {
            "text/plain": [
              "[6, 16, 26, 36, 46, 56, 60, 61, 62, 63, 64, 65, 66, 67, 68, 69, 76, 86, 96]"
            ]
          },
          "metadata": {},
          "execution_count": 21
        }
      ]
    },
    {
      "cell_type": "code",
      "source": [
        "#wap to print a number is odd or even in a given list\n",
        "\n",
        "l=[2,3,4,5,6,6]\n",
        "\n",
        "l=[\"even\" if i%2==0 else \"odd\" for i in l]\n",
        "l"
      ],
      "metadata": {
        "colab": {
          "base_uri": "https://localhost:8080/"
        },
        "id": "EOYC3ypDq_PI",
        "outputId": "1014d0c3-b6be-496c-9804-1c0203f331b7"
      },
      "execution_count": null,
      "outputs": [
        {
          "output_type": "execute_result",
          "data": {
            "text/plain": [
              "['even', 'odd', 'even', 'odd', 'even', 'even']"
            ]
          },
          "metadata": {},
          "execution_count": 22
        }
      ]
    },
    {
      "cell_type": "code",
      "source": [
        "l=[\"jasmine\",\"lotus\",\"lilly\",\"rose\"]\n",
        "\n",
        "#wap to print jasmine if it is jasmine else print flower\n",
        "\n",
        "l=[\"jasmine\" if x==\"jasmine\" else \"flower\" for x in l]\n",
        "l"
      ],
      "metadata": {
        "colab": {
          "base_uri": "https://localhost:8080/"
        },
        "id": "uHvISYqtsH2y",
        "outputId": "df580162-89ba-4e7a-f5be-17463e7d07e1"
      },
      "execution_count": null,
      "outputs": [
        {
          "output_type": "execute_result",
          "data": {
            "text/plain": [
              "['jasmine', 'flower', 'flower', 'flower']"
            ]
          },
          "metadata": {},
          "execution_count": 23
        }
      ]
    },
    {
      "cell_type": "code",
      "source": [
        "#write a function that takes a number as parameter and display its factorial using\n",
        "# 1.no parameter no return,\n",
        "# 2.with parameter no return,\n",
        "# 3.no parameter with retrun,\n",
        "# 4.with parameter with return\n",
        "\n",
        "\n",
        "def fun():\n",
        "  n=int(input(\"enter the number\"))"
      ],
      "metadata": {
        "id": "LaQYHVPTtRrd"
      },
      "execution_count": null,
      "outputs": []
    },
    {
      "cell_type": "code",
      "source": [
        "import math"
      ],
      "metadata": {
        "id": "AXHgYBQwlWkM"
      },
      "execution_count": null,
      "outputs": []
    },
    {
      "cell_type": "code",
      "source": [
        "print(math.ceil(2.3))"
      ],
      "metadata": {
        "colab": {
          "base_uri": "https://localhost:8080/"
        },
        "id": "0xY3Z7mWmALY",
        "outputId": "bc742adf-cf04-4e27-fe26-d202187820b3"
      },
      "execution_count": null,
      "outputs": [
        {
          "output_type": "stream",
          "name": "stdout",
          "text": [
            "3\n"
          ]
        }
      ]
    },
    {
      "cell_type": "code",
      "source": [
        "#find 2 power 4 using math module\n",
        "\n",
        "print(math.pow(2,4))"
      ],
      "metadata": {
        "colab": {
          "base_uri": "https://localhost:8080/"
        },
        "id": "paKg8XvkmUz4",
        "outputId": "b012c9b6-2858-4b23-f435-22f2e63e65ff"
      },
      "execution_count": null,
      "outputs": [
        {
          "output_type": "stream",
          "name": "stdout",
          "text": [
            "16.0\n"
          ]
        }
      ]
    },
    {
      "cell_type": "code",
      "source": [
        "#find factorial of a number using math module\n",
        "\n",
        "print(math.factorial(5))"
      ],
      "metadata": {
        "colab": {
          "base_uri": "https://localhost:8080/"
        },
        "id": "b_H9iIdHmyzy",
        "outputId": "5844e5b5-8624-4748-dc8d-7778fdd56479"
      },
      "execution_count": null,
      "outputs": [
        {
          "output_type": "stream",
          "name": "stdout",
          "text": [
            "120\n"
          ]
        }
      ]
    },
    {
      "cell_type": "code",
      "source": [
        "#find square root of a number using math module\n",
        "\n",
        "print(math.sqrt(16))"
      ],
      "metadata": {
        "colab": {
          "base_uri": "https://localhost:8080/"
        },
        "id": "L09WRn0CnJ9K",
        "outputId": "b7e32912-6116-417f-dc42-61c784069c3e"
      },
      "execution_count": null,
      "outputs": [
        {
          "output_type": "stream",
          "name": "stdout",
          "text": [
            "4.0\n"
          ]
        }
      ]
    },
    {
      "cell_type": "code",
      "source": [
        "from math import factorial,sqrt,sin"
      ],
      "metadata": {
        "id": "bUZeSDLNnj7h"
      },
      "execution_count": null,
      "outputs": []
    },
    {
      "cell_type": "code",
      "source": [
        "factorial(5)"
      ],
      "metadata": {
        "colab": {
          "base_uri": "https://localhost:8080/"
        },
        "id": "MZi0LJZ_nx0b",
        "outputId": "256c8156-a751-4770-9a41-85d853319e71"
      },
      "execution_count": null,
      "outputs": [
        {
          "output_type": "execute_result",
          "data": {
            "text/plain": [
              "120"
            ]
          },
          "metadata": {},
          "execution_count": 8
        }
      ]
    },
    {
      "cell_type": "code",
      "source": [
        "#import pow ,cos,floor from math module and execute the same\n",
        "\n",
        "from math import pow,cos,floor\n",
        "pow(1,2)\n",
        "cos(34)\n",
        "floor(3.2)"
      ],
      "metadata": {
        "colab": {
          "base_uri": "https://localhost:8080/"
        },
        "id": "1OLZ5iSEoPQU",
        "outputId": "751e4beb-134e-4281-8f00-0672b162a82b"
      },
      "execution_count": null,
      "outputs": [
        {
          "output_type": "execute_result",
          "data": {
            "text/plain": [
              "3"
            ]
          },
          "metadata": {},
          "execution_count": 13
        }
      ]
    },
    {
      "cell_type": "code",
      "source": [
        "from math import *"
      ],
      "metadata": {
        "id": "VKma2jjYo-bG"
      },
      "execution_count": null,
      "outputs": []
    },
    {
      "cell_type": "code",
      "source": [
        "ceil(3)"
      ],
      "metadata": {
        "colab": {
          "base_uri": "https://localhost:8080/"
        },
        "id": "3dM3ZfEjn7pm",
        "outputId": "420a73ca-8aca-4cd8-df5d-44780698303a"
      },
      "execution_count": null,
      "outputs": [
        {
          "output_type": "execute_result",
          "data": {
            "text/plain": [
              "3"
            ]
          },
          "metadata": {},
          "execution_count": 15
        }
      ]
    },
    {
      "cell_type": "code",
      "source": [
        "from sklearn.preprocessing import StandardScaler\n"
      ],
      "metadata": {
        "id": "AZi0hEy9pbNo"
      },
      "execution_count": null,
      "outputs": []
    },
    {
      "cell_type": "code",
      "source": [
        "help(math)"
      ],
      "metadata": {
        "colab": {
          "base_uri": "https://localhost:8080/"
        },
        "id": "AfTfkzo2ldpl",
        "outputId": "6bc8a760-7c54-430b-960d-29a261ed536d"
      },
      "execution_count": null,
      "outputs": [
        {
          "output_type": "stream",
          "name": "stdout",
          "text": [
            "Help on built-in module math:\n",
            "\n",
            "NAME\n",
            "    math\n",
            "\n",
            "DESCRIPTION\n",
            "    This module provides access to the mathematical functions\n",
            "    defined by the C standard.\n",
            "\n",
            "FUNCTIONS\n",
            "    acos(x, /)\n",
            "        Return the arc cosine (measured in radians) of x.\n",
            "\n",
            "        The result is between 0 and pi.\n",
            "\n",
            "    acosh(x, /)\n",
            "        Return the inverse hyperbolic cosine of x.\n",
            "\n",
            "    asin(x, /)\n",
            "        Return the arc sine (measured in radians) of x.\n",
            "\n",
            "        The result is between -pi/2 and pi/2.\n",
            "\n",
            "    asinh(x, /)\n",
            "        Return the inverse hyperbolic sine of x.\n",
            "\n",
            "    atan(x, /)\n",
            "        Return the arc tangent (measured in radians) of x.\n",
            "\n",
            "        The result is between -pi/2 and pi/2.\n",
            "\n",
            "    atan2(y, x, /)\n",
            "        Return the arc tangent (measured in radians) of y/x.\n",
            "\n",
            "        Unlike atan(y/x), the signs of both x and y are considered.\n",
            "\n",
            "    atanh(x, /)\n",
            "        Return the inverse hyperbolic tangent of x.\n",
            "\n",
            "    cbrt(x, /)\n",
            "        Return the cube root of x.\n",
            "\n",
            "    ceil(x, /)\n",
            "        Return the ceiling of x as an Integral.\n",
            "\n",
            "        This is the smallest integer >= x.\n",
            "\n",
            "    comb(n, k, /)\n",
            "        Number of ways to choose k items from n items without repetition and without order.\n",
            "\n",
            "        Evaluates to n! / (k! * (n - k)!) when k <= n and evaluates\n",
            "        to zero when k > n.\n",
            "\n",
            "        Also called the binomial coefficient because it is equivalent\n",
            "        to the coefficient of k-th term in polynomial expansion of the\n",
            "        expression (1 + x)**n.\n",
            "\n",
            "        Raises TypeError if either of the arguments are not integers.\n",
            "        Raises ValueError if either of the arguments are negative.\n",
            "\n",
            "    copysign(x, y, /)\n",
            "        Return a float with the magnitude (absolute value) of x but the sign of y.\n",
            "\n",
            "        On platforms that support signed zeros, copysign(1.0, -0.0)\n",
            "        returns -1.0.\n",
            "\n",
            "    cos(x, /)\n",
            "        Return the cosine of x (measured in radians).\n",
            "\n",
            "    cosh(x, /)\n",
            "        Return the hyperbolic cosine of x.\n",
            "\n",
            "    degrees(x, /)\n",
            "        Convert angle x from radians to degrees.\n",
            "\n",
            "    dist(p, q, /)\n",
            "        Return the Euclidean distance between two points p and q.\n",
            "\n",
            "        The points should be specified as sequences (or iterables) of\n",
            "        coordinates.  Both inputs must have the same dimension.\n",
            "\n",
            "        Roughly equivalent to:\n",
            "            sqrt(sum((px - qx) ** 2.0 for px, qx in zip(p, q)))\n",
            "\n",
            "    erf(x, /)\n",
            "        Error function at x.\n",
            "\n",
            "    erfc(x, /)\n",
            "        Complementary error function at x.\n",
            "\n",
            "    exp(x, /)\n",
            "        Return e raised to the power of x.\n",
            "\n",
            "    exp2(x, /)\n",
            "        Return 2 raised to the power of x.\n",
            "\n",
            "    expm1(x, /)\n",
            "        Return exp(x)-1.\n",
            "\n",
            "        This function avoids the loss of precision involved in the direct evaluation of exp(x)-1 for small x.\n",
            "\n",
            "    fabs(x, /)\n",
            "        Return the absolute value of the float x.\n",
            "\n",
            "    factorial(n, /)\n",
            "        Find n!.\n",
            "\n",
            "        Raise a ValueError if x is negative or non-integral.\n",
            "\n",
            "    floor(x, /)\n",
            "        Return the floor of x as an Integral.\n",
            "\n",
            "        This is the largest integer <= x.\n",
            "\n",
            "    fmod(x, y, /)\n",
            "        Return fmod(x, y), according to platform C.\n",
            "\n",
            "        x % y may differ.\n",
            "\n",
            "    frexp(x, /)\n",
            "        Return the mantissa and exponent of x, as pair (m, e).\n",
            "\n",
            "        m is a float and e is an int, such that x = m * 2.**e.\n",
            "        If x is 0, m and e are both 0.  Else 0.5 <= abs(m) < 1.0.\n",
            "\n",
            "    fsum(seq, /)\n",
            "        Return an accurate floating-point sum of values in the iterable seq.\n",
            "\n",
            "        Assumes IEEE-754 floating-point arithmetic.\n",
            "\n",
            "    gamma(x, /)\n",
            "        Gamma function at x.\n",
            "\n",
            "    gcd(*integers)\n",
            "        Greatest Common Divisor.\n",
            "\n",
            "    hypot(...)\n",
            "        hypot(*coordinates) -> value\n",
            "\n",
            "        Multidimensional Euclidean distance from the origin to a point.\n",
            "\n",
            "        Roughly equivalent to:\n",
            "            sqrt(sum(x**2 for x in coordinates))\n",
            "\n",
            "        For a two dimensional point (x, y), gives the hypotenuse\n",
            "        using the Pythagorean theorem:  sqrt(x*x + y*y).\n",
            "\n",
            "        For example, the hypotenuse of a 3/4/5 right triangle is:\n",
            "\n",
            "            >>> hypot(3.0, 4.0)\n",
            "            5.0\n",
            "\n",
            "    isclose(a, b, *, rel_tol=1e-09, abs_tol=0.0)\n",
            "        Determine whether two floating-point numbers are close in value.\n",
            "\n",
            "          rel_tol\n",
            "            maximum difference for being considered \"close\", relative to the\n",
            "            magnitude of the input values\n",
            "          abs_tol\n",
            "            maximum difference for being considered \"close\", regardless of the\n",
            "            magnitude of the input values\n",
            "\n",
            "        Return True if a is close in value to b, and False otherwise.\n",
            "\n",
            "        For the values to be considered close, the difference between them\n",
            "        must be smaller than at least one of the tolerances.\n",
            "\n",
            "        -inf, inf and NaN behave similarly to the IEEE 754 Standard.  That\n",
            "        is, NaN is not close to anything, even itself.  inf and -inf are\n",
            "        only close to themselves.\n",
            "\n",
            "    isfinite(x, /)\n",
            "        Return True if x is neither an infinity nor a NaN, and False otherwise.\n",
            "\n",
            "    isinf(x, /)\n",
            "        Return True if x is a positive or negative infinity, and False otherwise.\n",
            "\n",
            "    isnan(x, /)\n",
            "        Return True if x is a NaN (not a number), and False otherwise.\n",
            "\n",
            "    isqrt(n, /)\n",
            "        Return the integer part of the square root of the input.\n",
            "\n",
            "    lcm(*integers)\n",
            "        Least Common Multiple.\n",
            "\n",
            "    ldexp(x, i, /)\n",
            "        Return x * (2**i).\n",
            "\n",
            "        This is essentially the inverse of frexp().\n",
            "\n",
            "    lgamma(x, /)\n",
            "        Natural logarithm of absolute value of Gamma function at x.\n",
            "\n",
            "    log(...)\n",
            "        log(x, [base=math.e])\n",
            "        Return the logarithm of x to the given base.\n",
            "\n",
            "        If the base is not specified, returns the natural logarithm (base e) of x.\n",
            "\n",
            "    log10(x, /)\n",
            "        Return the base 10 logarithm of x.\n",
            "\n",
            "    log1p(x, /)\n",
            "        Return the natural logarithm of 1+x (base e).\n",
            "\n",
            "        The result is computed in a way which is accurate for x near zero.\n",
            "\n",
            "    log2(x, /)\n",
            "        Return the base 2 logarithm of x.\n",
            "\n",
            "    modf(x, /)\n",
            "        Return the fractional and integer parts of x.\n",
            "\n",
            "        Both results carry the sign of x and are floats.\n",
            "\n",
            "    nextafter(x, y, /, *, steps=None)\n",
            "        Return the floating-point value the given number of steps after x towards y.\n",
            "\n",
            "        If steps is not specified or is None, it defaults to 1.\n",
            "\n",
            "        Raises a TypeError, if x or y is not a double, or if steps is not an integer.\n",
            "        Raises ValueError if steps is negative.\n",
            "\n",
            "    perm(n, k=None, /)\n",
            "        Number of ways to choose k items from n items without repetition and with order.\n",
            "\n",
            "        Evaluates to n! / (n - k)! when k <= n and evaluates\n",
            "        to zero when k > n.\n",
            "\n",
            "        If k is not specified or is None, then k defaults to n\n",
            "        and the function returns n!.\n",
            "\n",
            "        Raises TypeError if either of the arguments are not integers.\n",
            "        Raises ValueError if either of the arguments are negative.\n",
            "\n",
            "    pow(x, y, /)\n",
            "        Return x**y (x to the power of y).\n",
            "\n",
            "    prod(iterable, /, *, start=1)\n",
            "        Calculate the product of all the elements in the input iterable.\n",
            "\n",
            "        The default start value for the product is 1.\n",
            "\n",
            "        When the iterable is empty, return the start value.  This function is\n",
            "        intended specifically for use with numeric values and may reject\n",
            "        non-numeric types.\n",
            "\n",
            "    radians(x, /)\n",
            "        Convert angle x from degrees to radians.\n",
            "\n",
            "    remainder(x, y, /)\n",
            "        Difference between x and the closest integer multiple of y.\n",
            "\n",
            "        Return x - n*y where n*y is the closest integer multiple of y.\n",
            "        In the case where x is exactly halfway between two multiples of\n",
            "        y, the nearest even value of n is used. The result is always exact.\n",
            "\n",
            "    sin(x, /)\n",
            "        Return the sine of x (measured in radians).\n",
            "\n",
            "    sinh(x, /)\n",
            "        Return the hyperbolic sine of x.\n",
            "\n",
            "    sqrt(x, /)\n",
            "        Return the square root of x.\n",
            "\n",
            "    sumprod(p, q, /)\n",
            "        Return the sum of products of values from two iterables p and q.\n",
            "\n",
            "        Roughly equivalent to:\n",
            "\n",
            "            sum(itertools.starmap(operator.mul, zip(p, q, strict=True)))\n",
            "\n",
            "        For float and mixed int/float inputs, the intermediate products\n",
            "        and sums are computed with extended precision.\n",
            "\n",
            "    tan(x, /)\n",
            "        Return the tangent of x (measured in radians).\n",
            "\n",
            "    tanh(x, /)\n",
            "        Return the hyperbolic tangent of x.\n",
            "\n",
            "    trunc(x, /)\n",
            "        Truncates the Real x to the nearest Integral toward 0.\n",
            "\n",
            "        Uses the __trunc__ magic method.\n",
            "\n",
            "    ulp(x, /)\n",
            "        Return the value of the least significant bit of the float x.\n",
            "\n",
            "DATA\n",
            "    e = 2.718281828459045\n",
            "    inf = inf\n",
            "    nan = nan\n",
            "    pi = 3.141592653589793\n",
            "    tau = 6.283185307179586\n",
            "\n",
            "FILE\n",
            "    (built-in)\n",
            "\n",
            "\n"
          ]
        }
      ]
    },
    {
      "cell_type": "code",
      "source": [
        "import calculator"
      ],
      "metadata": {
        "id": "aKVEZkpnsoFh"
      },
      "execution_count": null,
      "outputs": []
    },
    {
      "cell_type": "code",
      "source": [
        "calculator.add(1,2)"
      ],
      "metadata": {
        "colab": {
          "base_uri": "https://localhost:8080/"
        },
        "id": "Zk1uon1Aszzn",
        "outputId": "7a9cdbb9-7de3-4df7-e7a4-98c33284394a"
      },
      "execution_count": null,
      "outputs": [
        {
          "output_type": "execute_result",
          "data": {
            "text/plain": [
              "3"
            ]
          },
          "metadata": {},
          "execution_count": 20
        }
      ]
    },
    {
      "cell_type": "code",
      "source": [
        "from calculator import sub"
      ],
      "metadata": {
        "id": "4CJMMR7ds4bc"
      },
      "execution_count": null,
      "outputs": []
    },
    {
      "cell_type": "code",
      "source": [
        "import calculator"
      ],
      "metadata": {
        "id": "3icglqfhu9W9"
      },
      "execution_count": null,
      "outputs": []
    },
    {
      "cell_type": "code",
      "source": [
        "sub(4,3)"
      ],
      "metadata": {
        "colab": {
          "base_uri": "https://localhost:8080/"
        },
        "id": "Viq1K2tas7pz",
        "outputId": "1352df44-d733-4589-a228-9df7c174933a"
      },
      "execution_count": null,
      "outputs": [
        {
          "output_type": "execute_result",
          "data": {
            "text/plain": [
              "1"
            ]
          },
          "metadata": {},
          "execution_count": 22
        }
      ]
    },
    {
      "cell_type": "code",
      "source": [
        "help(calculator)"
      ],
      "metadata": {
        "colab": {
          "base_uri": "https://localhost:8080/"
        },
        "id": "IZPQttaSssWb",
        "outputId": "e9b6b34e-b193-4329-ae92-71572f537590"
      },
      "execution_count": null,
      "outputs": [
        {
          "output_type": "stream",
          "name": "stdout",
          "text": [
            "Help on module calculator:\n",
            "\n",
            "NAME\n",
            "    calculator - calculator.ipynb\n",
            "\n",
            "DESCRIPTION\n",
            "    Automatically generated by Colab.\n",
            "\n",
            "    Original file is located at\n",
            "        https://colab.research.google.com/drive/1JUoegB1RN--E0ODbu8zL05Zu40D3KOlF\n",
            "\n",
            "FUNCTIONS\n",
            "    add(a, b)\n",
            "\n",
            "    sub(a, b)\n",
            "\n",
            "FILE\n",
            "    /content/calculator.py\n",
            "\n",
            "\n"
          ]
        }
      ]
    },
    {
      "cell_type": "code",
      "source": [
        "#create a module to print prime numbers in a given range,string reversal,factorial"
      ],
      "metadata": {
        "id": "H2s75MfcvVMB"
      },
      "execution_count": null,
      "outputs": []
    },
    {
      "cell_type": "code",
      "source": [
        "f1=open(\"/content/drive/MyDrive/file1.txt\",\"r\")\n",
        "\n",
        "\n",
        "#readlines()\n",
        "#list format\n",
        "\n",
        "f=f1.readlines()\n",
        "for i in f:\n",
        "  print(i.strip())\n",
        "\n",
        "print(type(f))\n",
        "\n",
        "f1.close()"
      ],
      "metadata": {
        "id": "18kjm8usvaw0",
        "colab": {
          "base_uri": "https://localhost:8080/"
        },
        "outputId": "a75c7644-eb9b-4477-cbd9-03728ee05668"
      },
      "execution_count": null,
      "outputs": [
        {
          "output_type": "stream",
          "name": "stdout",
          "text": [
            "first line\n",
            "second line\n",
            "third line\n",
            "<class 'list'>\n"
          ]
        }
      ]
    },
    {
      "cell_type": "code",
      "source": [
        "#read the content form file1 using readlines and list comprehension\n",
        "\n",
        "f1=open(\"/content/drive/MyDrive/file1.txt\",\"r\")\n",
        "\n",
        "f=f1.readlines()\n",
        "print(f)\n",
        "\n",
        "l=[i.strip() for i in f]\n",
        "\n",
        "for i in l:\n",
        "  print(i)\n",
        "\n",
        "print(l)\n",
        "\n",
        "f1.close()"
      ],
      "metadata": {
        "colab": {
          "base_uri": "https://localhost:8080/"
        },
        "id": "v27TuELYz3HP",
        "outputId": "b5beb10a-2516-4fc0-f003-3afc1d089f3a"
      },
      "execution_count": null,
      "outputs": [
        {
          "output_type": "stream",
          "name": "stdout",
          "text": [
            "['first line\\n', 'second line\\n', 'third line']\n",
            "first line\n",
            "second line\n",
            "third line\n",
            "['first line', 'second line', 'third line']\n"
          ]
        }
      ]
    },
    {
      "cell_type": "code",
      "source": [
        "#read content form the file1 and convert it into capital letters\n",
        "f1=open(\"/content/drive/MyDrive/file1.txt\",\"r\")\n",
        "\n",
        "l=f1.readlines()\n",
        "print(l)\n",
        "\n",
        "l=[i.strip().upper() for i in l]\n",
        "\n",
        "print(l)\n",
        "\n",
        "for i in l:\n",
        "  print(i)\n",
        "\n",
        "f1.close()"
      ],
      "metadata": {
        "colab": {
          "base_uri": "https://localhost:8080/"
        },
        "id": "cX9F0CHp0240",
        "outputId": "9477c2dc-51ca-414a-96e4-275d3f370783"
      },
      "execution_count": null,
      "outputs": [
        {
          "output_type": "stream",
          "name": "stdout",
          "text": [
            "['first line\\n', 'second line\\n', 'third line']\n",
            "['FIRST LINE', 'SECOND LINE', 'THIRD LINE']\n",
            "FIRST LINE\n",
            "SECOND LINE\n",
            "THIRD LINE\n"
          ]
        }
      ]
    },
    {
      "cell_type": "code",
      "source": [
        "#readline()\n",
        "f1=open(\"/content/drive/MyDrive/file1.txt\",\"r\")\n",
        "\n",
        "f=f1.readline()\n",
        "print(f)\n",
        "print(type(f))\n",
        "\n",
        "a=f1.readline()\n",
        "print(a)\n",
        "\n",
        "f1.close()"
      ],
      "metadata": {
        "colab": {
          "base_uri": "https://localhost:8080/"
        },
        "id": "D0KH71Y62Qsa",
        "outputId": "b505970f-4e8b-40cd-9c8e-17bed2144145"
      },
      "execution_count": null,
      "outputs": [
        {
          "output_type": "stream",
          "name": "stdout",
          "text": [
            "first line\n",
            "\n",
            "<class 'str'>\n",
            "second line\n",
            "\n"
          ]
        }
      ]
    },
    {
      "cell_type": "code",
      "source": [
        "#read()\n",
        "\n",
        "f1=open(\"/content/drive/MyDrive/file1.txt\",\"r\")\n",
        "\n",
        "f=f1.read(2)\n",
        "f=f1.read(2)\n",
        "f=f1.read(2)\n",
        "f=f1.tell()\n",
        "\n",
        "f1.seek(0)\n",
        "\n",
        "f=f1.read(2)\n",
        "\n",
        "print(f)\n",
        "print(type(f))\n",
        "\n",
        "f1.close()"
      ],
      "metadata": {
        "colab": {
          "base_uri": "https://localhost:8080/"
        },
        "id": "2Dv4M3d33k0c",
        "outputId": "4a9c3757-6725-4db9-8314-71da384e2119"
      },
      "execution_count": null,
      "outputs": [
        {
          "output_type": "stream",
          "name": "stdout",
          "text": [
            "fi\n",
            "<class 'str'>\n"
          ]
        }
      ]
    },
    {
      "cell_type": "code",
      "source": [
        "f2=open(\"/content/drive/MyDrive/file2.txt\",\"w\")\n",
        "#write\n",
        "\n",
        "f2.write(\"hello\\n\")\n",
        "f2.write(\"hi\\n\")\n",
        "f2.write(\"bye\\n\")\n",
        "\n",
        "f2.close()"
      ],
      "metadata": {
        "id": "TbuDmRaF5-gv"
      },
      "execution_count": null,
      "outputs": []
    },
    {
      "cell_type": "code",
      "source": [
        "#writelines()\n",
        "f2=open(\"/content/drive/MyDrive/file2.txt\",\"a\")\n",
        "\n",
        "l=[\"good\\n\",\"morning\\n\",\"dear\\n\"]\n",
        "\n",
        "f2.writelines(l)\n",
        "\n",
        "f2.close()"
      ],
      "metadata": {
        "id": "akGsza4C63MJ"
      },
      "execution_count": null,
      "outputs": []
    },
    {
      "cell_type": "code",
      "source": [
        "#copy the content from first file to second\n",
        "f1=open(\"/content/drive/MyDrive/file1.txt\",\"r\")\n",
        "f2=open(\"/content/drive/MyDrive/file2.txt\",\"w\")\n",
        "\n",
        "l=f1.readlines()\n",
        "\n",
        "f2.writelines(l)\n",
        "\n",
        "f1.close()\n",
        "f2.close()"
      ],
      "metadata": {
        "id": "ipnBxAz08U7a"
      },
      "execution_count": null,
      "outputs": []
    },
    {
      "cell_type": "code",
      "source": [
        "#find number of lines in file1\n",
        "\n",
        "f1=open(\"/content/drive/MyDrive/file1.txt\",\"r\")\n",
        "\n",
        "l=f1.read()\n",
        "\n",
        "print(l.count(\"\\n\")+1)\n",
        "\n",
        "f1.close()"
      ],
      "metadata": {
        "colab": {
          "base_uri": "https://localhost:8080/"
        },
        "id": "y-4G7YOV9xpL",
        "outputId": "0a1c9aad-87a5-44b3-e19f-175c140de439"
      },
      "execution_count": null,
      "outputs": [
        {
          "output_type": "stream",
          "name": "stdout",
          "text": [
            "3\n"
          ]
        }
      ]
    },
    {
      "cell_type": "code",
      "source": [
        "#find occuacne of each word in a file\n",
        "f1=open(\"/content/drive/MyDrive/file1.txt\",\"r\")\n",
        "\n",
        "f=f1.read()\n",
        "l=f.split()\n",
        "print(l)\n",
        "\n",
        "d={}\n",
        "\n",
        "for i in l:\n",
        "  if i not in d:\n",
        "    d[i]=1\n",
        "  else:\n",
        "    d[i]+=1\n",
        "\n",
        "print(d)\n",
        "\n",
        "f1.close()"
      ],
      "metadata": {
        "colab": {
          "base_uri": "https://localhost:8080/"
        },
        "id": "saZ2iQ8q_HXR",
        "outputId": "874715e7-04aa-4566-f979-d8ff859209b5"
      },
      "execution_count": null,
      "outputs": [
        {
          "output_type": "stream",
          "name": "stdout",
          "text": [
            "['first', 'line', 'second', 'line', 'third', 'line']\n",
            "{'first': 1, 'line': 3, 'second': 1, 'third': 1}\n"
          ]
        }
      ]
    },
    {
      "cell_type": "code",
      "source": [
        "#write a line to the file and read the same\n",
        "\n",
        "seek(0)"
      ],
      "metadata": {
        "id": "erEdNMFzBsir"
      },
      "execution_count": null,
      "outputs": []
    },
    {
      "cell_type": "code",
      "source": [
        "#wap to count the even numbers from 800-1000 both inclusive\n",
        "#wap that counts the number of century years from 1800 to 2500\n",
        "#wap that displays the first 10 triangular numbers(A number that can form an equlateral triangle.The nth triangular number is the sum of the first n natural numbers For example,the third triangular number is 1+2+3=6)\n",
        "#wap to print the following pattern\n",
        "\n",
        "*\n",
        "# #\n",
        ". * *\n",
        "# # # #\n",
        ". * * * *\n",
        "# # # # # #\n",
        "\n",
        "#wap to print the following pattern\n",
        "1\n",
        "1 4\n",
        "1 4 9\n",
        "1 4 9 16\n",
        "1 4 9 16 25\n",
        "1 4 9 16 25 36\n",
        "\n",
        "\n"
      ],
      "metadata": {
        "id": "6VBRLxRB3YvS"
      },
      "execution_count": null,
      "outputs": []
    },
    {
      "cell_type": "code",
      "source": [
        "#wap  that ask the user to input their name,weight,height and using these data find BMI and inform user that which category they are in according to the following\n",
        "#BMI categories:\n",
        "#underweight= <18.5\n",
        "#normal weight=18.5-24.9\n",
        "#over weight= 25-29.9\n",
        "#obesity =BMI of 30 or greater\n",
        "\n",
        "#wap that asks the user to input thir score(0-100) and then outputs corresponding grade accordng to the following scale:\n",
        "\n",
        "# 90-100:A\n",
        "# 80-89:B\n",
        "# 70-79:C\n",
        "# 60-69:D\n",
        "# below 60:F"
      ],
      "metadata": {
        "colab": {
          "base_uri": "https://localhost:8080/",
          "height": 109
        },
        "id": "qGqSQQSQ7kjX",
        "outputId": "83c0567c-dfec-49cb-974b-82ee5f45c1c2"
      },
      "execution_count": null,
      "outputs": [
        {
          "output_type": "error",
          "ename": "SyntaxError",
          "evalue": "illegal target for annotation (ipython-input-693021861.py, line 10)",
          "traceback": [
            "\u001b[0;36m  File \u001b[0;32m\"/tmp/ipython-input-693021861.py\"\u001b[0;36m, line \u001b[0;32m10\u001b[0m\n\u001b[0;31m    90-100:A\u001b[0m\n\u001b[0m    ^\u001b[0m\n\u001b[0;31mSyntaxError\u001b[0m\u001b[0;31m:\u001b[0m illegal target for annotation\n"
          ]
        }
      ]
    },
    {
      "cell_type": "code",
      "source": [
        "#wap that asks the user to input a number and determine if that number is an odd number greater than 10\n",
        "\n",
        "#wap that asks the user to input a letter from the english alphabet and display whether the character is vowel or consonant\n",
        "\n",
        "#wap that asks the user to input a year and display whether the year is leap year or not\n",
        "\n",
        "#wap  that asks a user to input diameter of a circle and calculate the area of the circle and display it"
      ],
      "metadata": {
        "id": "C1HtJCr39NVd"
      },
      "execution_count": null,
      "outputs": []
    },
    {
      "cell_type": "code",
      "source": [
        "#regular expressions\n",
        "\n",
        "import re\n",
        "\n",
        "#match\n",
        "#search\n",
        "#sub\n",
        "#findall\n",
        "\n",
        "s=\"python is a good programming is language\"\n",
        "\n",
        "re.match(\"python\",s) #starting with\n",
        "print(re.match(\"is\",s))"
      ],
      "metadata": {
        "id": "1zgfkVJtYsXM",
        "colab": {
          "base_uri": "https://localhost:8080/"
        },
        "outputId": "f82b34a6-e63c-448e-89af-2c893160f87d"
      },
      "execution_count": null,
      "outputs": [
        {
          "output_type": "stream",
          "name": "stdout",
          "text": [
            "None\n"
          ]
        }
      ]
    },
    {
      "cell_type": "code",
      "source": [
        "#search\n",
        "\n",
        "re.search(\"is\",s)"
      ],
      "metadata": {
        "colab": {
          "base_uri": "https://localhost:8080/"
        },
        "id": "1qYsCpKdWteN",
        "outputId": "967983da-ece9-4431-ca26-4c16cb2c7b4f"
      },
      "execution_count": null,
      "outputs": [
        {
          "output_type": "execute_result",
          "data": {
            "text/plain": [
              "<re.Match object; span=(7, 9), match='is'>"
            ]
          },
          "metadata": {},
          "execution_count": 5
        }
      ]
    },
    {
      "cell_type": "code",
      "source": [
        "#findall\n",
        "\n",
        "re.findall(\"is\",s)"
      ],
      "metadata": {
        "colab": {
          "base_uri": "https://localhost:8080/"
        },
        "id": "WMgx2CX4X_m-",
        "outputId": "58fbc37a-1850-411e-d650-e6fe79023b71"
      },
      "execution_count": null,
      "outputs": [
        {
          "output_type": "execute_result",
          "data": {
            "text/plain": [
              "['is', 'is']"
            ]
          },
          "metadata": {},
          "execution_count": 7
        }
      ]
    },
    {
      "cell_type": "code",
      "source": [
        "#sub\n",
        "\n",
        "re.sub(\"is\",\"was\",s)"
      ],
      "metadata": {
        "colab": {
          "base_uri": "https://localhost:8080/",
          "height": 36
        },
        "id": "uvbHlf_XYXSD",
        "outputId": "95d95a7c-4063-446a-e1dc-98a51a6817c4"
      },
      "execution_count": null,
      "outputs": [
        {
          "output_type": "execute_result",
          "data": {
            "text/plain": [
              "'python was a good programming was language'"
            ],
            "application/vnd.google.colaboratory.intrinsic+json": {
              "type": "string"
            }
          },
          "metadata": {},
          "execution_count": 8
        }
      ]
    },
    {
      "cell_type": "code",
      "source": [
        "#wap to search a particular word in a given string using re\n",
        "\n",
        "s=\"apples are oranges\"\n",
        "\n",
        "re.search(\"are\",s)"
      ],
      "metadata": {
        "colab": {
          "base_uri": "https://localhost:8080/"
        },
        "id": "Q_R1QjHMYuzV",
        "outputId": "b207ef4b-1fb2-424a-d899-5b2dc90f2279"
      },
      "execution_count": null,
      "outputs": [
        {
          "output_type": "execute_result",
          "data": {
            "text/plain": [
              "<re.Match object; span=(7, 10), match='are'>"
            ]
          },
          "metadata": {},
          "execution_count": 9
        }
      ]
    },
    {
      "cell_type": "code",
      "source": [
        "s=\"python1 is 333 good programming language ABCD\"\n",
        "\n",
        "re.sub(\"[a-dA-D]\",\"@\",s)\n",
        "re.sub(\"[^a-z A-Z]\",\"@\",s)\n",
        "\n",
        "re.sub(\"[^a-z A-Z]\",\"\",s)\n",
        "\n",
        "re.sub(\"[a-d]\",\"@\",s)\n",
        "\n",
        "# re.sub(\"\\d\",\"\",s)\n",
        "\n",
        "re.sub(\"[0-9]\",\"\",s)\n",
        "\n",
        "re.sub(r\"\\d\",\"\",s)"
      ],
      "metadata": {
        "colab": {
          "base_uri": "https://localhost:8080/",
          "height": 36
        },
        "id": "ADI4qNPMZI8t",
        "outputId": "455b5779-f4a3-495a-acf0-910d230e26a6"
      },
      "execution_count": null,
      "outputs": [
        {
          "output_type": "execute_result",
          "data": {
            "text/plain": [
              "'python is  good programming language ABCD'"
            ],
            "application/vnd.google.colaboratory.intrinsic+json": {
              "type": "string"
            }
          },
          "metadata": {},
          "execution_count": 46
        }
      ]
    },
    {
      "cell_type": "code",
      "source": [
        "s=\"123,455\"\n",
        "\n",
        "re.findall(\"/d\",s)"
      ],
      "metadata": {
        "colab": {
          "base_uri": "https://localhost:8080/"
        },
        "id": "RddT7mc7dgYW",
        "outputId": "4e9f27cf-949d-467c-c2e7-75d0e94a9029"
      },
      "execution_count": null,
      "outputs": [
        {
          "output_type": "execute_result",
          "data": {
            "text/plain": [
              "[]"
            ]
          },
          "metadata": {},
          "execution_count": 35
        }
      ]
    },
    {
      "cell_type": "code",
      "source": [
        "from string import whitespace\n",
        "s=\"1234 apple 54ora5ngee are\"\n",
        "\n",
        "\n",
        "re.sub(r\"\\s\",\"9\",s)\n",
        "\n",
        "# \\s: to remove whitespace\n",
        "# \\d:to remove digits\n",
        "# \\D:to remove alphabets"
      ],
      "metadata": {
        "colab": {
          "base_uri": "https://localhost:8080/",
          "height": 36
        },
        "id": "5w1QBIkWe1DW",
        "outputId": "3b2f3308-5dce-4137-a88f-161e06d1decf"
      },
      "execution_count": null,
      "outputs": [
        {
          "output_type": "execute_result",
          "data": {
            "text/plain": [
              "'12349apple954ora5ngee9are'"
            ],
            "application/vnd.google.colaboratory.intrinsic+json": {
              "type": "string"
            }
          },
          "metadata": {},
          "execution_count": 50
        }
      ]
    },
    {
      "cell_type": "code",
      "source": [
        "#recurssion :a function calling itself"
      ],
      "metadata": {
        "id": "iHRD8F5xiFjr"
      },
      "execution_count": null,
      "outputs": []
    },
    {
      "cell_type": "code",
      "source": [
        "#wap to find factorial of a numbr using recurssion\n",
        "\n",
        "\n",
        "def fact(n):\n",
        "  return n*fact(n-1)\n",
        "\n",
        "\n",
        "fact(5)"
      ],
      "metadata": {
        "colab": {
          "base_uri": "https://localhost:8080/",
          "height": 369
        },
        "id": "rpx7NOfniRUi",
        "outputId": "67a01c16-e953-47ab-9800-6fafcd97559e"
      },
      "execution_count": null,
      "outputs": [
        {
          "output_type": "error",
          "ename": "RecursionError",
          "evalue": "maximum recursion depth exceeded",
          "traceback": [
            "\u001b[0;31m---------------------------------------------------------------------------\u001b[0m",
            "\u001b[0;31mRecursionError\u001b[0m                            Traceback (most recent call last)",
            "\u001b[0;32m/tmp/ipython-input-1885809646.py\u001b[0m in \u001b[0;36m<cell line: 0>\u001b[0;34m()\u001b[0m\n\u001b[1;32m      6\u001b[0m \u001b[0;34m\u001b[0m\u001b[0m\n\u001b[1;32m      7\u001b[0m \u001b[0;34m\u001b[0m\u001b[0m\n\u001b[0;32m----> 8\u001b[0;31m \u001b[0mfact\u001b[0m\u001b[0;34m(\u001b[0m\u001b[0;36m5\u001b[0m\u001b[0;34m)\u001b[0m\u001b[0;34m\u001b[0m\u001b[0;34m\u001b[0m\u001b[0m\n\u001b[0m",
            "\u001b[0;32m/tmp/ipython-input-1885809646.py\u001b[0m in \u001b[0;36mfact\u001b[0;34m(n)\u001b[0m\n\u001b[1;32m      3\u001b[0m \u001b[0;34m\u001b[0m\u001b[0m\n\u001b[1;32m      4\u001b[0m \u001b[0;32mdef\u001b[0m \u001b[0mfact\u001b[0m\u001b[0;34m(\u001b[0m\u001b[0mn\u001b[0m\u001b[0;34m)\u001b[0m\u001b[0;34m:\u001b[0m\u001b[0;34m\u001b[0m\u001b[0;34m\u001b[0m\u001b[0m\n\u001b[0;32m----> 5\u001b[0;31m   \u001b[0;32mreturn\u001b[0m \u001b[0mn\u001b[0m\u001b[0;34m*\u001b[0m\u001b[0mfact\u001b[0m\u001b[0;34m(\u001b[0m\u001b[0mn\u001b[0m\u001b[0;34m-\u001b[0m\u001b[0;36m1\u001b[0m\u001b[0;34m)\u001b[0m\u001b[0;34m\u001b[0m\u001b[0;34m\u001b[0m\u001b[0m\n\u001b[0m\u001b[1;32m      6\u001b[0m \u001b[0;34m\u001b[0m\u001b[0m\n\u001b[1;32m      7\u001b[0m \u001b[0;34m\u001b[0m\u001b[0m\n",
            "... last 1 frames repeated, from the frame below ...\n",
            "\u001b[0;32m/tmp/ipython-input-1885809646.py\u001b[0m in \u001b[0;36mfact\u001b[0;34m(n)\u001b[0m\n\u001b[1;32m      3\u001b[0m \u001b[0;34m\u001b[0m\u001b[0m\n\u001b[1;32m      4\u001b[0m \u001b[0;32mdef\u001b[0m \u001b[0mfact\u001b[0m\u001b[0;34m(\u001b[0m\u001b[0mn\u001b[0m\u001b[0;34m)\u001b[0m\u001b[0;34m:\u001b[0m\u001b[0;34m\u001b[0m\u001b[0;34m\u001b[0m\u001b[0m\n\u001b[0;32m----> 5\u001b[0;31m   \u001b[0;32mreturn\u001b[0m \u001b[0mn\u001b[0m\u001b[0;34m*\u001b[0m\u001b[0mfact\u001b[0m\u001b[0;34m(\u001b[0m\u001b[0mn\u001b[0m\u001b[0;34m-\u001b[0m\u001b[0;36m1\u001b[0m\u001b[0;34m)\u001b[0m\u001b[0;34m\u001b[0m\u001b[0;34m\u001b[0m\u001b[0m\n\u001b[0m\u001b[1;32m      6\u001b[0m \u001b[0;34m\u001b[0m\u001b[0m\n\u001b[1;32m      7\u001b[0m \u001b[0;34m\u001b[0m\u001b[0m\n",
            "\u001b[0;31mRecursionError\u001b[0m: maximum recursion depth exceeded"
          ]
        }
      ]
    },
    {
      "cell_type": "code",
      "source": [
        "#wap to find sum of n natural numbers using recursion\n",
        "def s(n):\n",
        "  if n==1:\n",
        "    return 1\n",
        "  else:\n",
        "    return n+s(n-1)\n",
        "\n",
        "s(5)"
      ],
      "metadata": {
        "colab": {
          "base_uri": "https://localhost:8080/"
        },
        "id": "M5VXBxkfkMZd",
        "outputId": "e3717983-9f9e-4731-8230-9c40b8d0f15d"
      },
      "execution_count": null,
      "outputs": [
        {
          "output_type": "execute_result",
          "data": {
            "text/plain": [
              "15"
            ]
          },
          "metadata": {},
          "execution_count": 52
        }
      ]
    },
    {
      "cell_type": "markdown",
      "source": [],
      "metadata": {
        "id": "BCe2Na-JlKOx"
      }
    },
    {
      "cell_type": "code",
      "source": [
        "class Student():\n",
        "\n",
        "  def get_data(self):\n",
        "    self.name=input(\"enter the name\")\n",
        "    self.rollno=int(input(\"enter the roll no\"))\n",
        "\n",
        "  def display_data(self):\n",
        "    print(self.name)\n",
        "    print(self.rollno)\n",
        "\n",
        "\n",
        "\n",
        "s1=Student()\n",
        "\n",
        "s1.get_data()\n",
        "\n",
        "s1.display_data()\n",
        "\n",
        "s2=Student()"
      ],
      "metadata": {
        "colab": {
          "base_uri": "https://localhost:8080/"
        },
        "id": "SuPSednpoSsU",
        "outputId": "cdcc9c2e-9e25-48bf-9487-c4b5daf9ed8d"
      },
      "execution_count": null,
      "outputs": [
        {
          "output_type": "stream",
          "name": "stdout",
          "text": [
            "enter the nameabu\n",
            "enter the roll no1\n",
            "abu\n",
            "1\n"
          ]
        }
      ]
    },
    {
      "cell_type": "code",
      "source": [
        "#create a class rectangle and display ists area and perimeter\n",
        "\n",
        "class Rectangle():\n",
        "  def get_data(self):\n",
        "    self.l=int(input(\"enter teh length\"))\n",
        "    self.b=int(input(\"enter teh bredth\"))\n",
        "\n",
        "  def area(self):\n",
        "    print(\"area: \",self.l*self.b)\n",
        "\n",
        "  def perimenter(self):\n",
        "    print(\"perimeter=\",2*(self.l+self.b))\n",
        "\n",
        "r=Rectangle()\n",
        "\n",
        "r.get_data()\n",
        "r.area()\n",
        "r.perimenter()\n",
        "\n",
        "r1=Rectangle()\n",
        "r1.get_data()\n",
        "\n",
        "r1.area()\n"
      ],
      "metadata": {
        "colab": {
          "base_uri": "https://localhost:8080/"
        },
        "id": "DqRgC0Zdr04z",
        "outputId": "ee4b6b2f-c115-4784-e193-cf4de7770322"
      },
      "execution_count": null,
      "outputs": [
        {
          "output_type": "stream",
          "name": "stdout",
          "text": [
            "enter teh length3\n",
            "enter teh bredth4\n",
            "area:  12\n",
            "perimeter= 14\n",
            "enter teh length5\n",
            "enter teh bredth6\n",
            "area:  30\n"
          ]
        }
      ]
    },
    {
      "cell_type": "code",
      "source": [
        "#create class of circles display area perimeter"
      ],
      "metadata": {
        "id": "JM6hNMXtwYm-"
      },
      "execution_count": null,
      "outputs": []
    },
    {
      "cell_type": "code",
      "source": [
        "#constructor: __init__() to assign values to data members , automatically calls when object is created"
      ],
      "metadata": {
        "id": "9qM6vN_InF5v"
      },
      "execution_count": null,
      "outputs": []
    },
    {
      "cell_type": "code",
      "source": [
        "class Student():\n",
        "\n",
        "  def __init__(self,n,r):\n",
        "    self.name=n\n",
        "    self.rollno=r\n",
        "\n",
        "  def display_data(self):\n",
        "    print(self.name)\n",
        "    print(self.rollno)\n",
        "\n",
        "\n",
        "s1=Student(\"abu\",1)\n",
        "\n",
        "s1.display_data()"
      ],
      "metadata": {
        "colab": {
          "base_uri": "https://localhost:8080/"
        },
        "id": "C_4EUaZfnwM4",
        "outputId": "d5117ed2-e608-48b6-f9d8-6c6a3a4d69be"
      },
      "execution_count": null,
      "outputs": [
        {
          "output_type": "stream",
          "name": "stdout",
          "text": [
            "abu\n",
            "1\n"
          ]
        }
      ]
    },
    {
      "cell_type": "code",
      "source": [
        "#create class recatangle with constructor\n",
        "\n",
        "class Rectangle():\n",
        "\n",
        "  def __init__(self,l,b):\n",
        "    self.length=l\n",
        "    self.bredth=b\n",
        "\n",
        "  def area(self):\n",
        "    print(\"area=\",self.length*self.bredth)\n",
        "\n",
        "  def perimeter(self):\n",
        "    print(\"perimeter=\",2*(self.length+self.bredth))\n",
        "\n",
        "r=Rectangle(4,5)\n",
        "# r.get_data()\n",
        "\n",
        "r.area()\n",
        "\n",
        "r.perimeter()"
      ],
      "metadata": {
        "colab": {
          "base_uri": "https://localhost:8080/"
        },
        "id": "JngaB4qXpjhi",
        "outputId": "980d1e2d-55b3-4831-f023-c567059fe91c"
      },
      "execution_count": null,
      "outputs": [
        {
          "output_type": "stream",
          "name": "stdout",
          "text": [
            "area= 20\n",
            "perimeter= 18\n"
          ]
        }
      ]
    },
    {
      "cell_type": "code",
      "source": [
        "#create class circle using constructor"
      ],
      "metadata": {
        "id": "c1WV-f1fr9sD"
      },
      "execution_count": null,
      "outputs": []
    },
    {
      "cell_type": "code",
      "source": [
        "#find string reversal using class"
      ],
      "metadata": {
        "id": "t0wU2sHWs_UA"
      },
      "execution_count": null,
      "outputs": []
    },
    {
      "cell_type": "code",
      "source": [
        "#exception handling in python"
      ],
      "metadata": {
        "id": "r-77OrEr8A-0"
      },
      "execution_count": null,
      "outputs": []
    },
    {
      "cell_type": "code",
      "source": [
        "n=int(input(\"enter the number\"))\n",
        "d=int(input(\"enter the denominator\"))\n",
        "\n",
        "try:\n",
        "  print(n/d)\n",
        "except ZeroDivisionError:\n",
        "  print(\"error due to zero division\")\n",
        "\n",
        "except ValueError:\n",
        "  print(\"error due to value error\")\n",
        "\n",
        "except TypeError:\n",
        "  print(\"error due to type error\")\n",
        "\n",
        "except:\n",
        "  print(\"error\")\n",
        "\n"
      ],
      "metadata": {
        "colab": {
          "base_uri": "https://localhost:8080/"
        },
        "id": "foa2fKvK8McL",
        "outputId": "df4556c3-9989-45ed-ff93-e91137d4fe44"
      },
      "execution_count": null,
      "outputs": [
        {
          "output_type": "stream",
          "name": "stdout",
          "text": [
            "enter the number4\n",
            "enter the denominator7\n",
            "0.5714285714285714\n"
          ]
        }
      ]
    },
    {
      "cell_type": "code",
      "source": [
        "n=int(input(\"enter the number\"))\n",
        "d=int(input(\"enter the denominator\"))\n",
        "\n",
        "try:\n",
        "  a=n/d\n",
        "\n",
        "except:\n",
        "  print(\"error occured\")\n",
        "\n",
        "\n",
        "else:\n",
        "  print(a)\n",
        "\n",
        "finally:\n",
        "  print(\"hi\")\n"
      ],
      "metadata": {
        "colab": {
          "base_uri": "https://localhost:8080/"
        },
        "id": "vkPtx1-e9_ss",
        "outputId": "5826d0ec-e4e5-406e-eeb9-096e1d2342a3"
      },
      "execution_count": null,
      "outputs": [
        {
          "output_type": "stream",
          "name": "stdout",
          "text": [
            "enter the number6\n",
            "enter the denominator7\n",
            "0.8571428571428571\n",
            "hi\n"
          ]
        }
      ]
    },
    {
      "cell_type": "code",
      "source": [
        "print(\"gf\"/0)"
      ],
      "metadata": {
        "colab": {
          "base_uri": "https://localhost:8080/",
          "height": 146
        },
        "id": "PqAYhm3n9KK2",
        "outputId": "e5927221-8f79-40f8-ccc7-f7bd1a0aaaa5"
      },
      "execution_count": null,
      "outputs": [
        {
          "output_type": "error",
          "ename": "TypeError",
          "evalue": "unsupported operand type(s) for /: 'str' and 'int'",
          "traceback": [
            "\u001b[0;31m---------------------------------------------------------------------------\u001b[0m",
            "\u001b[0;31mTypeError\u001b[0m                                 Traceback (most recent call last)",
            "\u001b[0;32m/tmp/ipython-input-3093261500.py\u001b[0m in \u001b[0;36m<cell line: 0>\u001b[0;34m()\u001b[0m\n\u001b[0;32m----> 1\u001b[0;31m \u001b[0mprint\u001b[0m\u001b[0;34m(\u001b[0m\u001b[0;34m\"gf\"\u001b[0m\u001b[0;34m/\u001b[0m\u001b[0;36m0\u001b[0m\u001b[0;34m)\u001b[0m\u001b[0;34m\u001b[0m\u001b[0;34m\u001b[0m\u001b[0m\n\u001b[0m",
            "\u001b[0;31mTypeError\u001b[0m: unsupported operand type(s) for /: 'str' and 'int'"
          ]
        }
      ]
    },
    {
      "cell_type": "code",
      "source": [
        "class Rectangle():\n",
        "\n",
        "  def __init__(self,l,b):\n",
        "    self.__length=l\n",
        "    self.bredth=b\n",
        "\n",
        "  def area(self):\n",
        "    print(\"area=\",self.__length*self.bredth)\n",
        "\n",
        "  def perimeter(self):\n",
        "    print(\"perimeter=\",2*(self.__length+self.bredth))\n",
        "\n",
        "r=Rectangle(4,5)\n",
        "\n",
        "#public\n",
        "# print(r.length)\n",
        "# r.area()\n",
        "# r.perimeter()\n",
        "\n",
        "#protected\n",
        "# r.area()\n",
        "\n",
        "# print(r._length)\n",
        "\n",
        "#private\n",
        "\n",
        "r.area()\n",
        "r.perimeter()\n",
        "\n",
        "print(r.__length)\n",
        "\n"
      ],
      "metadata": {
        "colab": {
          "base_uri": "https://localhost:8080/",
          "height": 236
        },
        "id": "lIiLNY7BAPpw",
        "outputId": "f5bc4639-b219-4293-aa0f-23ce90f23e11"
      },
      "execution_count": null,
      "outputs": [
        {
          "output_type": "stream",
          "name": "stdout",
          "text": [
            "area= 20\n",
            "perimeter= 18\n"
          ]
        },
        {
          "output_type": "error",
          "ename": "AttributeError",
          "evalue": "'Rectangle' object has no attribute '__length'",
          "traceback": [
            "\u001b[0;31m---------------------------------------------------------------------------\u001b[0m",
            "\u001b[0;31mAttributeError\u001b[0m                            Traceback (most recent call last)",
            "\u001b[0;32m/tmp/ipython-input-2225728427.py\u001b[0m in \u001b[0;36m<cell line: 0>\u001b[0;34m()\u001b[0m\n\u001b[1;32m     28\u001b[0m \u001b[0mr\u001b[0m\u001b[0;34m.\u001b[0m\u001b[0mperimeter\u001b[0m\u001b[0;34m(\u001b[0m\u001b[0;34m)\u001b[0m\u001b[0;34m\u001b[0m\u001b[0;34m\u001b[0m\u001b[0m\n\u001b[1;32m     29\u001b[0m \u001b[0;34m\u001b[0m\u001b[0m\n\u001b[0;32m---> 30\u001b[0;31m \u001b[0mprint\u001b[0m\u001b[0;34m(\u001b[0m\u001b[0mr\u001b[0m\u001b[0;34m.\u001b[0m\u001b[0m__length\u001b[0m\u001b[0;34m)\u001b[0m\u001b[0;34m\u001b[0m\u001b[0;34m\u001b[0m\u001b[0m\n\u001b[0m\u001b[1;32m     31\u001b[0m \u001b[0;34m\u001b[0m\u001b[0m\n",
            "\u001b[0;31mAttributeError\u001b[0m: 'Rectangle' object has no attribute '__length'"
          ]
        }
      ]
    },
    {
      "cell_type": "code",
      "source": [
        "#inheritance\n",
        "\n",
        "#create a class student\n",
        "  #name\n",
        "  #rollno\n",
        "    #get_data()\n",
        "    #display_data()\n",
        "\n",
        "class Student():\n",
        "  def __init__(self,n,r):\n",
        "    self.name=n\n",
        "    self.rollno=r\n",
        "\n",
        "  def display(self):\n",
        "    print(self.name)\n",
        "    print(self.rollno)\n",
        "\n",
        "\n",
        "#create a class grade\n",
        "  #mark\n",
        "    #readmark()\n",
        "    #displaymark()\n",
        "    #calgrade()\n",
        "      #mark>80  grade  A\n",
        "      #mark>50 grade B\n",
        "      #else faild\n",
        "\n",
        "class Grade(Student):\n",
        "  def __init__(self,n,r,m):\n",
        "    super().__init__(n,r)\n",
        "    self.mark=m\n",
        "\n",
        "  def display(self):\n",
        "    super().display()\n",
        "    # print(self.mark)\n",
        "\n",
        "  def cal_grade(self):\n",
        "    if self.mark>80:\n",
        "      print(\"grade A\")\n",
        "    elif self.mark>50:\n",
        "      print(\"grade B\")\n",
        "    else:\n",
        "      print(\"fail\")\n",
        "\n",
        "s1=Grade(\"apple\",34,90)\n",
        "\n",
        "s1.display()\n",
        "\n"
      ],
      "metadata": {
        "colab": {
          "base_uri": "https://localhost:8080/"
        },
        "id": "zZ0PRJko8dzT",
        "outputId": "16a175e0-3aa2-4dc6-dfa6-51a425492d03"
      },
      "execution_count": null,
      "outputs": [
        {
          "output_type": "stream",
          "name": "stdout",
          "text": [
            "apple\n",
            "34\n",
            "90\n"
          ]
        }
      ]
    },
    {
      "cell_type": "code",
      "source": [
        "#student():\n",
        "  #name\n",
        "  #rollno\n",
        "    #get_data()\n",
        "    #display_data()\n",
        "\n",
        "class Student():\n",
        "  def __init__(self,n,r):\n",
        "    self.name=n\n",
        "    self.rollno=r\n",
        "\n",
        "  def display_data(self):\n",
        "    print(self.name)\n",
        "    print(self.rollno)\n",
        "\n",
        "#test(student):\n",
        "   #testmark\n",
        "     #read_tmark()\n",
        "     #display_tmark()\n",
        "\n",
        "class Test(Student):\n",
        "\n",
        "  def __init__(self,n,r,t):\n",
        "    Student.__init__(self,n,r)\n",
        "    self.testmark=t\n",
        "\n",
        "  def display_tmark(self):\n",
        "    print(self.testmark)\n",
        "\n",
        "\n",
        "#sports():\n",
        "  #smark\n",
        "    #read_smark()\n",
        "    #display_smark()\n",
        "\n",
        "class Sports():\n",
        "  def __init__(self,s):\n",
        "    self.smark=s\n",
        "\n",
        "  def display_smark(self):\n",
        "    print(self.smark)\n",
        "\n",
        "#grade(test,sports)\n",
        " #tm=testmark + smark\n",
        "   #calgrade()\n",
        "\n",
        "class Grade(Test,Sports):\n",
        "\n",
        "  def __init__(self,n,r,t,s):\n",
        "    Test.__init__(self,n,r,t)\n",
        "    Sports.__init__(self,s)\n",
        "\n",
        "\n",
        "\n",
        "  def cal_grade(self):\n",
        "    self.tm=self.testmark+self.smark\n",
        "\n",
        "    if self.tm>80:\n",
        "      print(\"grade A\")\n",
        "    elif self.tm>50:\n",
        "      print(\"grade B\")\n",
        "    else:\n",
        "      print(\"fail\")\n",
        "\n",
        "g1=Grade(\"abu\",22,54,89)\n",
        "g1.display_data()\n",
        "g1.display_tmark()\n",
        "g1.display_smark()\n",
        "g1.cal_grade()\n",
        "\n",
        "# g1.get_data()  #student\n",
        "# g1.read_tmark()#test\n",
        "# g1.read_smark()#sports\n",
        "# g1.display_smark()\n",
        "# g1.cal_grade() #grade\n"
      ],
      "metadata": {
        "id": "cIckoSKhKQis",
        "colab": {
          "base_uri": "https://localhost:8080/"
        },
        "outputId": "a1767ea3-200f-4d50-f0a1-b45503ba499e"
      },
      "execution_count": null,
      "outputs": [
        {
          "output_type": "stream",
          "name": "stdout",
          "text": [
            "abu\n",
            "22\n",
            "54\n",
            "89\n",
            "grade A\n"
          ]
        }
      ]
    },
    {
      "cell_type": "code",
      "source": [
        "#polymorphsm\n",
        "\n",
        "class Point():\n",
        "  def __init__(self,x,y):\n",
        "    self.x=x\n",
        "    self.y=y\n",
        "\n",
        "  def __add__(self,other):\n",
        "    x=self.x+other.x+10\n",
        "    y=self.y+other.y+10\n",
        "    return Point(x,y)\n",
        "\n",
        "  def __str__(self):\n",
        "    return \"({0},{1})\".format(self.x,self.y)\n",
        "\n",
        "p1=Point(1,2)\n",
        "p2=Point(5,6)\n",
        "print(p1+p2)"
      ],
      "metadata": {
        "colab": {
          "base_uri": "https://localhost:8080/"
        },
        "id": "FpDTgVbWnCia",
        "outputId": "aadc73df-f495-416b-91a9-d58d613df55e"
      },
      "execution_count": null,
      "outputs": [
        {
          "output_type": "stream",
          "name": "stdout",
          "text": [
            "(6,6)\n"
          ]
        }
      ]
    },
    {
      "cell_type": "code",
      "source": [
        "# # # #\n",
        "# # # #\n",
        "# # # #\n",
        "\n",
        "\n",
        "for i in range(3):\n",
        "  for j in range(4):\n",
        "    print(i,end=\" \")\n",
        "\n",
        "  print()"
      ],
      "metadata": {
        "colab": {
          "base_uri": "https://localhost:8080/"
        },
        "id": "FP1aW5thjKYf",
        "outputId": "6f28d79b-7fad-40f9-c609-ab594bf10a6b"
      },
      "execution_count": null,
      "outputs": [
        {
          "output_type": "stream",
          "name": "stdout",
          "text": [
            "0 0 0 0 \n",
            "1 1 1 1 \n",
            "2 2 2 2 \n"
          ]
        }
      ]
    },
    {
      "cell_type": "code",
      "source": [
        "for i in range(4):\n",
        "  for j in range(4-i):\n",
        "    print(\"#\",end=\" \")\n",
        "\n",
        "  print()"
      ],
      "metadata": {
        "colab": {
          "base_uri": "https://localhost:8080/"
        },
        "id": "2_-86qeGk61W",
        "outputId": "0399e157-0d61-48fd-cd98-2483ab58002d"
      },
      "execution_count": null,
      "outputs": [
        {
          "output_type": "stream",
          "name": "stdout",
          "text": [
            "# # # # \n",
            "# # # \n",
            "# # \n",
            "# \n"
          ]
        }
      ]
    },
    {
      "cell_type": "code",
      "source": [
        "import numpy as np #numerical python\n",
        "\n",
        "#array  collection of data with same datatype(Homogenious)\n",
        "\n",
        "a=np.array([1,2,3.0,4,\"a\"])\n",
        "print(a)"
      ],
      "metadata": {
        "colab": {
          "base_uri": "https://localhost:8080/"
        },
        "id": "7ijyRsGEFmkz",
        "outputId": "baca2d83-d979-49fd-9620-4de7012a61c3"
      },
      "execution_count": null,
      "outputs": [
        {
          "output_type": "stream",
          "name": "stdout",
          "text": [
            "['1' '2' '3.0' '4' 'a']\n"
          ]
        }
      ]
    },
    {
      "cell_type": "code",
      "source": [
        "#slicing forward slicing backward slicing\n",
        "\n",
        "b=np.array([1,2,3,4,5])\n",
        "\n",
        "#print 1,2\n",
        "\n",
        "b[0:2]\n",
        "# print 5,4\n",
        "\n",
        "b[-1:-3:-1]\n",
        "\n",
        "# print 4,5\n",
        "\n",
        "b[3:]\n",
        "\n",
        "# print 2,1\n",
        "b[-4::-1]"
      ],
      "metadata": {
        "colab": {
          "base_uri": "https://localhost:8080/"
        },
        "id": "qiwKX_AhHLgS",
        "outputId": "a494a354-96a3-46d3-e628-0f02d2b4cc12"
      },
      "execution_count": null,
      "outputs": [
        {
          "output_type": "execute_result",
          "data": {
            "text/plain": [
              "array([2, 1])"
            ]
          },
          "metadata": {},
          "execution_count": 10
        }
      ]
    },
    {
      "cell_type": "code",
      "source": [
        "#diamension\n",
        "\n",
        "a=np.array([0,2,3,4,5])\n",
        "b=np.array([[1,2],[3,4]])\n",
        "\n",
        "a.ndim  #diamension=1 vector\n",
        "\n",
        "b.ndim #diamesion =2 matrix\n",
        "\n",
        "print(b)\n",
        "\n",
        "b.shape"
      ],
      "metadata": {
        "colab": {
          "base_uri": "https://localhost:8080/"
        },
        "id": "wfluUWztJESg",
        "outputId": "a95d4c10-8151-4f87-9d60-87064d0cc190"
      },
      "execution_count": null,
      "outputs": [
        {
          "output_type": "stream",
          "name": "stdout",
          "text": [
            "[[1 2]\n",
            " [3 4]]\n"
          ]
        },
        {
          "output_type": "execute_result",
          "data": {
            "text/plain": [
              "(2, 2)"
            ]
          },
          "metadata": {},
          "execution_count": 15
        }
      ]
    },
    {
      "cell_type": "code",
      "source": [
        "#create a 2x2 matrix 2,3,\n",
        "                    #4,5\n",
        "\n",
        "z=np.array([[2,3],[4,5]])\n",
        "\n",
        "print(z)\n",
        "\n",
        "print(z.shape)\n",
        "\n",
        "print(z.ndim)\n",
        "\n",
        "print(z.size)"
      ],
      "metadata": {
        "colab": {
          "base_uri": "https://localhost:8080/"
        },
        "id": "ppPvJiiFKYkV",
        "outputId": "d17512c2-b281-4a25-b3ac-2589a63a9c2b"
      },
      "execution_count": null,
      "outputs": [
        {
          "output_type": "stream",
          "name": "stdout",
          "text": [
            "[[2 3]\n",
            " [4 5]]\n",
            "(2, 2)\n",
            "2\n",
            "4\n"
          ]
        }
      ]
    },
    {
      "cell_type": "code",
      "source": [
        "#create a 2x3 matrix and print ,size,shape,diamension\n",
        "\n",
        "a=np.array([[1,2,3],[4,5,6]])\n",
        "print(a)\n",
        "print(a.size)\n",
        "print(a.ndim)"
      ],
      "metadata": {
        "colab": {
          "base_uri": "https://localhost:8080/"
        },
        "id": "dNnGET_hLZar",
        "outputId": "cb53e312-eb9c-4623-94b1-75e35f8b6b7e"
      },
      "execution_count": null,
      "outputs": [
        {
          "output_type": "stream",
          "name": "stdout",
          "text": [
            "[[1 2 3]\n",
            " [4 5 6]]\n",
            "6\n",
            "2\n"
          ]
        }
      ]
    },
    {
      "cell_type": "code",
      "source": [
        "#create 4x2 matrix display its  size shape diamension"
      ],
      "metadata": {
        "id": "0k-mmUH4MUQ4"
      },
      "execution_count": null,
      "outputs": []
    },
    {
      "cell_type": "code",
      "source": [
        "#create a 4x4 matrix\n",
        "import numpy as np\n",
        "\n",
        "z=np.array([[1,2,3,4],[5,3,2,2],[7,6,5,3],[3,4,3,2]])\n",
        "print(z)\n"
      ],
      "metadata": {
        "colab": {
          "base_uri": "https://localhost:8080/"
        },
        "id": "-UVHMtiTNXee",
        "outputId": "8d0bb21b-3f82-4fd1-a7bb-b8e5233f1471"
      },
      "execution_count": null,
      "outputs": [
        {
          "output_type": "stream",
          "name": "stdout",
          "text": [
            "[[1 2 3 4]\n",
            " [5 3 2 2]\n",
            " [7 6 5 3]\n",
            " [3 4 3 2]]\n"
          ]
        }
      ]
    },
    {
      "cell_type": "code",
      "source": [
        "z[0]\n",
        "\n",
        "z[:,0]\n",
        "\n",
        "z[1,1]\n",
        "\n",
        "z[2,2]\n",
        "\n",
        "z[3,2:]\n",
        "\n",
        "z[2:,2:]"
      ],
      "metadata": {
        "colab": {
          "base_uri": "https://localhost:8080/"
        },
        "id": "H3Rsb2JuFJAj",
        "outputId": "6cea5cb5-0a23-4e0c-974a-26d8f092d2b2"
      },
      "execution_count": null,
      "outputs": [
        {
          "output_type": "execute_result",
          "data": {
            "text/plain": [
              "array([[5, 3],\n",
              "       [3, 2]])"
            ]
          },
          "metadata": {},
          "execution_count": 8
        }
      ]
    },
    {
      "cell_type": "code",
      "source": [
        "#zero matrix\n",
        "\n",
        "\n",
        "z=np.zeros([2,3,3],dtype=int)\n",
        "\n",
        "z"
      ],
      "metadata": {
        "colab": {
          "base_uri": "https://localhost:8080/"
        },
        "id": "n3nD_PUPJo9O",
        "outputId": "02d7dfac-a18d-4471-a835-a8be24dbfd7c"
      },
      "execution_count": null,
      "outputs": [
        {
          "output_type": "execute_result",
          "data": {
            "text/plain": [
              "array([[[0, 0, 0],\n",
              "        [0, 0, 0],\n",
              "        [0, 0, 0]],\n",
              "\n",
              "       [[0, 0, 0],\n",
              "        [0, 0, 0],\n",
              "        [0, 0, 0]]])"
            ]
          },
          "metadata": {},
          "execution_count": 14
        }
      ]
    },
    {
      "cell_type": "code",
      "source": [
        "#one matrix\n",
        "\n",
        "z=np.ones([3,3],dtype=int)\n",
        "z"
      ],
      "metadata": {
        "colab": {
          "base_uri": "https://localhost:8080/"
        },
        "id": "Q7SRM5J5KdOu",
        "outputId": "326dfbd8-5538-409a-f29b-22b80aaaa300"
      },
      "execution_count": null,
      "outputs": [
        {
          "output_type": "execute_result",
          "data": {
            "text/plain": [
              "array([[1, 1, 1],\n",
              "       [1, 1, 1],\n",
              "       [1, 1, 1]])"
            ]
          },
          "metadata": {},
          "execution_count": 16
        }
      ]
    },
    {
      "cell_type": "code",
      "source": [
        "#create two 2x2 matrix\n",
        "\n",
        "a=np.array([[1,2],[3,4]])\n",
        "b=np.array([[3,1],[6,7]])\n",
        "print(a)\n",
        "print(b)"
      ],
      "metadata": {
        "colab": {
          "base_uri": "https://localhost:8080/"
        },
        "id": "mSILcEDHKuxc",
        "outputId": "af7b53a7-7cc5-45fd-90c7-246ab5e4a348"
      },
      "execution_count": null,
      "outputs": [
        {
          "output_type": "stream",
          "name": "stdout",
          "text": [
            "[[1 2]\n",
            " [3 4]]\n",
            "[[3 1]\n",
            " [6 7]]\n"
          ]
        }
      ]
    },
    {
      "cell_type": "code",
      "source": [
        "#matrix addition\n",
        "\n",
        "print(a+b)\n",
        "\n",
        "#matrix substraction\n",
        "\n",
        "print(a-b)\n",
        "\n",
        "#matrix multiplicatione\n",
        "\n",
        "print(a*b) #not a matrix multiplication\n",
        "\n",
        "print(a@b) #matrix multiplication\n",
        "\n",
        "print(a.dot(b)) #matrix multiplication\n",
        "\n",
        "#matrix division\n",
        "\n",
        "print(a/b)"
      ],
      "metadata": {
        "colab": {
          "base_uri": "https://localhost:8080/"
        },
        "id": "9b7pAFx-LNmk",
        "outputId": "9820ab0a-e313-4629-f9d6-b2e1aba84fb8"
      },
      "execution_count": null,
      "outputs": [
        {
          "output_type": "stream",
          "name": "stdout",
          "text": [
            "[[ 4  3]\n",
            " [ 9 11]]\n",
            "[[-2  1]\n",
            " [-3 -3]]\n",
            "[[ 3  2]\n",
            " [18 28]]\n",
            "[[15 15]\n",
            " [33 31]]\n",
            "[[15 15]\n",
            " [33 31]]\n",
            "[[0.33333333 2.        ]\n",
            " [0.5        0.57142857]]\n"
          ]
        }
      ]
    },
    {
      "cell_type": "code",
      "source": [
        "#full matrix\n",
        "\n",
        "z=np.full([3,3],7,dtype=int)\n",
        "\n",
        "z"
      ],
      "metadata": {
        "colab": {
          "base_uri": "https://localhost:8080/"
        },
        "id": "zdhB93okNtT4",
        "outputId": "6222e1eb-8729-4a92-c961-4d0f1f88b457"
      },
      "execution_count": null,
      "outputs": [
        {
          "output_type": "execute_result",
          "data": {
            "text/plain": [
              "array([[7, 7, 7],\n",
              "       [7, 7, 7],\n",
              "       [7, 7, 7]])"
            ]
          },
          "metadata": {},
          "execution_count": 30
        }
      ]
    },
    {
      "cell_type": "code",
      "source": [
        "#create 3x4 matirx with value 9 and datatype complex"
      ],
      "metadata": {
        "id": "aY02yeMiOYbX"
      },
      "execution_count": null,
      "outputs": []
    },
    {
      "cell_type": "code",
      "source": [
        "#identity matrix\n",
        "\n",
        "# z=np.identity(3,dtype=int)\n",
        "# z\n",
        "\n",
        "z=np.eye(3)\n",
        "z"
      ],
      "metadata": {
        "colab": {
          "base_uri": "https://localhost:8080/"
        },
        "id": "KP72IWcgP_8i",
        "outputId": "35c7c054-8447-45b7-e2f4-9c75740f0804"
      },
      "execution_count": null,
      "outputs": [
        {
          "output_type": "execute_result",
          "data": {
            "text/plain": [
              "array([[1., 0., 0.],\n",
              "       [0., 1., 0.],\n",
              "       [0., 0., 1.]])"
            ]
          },
          "metadata": {},
          "execution_count": 39
        }
      ]
    },
    {
      "cell_type": "code",
      "source": [
        "#create a 4x4 matrix\n",
        "\n",
        "y=np.array([[1,2,3,4],[5,6,7,8],[9,10,11,12],[13,14,15,16]])\n",
        "print(y)\n",
        "\n",
        "print(y.size)"
      ],
      "metadata": {
        "colab": {
          "base_uri": "https://localhost:8080/"
        },
        "id": "HP3h5kd_Qq-f",
        "outputId": "432baad8-211d-4710-8fc3-537724ebcead"
      },
      "execution_count": null,
      "outputs": [
        {
          "output_type": "stream",
          "name": "stdout",
          "text": [
            "[[ 1  2  3  4]\n",
            " [ 5  6  7  8]\n",
            " [ 9 10 11 12]\n",
            " [13 14 15 16]]\n",
            "16\n"
          ]
        }
      ]
    },
    {
      "cell_type": "code",
      "source": [
        "a=y.reshape(16,1)\n",
        "a"
      ],
      "metadata": {
        "colab": {
          "base_uri": "https://localhost:8080/"
        },
        "id": "fMXezAysRYgO",
        "outputId": "bcff644c-36bb-4cf6-e69e-d5051ceaddcc"
      },
      "execution_count": null,
      "outputs": [
        {
          "output_type": "execute_result",
          "data": {
            "text/plain": [
              "array([[ 1],\n",
              "       [ 2],\n",
              "       [ 3],\n",
              "       [ 4],\n",
              "       [ 5],\n",
              "       [ 6],\n",
              "       [ 7],\n",
              "       [ 8],\n",
              "       [ 9],\n",
              "       [10],\n",
              "       [11],\n",
              "       [12],\n",
              "       [13],\n",
              "       [14],\n",
              "       [15],\n",
              "       [16]])"
            ]
          },
          "metadata": {},
          "execution_count": 44
        }
      ]
    },
    {
      "cell_type": "code",
      "source": [
        "#arange\n",
        "\n",
        "a=np.arange(1,10,2)\n",
        "a"
      ],
      "metadata": {
        "colab": {
          "base_uri": "https://localhost:8080/"
        },
        "id": "Xh5hN9TcSDq3",
        "outputId": "eb43ef74-1394-4483-8462-e0ec1d4c5468"
      },
      "execution_count": null,
      "outputs": [
        {
          "output_type": "execute_result",
          "data": {
            "text/plain": [
              "array([1, 3, 5, 7, 9])"
            ]
          },
          "metadata": {},
          "execution_count": 46
        }
      ]
    },
    {
      "cell_type": "code",
      "source": [
        "#create a 5x2 matrix using arange\n",
        "\n",
        "z=np.arange(1,11).reshape(5,2)\n",
        "z"
      ],
      "metadata": {
        "colab": {
          "base_uri": "https://localhost:8080/"
        },
        "id": "JKnYB8EISasZ",
        "outputId": "cd9e3cd9-07ac-42c6-a336-e1bdceaa8e8d"
      },
      "execution_count": null,
      "outputs": [
        {
          "output_type": "execute_result",
          "data": {
            "text/plain": [
              "array([[ 1,  2],\n",
              "       [ 3,  4],\n",
              "       [ 5,  6],\n",
              "       [ 7,  8],\n",
              "       [ 9, 10]])"
            ]
          },
          "metadata": {},
          "execution_count": 48
        }
      ]
    },
    {
      "cell_type": "code",
      "source": [
        "#create a 3x3 matirx with float values\n",
        "\n",
        "a=np.array([[2.5,3.6,3.5],[1.5,1.1,6.5],[7.1,2.5,7.1]])\n",
        "a"
      ],
      "metadata": {
        "colab": {
          "base_uri": "https://localhost:8080/"
        },
        "id": "7J3tSui5TGZg",
        "outputId": "de7586d8-2fbc-473d-b649-170561a2c11f"
      },
      "execution_count": null,
      "outputs": [
        {
          "output_type": "execute_result",
          "data": {
            "text/plain": [
              "array([[2.5, 3.6, 3.5],\n",
              "       [1.5, 1.1, 6.5],\n",
              "       [7.1, 2.5, 7.1]])"
            ]
          },
          "metadata": {},
          "execution_count": 49
        }
      ]
    },
    {
      "cell_type": "code",
      "source": [
        "#floor\n",
        "\n",
        "z=np.floor(a)\n",
        "z"
      ],
      "metadata": {
        "colab": {
          "base_uri": "https://localhost:8080/"
        },
        "id": "I_ywd3ZxUf9g",
        "outputId": "230a4ec2-ac73-46b9-ccf2-0fb141cbe8a9"
      },
      "execution_count": null,
      "outputs": [
        {
          "output_type": "execute_result",
          "data": {
            "text/plain": [
              "array([[2., 3., 3.],\n",
              "       [1., 1., 6.],\n",
              "       [7., 2., 7.]])"
            ]
          },
          "metadata": {},
          "execution_count": 50
        }
      ]
    },
    {
      "cell_type": "code",
      "source": [
        "#ceil\n",
        "z=np.ceil(a)\n",
        "z"
      ],
      "metadata": {
        "colab": {
          "base_uri": "https://localhost:8080/"
        },
        "id": "LI5w4d0UU73z",
        "outputId": "be039f64-40e4-4615-a4b0-035c7624a5a0"
      },
      "execution_count": null,
      "outputs": [
        {
          "output_type": "execute_result",
          "data": {
            "text/plain": [
              "array([[3., 4., 4.],\n",
              "       [2., 2., 7.],\n",
              "       [8., 3., 8.]])"
            ]
          },
          "metadata": {},
          "execution_count": 52
        }
      ]
    },
    {
      "cell_type": "code",
      "source": [
        "#round\n",
        "\n",
        "\n",
        "z=np.round(a)\n",
        "z"
      ],
      "metadata": {
        "colab": {
          "base_uri": "https://localhost:8080/"
        },
        "id": "cE0VSpxzVX6E",
        "outputId": "29a92ebc-ba59-45d1-d2c7-a3ca209957c3"
      },
      "execution_count": null,
      "outputs": [
        {
          "output_type": "execute_result",
          "data": {
            "text/plain": [
              "array([[2., 4., 4.],\n",
              "       [2., 1., 6.],\n",
              "       [7., 2., 7.]])"
            ]
          },
          "metadata": {},
          "execution_count": 53
        }
      ]
    },
    {
      "cell_type": "code",
      "source": [
        "#create a 3x3 matrix\n",
        "import numpy as np\n",
        "\n",
        "a=np.arange(1,10).reshape(3,3)\n",
        "print(a)\n",
        "\n",
        "a.max()\n",
        "\n",
        "a.max(axis=1)\n",
        "\n",
        "a.max(axis=0)\n",
        "\n",
        "\n",
        "a.min()\n",
        "\n",
        "a.min(axis=1)\n",
        "\n",
        "a.min(axis=0)\n",
        "\n",
        "\n",
        "a.sum()\n",
        "\n",
        "a.sum(axis=1)\n",
        "\n",
        "a.sum(axis=0)\n",
        "\n",
        "\n",
        "np.sqrt(a)\n",
        "\n",
        "np.sin(a)\n",
        "\n",
        "np.cos(a)\n",
        "\n",
        "np.tan(a)\n",
        "\n",
        "#flatten\n",
        "\n",
        "a.flatten()"
      ],
      "metadata": {
        "colab": {
          "base_uri": "https://localhost:8080/"
        },
        "id": "ritTtQQmW4ZP",
        "outputId": "07fb4610-cf8b-4d7a-d995-61e9b25df87a"
      },
      "execution_count": 10,
      "outputs": [
        {
          "output_type": "stream",
          "name": "stdout",
          "text": [
            "[[1 2 3]\n",
            " [4 5 6]\n",
            " [7 8 9]]\n"
          ]
        },
        {
          "output_type": "execute_result",
          "data": {
            "text/plain": [
              "array([1, 2, 3, 4, 5, 6, 7, 8, 9])"
            ]
          },
          "metadata": {},
          "execution_count": 10
        }
      ]
    },
    {
      "cell_type": "code",
      "source": [
        "#sort\n",
        "#create 3x3 matrix\n",
        "\n",
        "a=np.array([[3,4,1],[5,3,1],[6,9,8]])\n",
        "\n",
        "print(a)\n",
        "\n",
        "b=np.sort(a,axis=1)\n",
        "print(b)\n",
        "\n",
        "c=np.argsort(a,axis=1)\n",
        "print(c)"
      ],
      "metadata": {
        "colab": {
          "base_uri": "https://localhost:8080/"
        },
        "id": "hCGAruKUlai3",
        "outputId": "3c5e8cfb-0e1d-4a56-f07b-700d0e3cb860"
      },
      "execution_count": 15,
      "outputs": [
        {
          "output_type": "stream",
          "name": "stdout",
          "text": [
            "[[3 4 1]\n",
            " [5 3 1]\n",
            " [6 9 8]]\n",
            "[[1 3 4]\n",
            " [1 3 5]\n",
            " [6 8 9]]\n",
            "[[2 0 1]\n",
            " [2 1 0]\n",
            " [0 2 1]]\n"
          ]
        }
      ]
    }
  ]
}